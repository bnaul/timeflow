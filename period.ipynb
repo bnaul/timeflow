{
 "cells": [
  {
   "cell_type": "code",
   "execution_count": null,
   "metadata": {
    "collapsed": false
   },
   "outputs": [],
   "source": [
    "import numpy as np\n",
    "import matplotlib.pyplot as plt\n",
    "import seaborn as sns\n",
    "%matplotlib inline\n",
    "plt.rcParams['figure.figsize'] = 9, 6\n",
    "%load_ext autoreload\n",
    "%autoreload 2\n",
    "import sample_data\n",
    "\n",
    "np.random.seed(0)\n",
    "N_train = 50000; N_test = 10000\n",
    "N = N_train + N_test\n",
    "train = np.arange(N_train); test = np.arange(N_test) + N_train\n",
    "n_min = 250; n_max = 250\n",
    "\n",
    "X, y = sample_data.periodic(N, n_min, n_max, t_max=2*np.pi, even=False,\n",
    "                            A=1., sigma=2., w_min=0.1, w_max=1.)"
   ]
  },
  {
   "cell_type": "code",
   "execution_count": null,
   "metadata": {
    "collapsed": false
   },
   "outputs": [],
   "source": [
    "fig, ax = plt.subplots(2, 3, sharey=True)\n",
    "for j in range(6):\n",
    "#    i = np.where(y == j)[0][0]\n",
    "    i = j\n",
    "#    ax.ravel()[j].plot(np.linspace(0, n_max, n_max), X[i], 'o')\n",
    "    ax.ravel()[j].plot(X[i][:, 0], X[i][:, 1], 'o')\n",
    "    ax.ravel()[j].set(xlabel=\"t\", ylabel=\"y\")"
   ]
  },
  {
   "cell_type": "raw",
   "metadata": {},
   "source": [
    "from keras.callbacks import Callback\n",
    "from IPython.core.display import clear_output\n",
    "\n",
    "class ClearOutput(Callback):\n",
    "    def on_epoch_end(self, epoch, logs={}):\n",
    "        clear_output(wait=True)"
   ]
  },
  {
   "cell_type": "code",
   "execution_count": null,
   "metadata": {
    "collapsed": false
   },
   "outputs": [],
   "source": [
    "import os\n",
    "import tensorflow as tf\n",
    "from keras import backend as K\n",
    "from keras.layers import (Input, Dense, TimeDistributed, Activation, LSTM,\n",
    "                          Dropout, merge, Reshape, Flatten, RepeatVector)\n",
    "from keras.models import Model, Sequential\n",
    "from keras.optimizers import Adam\n",
    "from keras.callbacks import ProgbarLogger, TensorBoard\n",
    "from keras.utils.visualize_util import model_to_dot\n",
    "from IPython.display import clear_output, SVG, display\n",
    "\n",
    "\n",
    "lr = 2e-3\n",
    "for lstm_size in [128, 256]:\n",
    "    for num_layers in [3, 4]:\n",
    "        for drop_frac in [0.5]:\n",
    "            sess = tf.Session(config=tf.ConfigProto(gpu_options=tf.GPUOptions(per_process_gpu_memory_fraction=0.7)))\n",
    "            K.set_session(sess)\n",
    "\n",
    "            run = \"lstm_{:03d}_x{}_{:1.0e}_drop{}\".format(lstm_size, num_layers, lr, drop_frac).replace('e-', 'm').replace('.', '')\n",
    "            print(run)\n",
    "            model = Sequential()\n",
    "            model.add(LSTM(lstm_size, input_shape=(n_max, 2), return_sequences=(num_layers > 1)))\n",
    "            for i in range(1, num_layers):\n",
    "                model.add(Dropout(drop_frac))\n",
    "                model.add(LSTM(lstm_size, return_sequences=(i != num_layers - 1)))\n",
    "            model.add(Dense(1, activation='linear'))\n",
    "            adam = Adam(lr=lr)\n",
    "            model.compile(optimizer=adam, loss='mse', metrics=[])\n",
    "\n",
    "            model_dot = model_to_dot(model).create(prog='dot', format='svg')\n",
    "            print('{} MB'.format(model.count_params() * np.dtype('float32').itemsize / 1e6))\n",
    "            print(model.summary())\n",
    "#            display(SVG(model_dot))\n",
    "            \n",
    "            log_dir = os.path.expanduser('~/Dropbox/Documents/timeflow/keras_logs/period/{}'.format(run))\n",
    "            !rm -rf $log_dir\n",
    "            #if os.path.exists(log_dir):\n",
    "            #    raise Exception(\"Log directory already exists, not overwriting\")\n",
    "            history = model.fit(X[train], y[train], \n",
    "                                 nb_epoch=25, batch_size=1000, validation_split=0.2,\n",
    "                                 callbacks=[ProgbarLogger(), TensorBoard(log_dir=log_dir, write_graph=False)])\n",
    "            model.save_weights(os.path.join(log_dir, 'weights.h5'), overwrite=True)\n",
    "            tf.reset_default_graph()\n",
    "            clear_output()"
   ]
  },
  {
   "cell_type": "code",
   "execution_count": null,
   "metadata": {
    "collapsed": false
   },
   "outputs": [],
   "source": [
    "%%time\n",
    "pred_keras = model.predict(X[test]).ravel()"
   ]
  },
  {
   "cell_type": "code",
   "execution_count": null,
   "metadata": {
    "collapsed": false
   },
   "outputs": [],
   "source": [
    "%%time\n",
    "from gatspy.periodic import LombScargleFast\n",
    "\n",
    "pred_gatspy = np.zeros(N_test)\n",
    "for i in range(N_test):\n",
    "    opt_args = {'period_range': (0.1, 0.9 * (X[test[i]][-1, 0] - X[test[i]][0, 0])), 'quiet': True}\n",
    "    model_gatspy = LombScargleFast(fit_period=True, optimizer_kwds=opt_args, silence_warnings=True)\n",
    "    pred_gatspy[i] = 1. / model_gatspy.fit(X[test[i]][:, 0], X[test[i]][:, 1]).best_period"
   ]
  },
  {
   "cell_type": "code",
   "execution_count": null,
   "metadata": {
    "collapsed": false
   },
   "outputs": [],
   "source": [
    "sns.jointplot(pred_keras - testY, pred_gatspy - testY)"
   ]
  },
  {
   "cell_type": "code",
   "execution_count": null,
   "metadata": {
    "collapsed": false
   },
   "outputs": [],
   "source": [
    "print(np.median((pred_keras - testY) ** 2))\n",
    "print(np.median((pred_gatspy - testY) ** 2))"
   ]
  }
 ],
 "metadata": {
  "kernelspec": {
   "display_name": "Python 3",
   "language": "python",
   "name": "python3"
  },
  "language_info": {
   "codemirror_mode": {
    "name": "ipython",
    "version": 3
   },
   "file_extension": ".py",
   "mimetype": "text/x-python",
   "name": "python",
   "nbconvert_exporter": "python",
   "pygments_lexer": "ipython3",
   "version": "3.5.1"
  }
 },
 "nbformat": 4,
 "nbformat_minor": 1
}
