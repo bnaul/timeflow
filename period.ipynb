{
 "cells": [
  {
   "cell_type": "code",
   "execution_count": 1,
   "metadata": {
    "collapsed": false
   },
   "outputs": [
    {
     "name": "stdout",
     "output_type": "stream",
     "text": [
      "The autoreload extension is already loaded. To reload it, use:\n",
      "  %reload_ext autoreload\n"
     ]
    }
   ],
   "source": [
    "import numpy as np\n",
    "import matplotlib.pyplot as plt\n",
    "import seaborn as sns\n",
    "%matplotlib inline\n",
    "plt.rcParams['figure.figsize'] = 15, 6\n",
    "%load_ext autoreload\n",
    "%autoreload 2"
   ]
  },
  {
   "cell_type": "code",
   "execution_count": 16,
   "metadata": {
    "collapsed": false
   },
   "outputs": [
    {
     "name": "stdout",
     "output_type": "stream",
     "text": [
      "[]\n",
      "/Users/brettnaul/Dropbox/Documents/timeflow/keras_logs/period_only/even/noise0/gru_064_x3_2m03_drop25\n",
      "Loading /Users/brettnaul/Dropbox/Documents/timeflow/keras_logs/period_only/even/noise0/gru_064_x3_2m03_drop25/weights.h5...\n"
     ]
    }
   ],
   "source": [
    "%run period.py 64 3 0.25 --model_type gru --sigma 1e-9 --sim_type period_only/even/noise0 --even\n",
    "pred_gru = model.predict(X[test])"
   ]
  },
  {
   "cell_type": "code",
   "execution_count": 15,
   "metadata": {
    "collapsed": false
   },
   "outputs": [
    {
     "data": {
      "text/plain": [
       "[array([ 1.6712625 ,  2.47691607,  2.57400465,  2.51226425,  2.63632059], dtype=float32),\n",
       " array([ 1.68369399,  1.34468168,  1.55645163,  1.69378167,  2.07775232])]"
      ]
     },
     "execution_count": 15,
     "metadata": {},
     "output_type": "execute_result"
    }
   ],
   "source": [
    "[model.predict(X[0:5])[:, 0], Y[0:5, 0]]"
   ]
  },
  {
   "cell_type": "code",
   "execution_count": null,
   "metadata": {
    "collapsed": false
   },
   "outputs": [],
   "source": [
    "%%time\n",
    "from gatspy.periodic import LombScargle, LombScargleFast\n",
    "\n",
    "pred_gatspy = np.zeros(pred_gru.shape)\n",
    "for i in range(args.N_test):\n",
    "#    opt_args = {'period_range': (0.1, 0.9 * (X[test[i]][-1, 0] - X[test[i]][0, 0])), 'quiet': True}\n",
    "    opt_args = {'period_range': (0.05, 2 * np.pi), 'quiet': True}\n",
    "    model_gatspy = LombScargle(fit_period=True, optimizer_kwds=opt_args)#, silence_warnings=True)\n",
    "    model_gatspy.fit(np.linspace(0, 2 * np.pi, args.n_max), X[test[i]][:, 0])\n",
    "    omega = 2 * np.pi / model_gatspy.best_period\n",
    "    off, A1, A2 = model_gatspy._best_params(omega)\n",
    "    pred_gatspy[i] = np.array([omega / 2 / np.pi, np.sqrt(A1 ** 2 + A2 ** 2), np.arctan2(A2, A1), off + model_gatspy.ymean_])"
   ]
  },
  {
   "cell_type": "code",
   "execution_count": null,
   "metadata": {
    "collapsed": true
   },
   "outputs": [],
   "source": [
    "i = -1"
   ]
  },
  {
   "cell_type": "code",
   "execution_count": null,
   "metadata": {
    "collapsed": false
   },
   "outputs": [],
   "source": [
    "i += 1\n",
    "\n",
    "t = np.linspace(0, 2 * np.pi, args.n_max)\n",
    "x = X[test[i]].ravel()\n",
    "plt.plot(t, x, 'o')\n",
    "\n",
    "w, A, phi, b = Y[test[i]]\n",
    "plt.plot(t, A * np.sin(2 * np.pi * w * t + phi) + b, '-')\n",
    "\n",
    "w_c, A_c, phi_c, b_c = pred_conv[i]\n",
    "x_c = A_c * np.sin(2 * np.pi * w_c * t + phi_c) + b_c\n",
    "plt.plot(t, x_c, '--')\n",
    "\n",
    "w_r, A_r, phi_r, b_r = pred_gru[i]\n",
    "x_r = A_r * np.sin(2 * np.pi * w_r * t + phi_r) + b_r\n",
    "plt.plot(t, x_r, '--')\n",
    "\n",
    "#omega = 2 * np.pi / model_gatspy.best_period\n",
    "#off, A1, A2 = model_gatspy._best_params(omega)\n",
    "#w_g, A_g, phi_g, b_g = [omega / 2 / np.pi, np.sqrt(A1 ** 2 + A2 ** 2), np.arctan2(A2, A1), off + model_gatspy.ymean_]\n",
    "w_g, A_g, phi_g, b_g = pred_gatspy[i]\n",
    "x_g = A_g * np.sin(2 * np.pi * w_g * t + phi_g) + b_g\n",
    "#x_g = model_gatspy.fit(t, x).predict(t)\n",
    "plt.plot(t, x_g, '--')\n",
    "\n",
    "plt.legend(['Noisy', 'Original', 'Convolutional', 'GRU', 'Gatspy'])\n",
    "plt.title(\"True ({:3f}, {:3f}, {:3f}, {:3f}), Conv ({:3f}, {:3f}, {:3f}, {:3f}), GRU ({:3f}, {:3f}, {:3f}, {:3f}), Gatspy ({:3f}, {:3f}, {:3f}, {:3f})\".format(\n",
    "    w, A, phi, b,\n",
    "    w_c, A_c, phi_c, b_c,\n",
    "    w_r, A_r, phi_r, b_r,\n",
    "    w_g, A_g, phi_g, b_g,\n",
    "    ))"
   ]
  },
  {
   "cell_type": "code",
   "execution_count": null,
   "metadata": {
    "collapsed": false
   },
   "outputs": [],
   "source": [
    "sns.jointplot(pred_conv[:, 0] - Y[test, 0], pred_gatspy[:, 0] - Y[test, 0])"
   ]
  }
 ],
 "metadata": {
  "kernelspec": {
   "display_name": "Python 3",
   "language": "python",
   "name": "python3"
  },
  "language_info": {
   "codemirror_mode": {
    "name": "ipython",
    "version": 3
   },
   "file_extension": ".py",
   "mimetype": "text/x-python",
   "name": "python",
   "nbconvert_exporter": "python",
   "pygments_lexer": "ipython3",
   "version": "3.5.1"
  }
 },
 "nbformat": 4,
 "nbformat_minor": 1
}
