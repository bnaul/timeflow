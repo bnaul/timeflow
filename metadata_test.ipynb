{
 "cells": [
  {
   "cell_type": "code",
   "execution_count": 1,
   "metadata": {
    "collapsed": false
   },
   "outputs": [
    {
     "name": "stderr",
     "output_type": "stream",
     "text": [
      "/Users/brettnaul/miniconda3/envs/deep/lib/python3.5/site-packages/IPython/html.py:14: ShimWarning: The `IPython.html` package has been deprecated. You should import from `notebook` instead. `IPython.html.widgets` has moved to `ipywidgets`.\n",
      "  \"`IPython.html.widgets` has moved to `ipywidgets`.\", ShimWarning)\n",
      "Using TensorFlow backend.\n"
     ]
    },
    {
     "name": "stdout",
     "output_type": "stream",
     "text": [
      "The autoreload extension is already loaded. To reload it, use:\n",
      "  %reload_ext autoreload\n"
     ]
    }
   ],
   "source": [
    "import numpy as np\n",
    "import matplotlib.pyplot as plt\n",
    "import seaborn as sns\n",
    "%matplotlib inline\n",
    "plt.rcParams['figure.figsize'] = 9, 6\n",
    "%load_ext autoreload\n",
    "%autoreload 2\n",
    "import sample_data\n",
    "\n",
    "np.random.seed(0)\n",
    "N_train = 500; N_test = 100\n",
    "N = N_train + N_test\n",
    "train = np.arange(N_train); test = np.arange(N_test) + N_train\n",
    "n_min = 25; n_max = 25\n",
    "\n",
    "X, y = sample_data.periodic(N, n_min, n_max, t_max=2*np.pi, even=False,\n",
    "                            A=1., sigma=2., w_min=0.1, w_max=1.)"
   ]
  },
  {
   "cell_type": "code",
   "execution_count": 2,
   "metadata": {
    "collapsed": false
   },
   "outputs": [
    {
     "data": {
      "image/png": "[encoded data removed]",
      "text/plain": [
       "<matplotlib.figure.Figure at 0x1064f9ac8>"
      ]
     },
     "metadata": {},
     "output_type": "display_data"
    }
   ],
   "source": [
    "fig, ax = plt.subplots(2, 3, sharey=True)\n",
    "for j in range(6):\n",
    "#    i = np.where(y == j)[0][0]\n",
    "    i = j\n",
    "#    ax.ravel()[j].plot(np.linspace(0, n_max, n_max), X[i], 'o')\n",
    "    ax.ravel()[j].plot(X[i][:, 0], X[i][:, 1], 'o')\n",
    "    ax.ravel()[j].set(xlabel=\"t\", ylabel=\"y\")"
   ]
  },
  {
   "cell_type": "raw",
   "metadata": {},
   "source": [
    "from keras.callbacks import Callback\n",
    "from IPython.core.display import clear_output\n",
    "\n",
    "class ClearOutput(Callback):\n",
    "    def on_epoch_end(self, epoch, logs={}):\n",
    "        clear_output(wait=True)"
   ]
  },
  {
   "cell_type": "code",
   "execution_count": 3,
   "metadata": {
    "collapsed": false
   },
   "outputs": [],
   "source": [
    "import os\n",
    "import tensorflow as tf\n",
    "from keras import backend as K\n",
    "from keras.layers import (Input, Dense, TimeDistributed, Activation, LSTM,\n",
    "                          Dropout, merge, Reshape, Flatten, RepeatVector)\n",
    "from keras.models import Model\n",
    "from keras.optimizers import Adam\n",
    "from keras.callbacks import ProgbarLogger, TensorBoard\n",
    "from IPython.display import clear_output\n",
    "\n",
    "\n",
    "lstm_size = 16\n",
    "lr = 2e-3\n",
    "drop_frac = 0.0\n",
    "sess = tf.Session(config=tf.ConfigProto(gpu_options=tf.GPUOptions(per_process_gpu_memory_fraction=0.3)))\n",
    "K.set_session(sess)\n",
    "run = \"{:03d}_{:1.0e}_drop{}\".format(lstm_size, lr, drop_frac).replace('e-', 'm').replace('.', '')\n",
    "print(run)\n",
    "\n",
    "main_input = Input(shape=(n_max, 2))\n",
    "encoding = LSTM(lstm_size, input_length=n_max, input_dim=2, return_sequences=False)(main_input)\n",
    "dropout = Dropout(drop_frac)(encoding)\n",
    "#aux_input = Input(shape=(n_max, 1), name='aux_input')\n",
    "#tiled = RepeatVector(n_max)(dropout)\n",
    "#merged = merge([aux_input, tiled], mode='concat')\n",
    "#lstm_out = LSTM(lstm_size, return_sequences=True)(merged)\n",
    "#output = TimeDistributed(Dense(1, activation='linear'))(lstm_out)\n",
    "output = Dense(1, activation='linear')(dropout)\n",
    "model = Model(input=main_input, output=output)\n",
    "adam = Adam(lr=lr)\n",
    "model.compile(optimizer=adam, loss='mse', metrics=[])\n",
    "\n",
    "log_dir = os.path.expanduser('~/Dropbox/Documents/timeflow/keras2_logs/metadata_test/{}'.format(run))\n",
    "!rm -rf $log_dir\n",
    "#if os.path.exists(log_dir):\n",
    "#    raise Exception(\"Log directory already exists, not overwriting\")\n",
    "history = model.fit(X[train], y[train], \n",
    "                     nb_epoch=10, batch_size=250, validation_split=0.2,\n",
    "                     callbacks=[ProgbarLogger(), TensorBoard(log_dir=log_dir, write_graph=False)])\n",
    "model.save_weights(os.path.join(log_dir, 'weights.h5'), overwrite=True)\n",
    "clear_output()"
   ]
  },
  {
   "cell_type": "code",
   "execution_count": 4,
   "metadata": {
    "collapsed": false
   },
   "outputs": [
    {
     "data": {
      "image/svg+xml": [
       "<svg height=\"264pt\" viewBox=\"0.00 0.00 141.80 264.00\" width=\"142pt\" xmlns=\"http://www.w3.org/2000/svg\" xmlns:xlink=\"http://www.w3.org/1999/xlink\">\n",
       "<g class=\"graph\" id=\"graph0\" transform=\"scale(1 1) rotate(0) translate(4 260)\">\n",
       "<title>G</title>\n",
       "<polygon fill=\"white\" points=\"-4,4 -4,-260 137.796,-260 137.796,4 -4,4\" stroke=\"none\"/>\n",
       "<!-- 4608986864 -->\n",
       "<g class=\"node\" id=\"node1\"><title>4608986864</title>\n",
       "<polygon fill=\"none\" points=\"0,-219.5 0,-255.5 133.796,-255.5 133.796,-219.5 0,-219.5\" stroke=\"black\"/>\n",
       "<text font-family=\"Times,serif\" font-size=\"14.00\" text-anchor=\"middle\" x=\"66.898\" y=\"-233.3\">input_1 (InputLayer)</text>\n",
       "</g>\n",
       "<!-- 4604535248 -->\n",
       "<g class=\"node\" id=\"node2\"><title>4604535248</title>\n",
       "<polygon fill=\"none\" points=\"14.763,-146.5 14.763,-182.5 119.033,-182.5 119.033,-146.5 14.763,-146.5\" stroke=\"black\"/>\n",
       "<text font-family=\"Times,serif\" font-size=\"14.00\" text-anchor=\"middle\" x=\"66.898\" y=\"-160.3\">lstm_1 (LSTM)</text>\n",
       "</g>\n",
       "<!-- 4608986864&#45;&gt;4604535248 -->\n",
       "<g class=\"edge\" id=\"edge1\"><title>4608986864-&gt;4604535248</title>\n",
       "<path d=\"M66.898,-219.313C66.898,-211.289 66.898,-201.547 66.898,-192.569\" fill=\"none\" stroke=\"black\"/>\n",
       "<polygon fill=\"black\" points=\"70.3981,-192.529 66.898,-182.529 63.3981,-192.529 70.3981,-192.529\" stroke=\"black\"/>\n",
       "</g>\n",
       "<!-- 4609083208 -->\n",
       "<g class=\"node\" id=\"node3\"><title>4609083208</title>\n",
       "<polygon fill=\"none\" points=\"0.3829,-73.5 0.3829,-109.5 133.413,-109.5 133.413,-73.5 0.3829,-73.5\" stroke=\"black\"/>\n",
       "<text font-family=\"Times,serif\" font-size=\"14.00\" text-anchor=\"middle\" x=\"66.898\" y=\"-87.3\">dropout_1 (Dropout)</text>\n",
       "</g>\n",
       "<!-- 4604535248&#45;&gt;4609083208 -->\n",
       "<g class=\"edge\" id=\"edge2\"><title>4604535248-&gt;4609083208</title>\n",
       "<path d=\"M66.898,-146.313C66.898,-138.289 66.898,-128.547 66.898,-119.569\" fill=\"none\" stroke=\"black\"/>\n",
       "<polygon fill=\"black\" points=\"70.3981,-119.529 66.898,-109.529 63.3981,-119.529 70.3981,-119.529\" stroke=\"black\"/>\n",
       "</g>\n",
       "<!-- 4625034824 -->\n",
       "<g class=\"node\" id=\"node4\"><title>4625034824</title>\n",
       "<polygon fill=\"none\" points=\"12.0603,-0.5 12.0603,-36.5 121.736,-36.5 121.736,-0.5 12.0603,-0.5\" stroke=\"black\"/>\n",
       "<text font-family=\"Times,serif\" font-size=\"14.00\" text-anchor=\"middle\" x=\"66.898\" y=\"-14.3\">dense_1 (Dense)</text>\n",
       "</g>\n",
       "<!-- 4609083208&#45;&gt;4625034824 -->\n",
       "<g class=\"edge\" id=\"edge3\"><title>4609083208-&gt;4625034824</title>\n",
       "<path d=\"M66.898,-73.3129C66.898,-65.2895 66.898,-55.5475 66.898,-46.5691\" fill=\"none\" stroke=\"black\"/>\n",
       "<polygon fill=\"black\" points=\"70.3981,-46.5288 66.898,-36.5288 63.3981,-46.5289 70.3981,-46.5288\" stroke=\"black\"/>\n",
       "</g>\n",
       "</g>\n",
       "</svg>"
      ],
      "text/plain": [
       "<IPython.core.display.SVG object>"
      ]
     },
     "execution_count": 4,
     "metadata": {},
     "output_type": "execute_result"
    }
   ],
   "source": [
    "from keras.utils.visualize_util import model_to_dot\n",
    "from IPython.display import SVG\n",
    "\n",
    "model_dot = model_to_dot(model).create(prog='dot', format='svg')\n",
    "SVG(model_dot)"
   ]
  }
 ],
 "metadata": {
  "kernelspec": {
   "display_name": "Python 3",
   "language": "python",
   "name": "python3"
  },
  "language_info": {
   "codemirror_mode": {
    "name": "ipython",
    "version": 3
   },
   "file_extension": ".py",
   "mimetype": "text/x-python",
   "name": "python",
   "nbconvert_exporter": "python",
   "pygments_lexer": "ipython3",
   "version": "3.5.1"
  }
 },
 "nbformat": 4,
 "nbformat_minor": 0
}
