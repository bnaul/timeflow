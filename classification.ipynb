{
 "cells": [
  {
   "cell_type": "code",
   "execution_count": 1,
   "metadata": {
    "collapsed": false
   },
   "outputs": [
    {
     "name": "stderr",
     "output_type": "stream",
     "text": [
      "Using TensorFlow backend.\n"
     ]
    }
   ],
   "source": [
    "import numpy as np\n",
    "import matplotlib.pyplot as plt\n",
    "import seaborn as sns\n",
    "%matplotlib inline\n",
    "plt.rcParams['figure.figsize'] = 9, 6\n",
    "%load_ext autoreload\n",
    "%autoreload 2\n",
    "import sample_data\n",
    "\n",
    "np.random.seed(0)\n",
    "N_train = 50000; N_test = 0\n",
    "N = N_train + N_test\n",
    "train = np.arange(N_train); test = np.arange(N_test) + N_train\n",
    "n_min = 100; n_max = 100\n",
    "\n",
    "X, y = sample_data.synthetic_control(N, n_min, n_max, even=True, sigma=0.0)"
   ]
  },
  {
   "cell_type": "code",
   "execution_count": 2,
   "metadata": {
    "collapsed": false
   },
   "outputs": [
    {
     "data": {
      "image/png": "[encoded data removed]",
      "text/plain": [
       "<matplotlib.figure.Figure at 0x7f6b155efba8>"
      ]
     },
     "metadata": {},
     "output_type": "display_data"
    }
   ],
   "source": [
    "fig, ax = plt.subplots(2, 3, sharey=True)\n",
    "for j in range(6):\n",
    "    i = np.where(y == j)[0][0]\n",
    "#    i = j\n",
    "    ax.ravel()[j].plot(np.linspace(0, n_max, n_max), X[i], 'o')\n",
    "#    ax.ravel()[j].plot(X[i][:, 0], X[i][:, 1], 'o')\n",
    "    ax.ravel()[j].set(xlabel=\"t\", ylabel=\"y\")"
   ]
  },
  {
   "cell_type": "code",
   "execution_count": 3,
   "metadata": {
    "collapsed": true
   },
   "outputs": [],
   "source": [
    "import os\n",
    "import tensorflow as tf\n",
    "from keras import backend as K\n",
    "from keras.layers import (Input, Dense, TimeDistributed, Activation, LSTM, Dropout,\n",
    "                          merge, Reshape, Flatten, RepeatVector,\n",
    "                          Convolution1D, MaxPooling1D)\n",
    "from keras.models import Model, Sequential\n",
    "from keras.utils.np_utils import to_categorical\n",
    "from keras.optimizers import Adam\n",
    "from keras.callbacks import ProgbarLogger, TensorBoard\n",
    "from IPython.display import clear_output\n",
    "\n",
    "\n",
    "def classification_lstm(lstm_size, lr):\n",
    "    sess = tf.Session()#config=tf.ConfigProto(gpu_options=tf.GPUOptions(per_process_gpu_memory_fraction=0.33)))\n",
    "    K.set_session(sess)\n",
    "    run = \"periodic_lstm{}_{:1.0e}_drop{}\".format(lstm_size, lr, drop_frac).replace('e-', 'm').replace('.', '')\n",
    "    model = Sequential()\n",
    "    model.add(LSTM(lstm_size, input_shape=(n_max, 1), return_sequences=False))\n",
    "    model.add(Dropout(drop_frac))\n",
    "    model.add(Dense(Y.shape[1], activation='softmax'))\n",
    "    adam = Adam(lr=lr)\n",
    "    model.compile(optimizer=adam, loss='categorical_crossentropy', metrics=['accuracy'])\n",
    "    log_dir = os.path.expanduser('~/Dropbox/Documents/timeflow/keras2_logs/classification/{}'.format(run))\n",
    "    !rm -rf $log_dir\n",
    "    history = model.fit(X[train], Y[train], nb_epoch=nb_epoch, verbose=0,\n",
    "                        batch_size=batch_size, validation_split=0.2,\n",
    "                        callbacks=[ProgbarLogger(), TensorBoard(log_dir=log_dir, write_graph=False)])\n",
    "    return (run, history)\n",
    "\n",
    "\n",
    "def classification_conv_lstm(lstm_size, lr, filter_length, nb_filter, pool_length):\n",
    "    sess = tf.Session()#config=tf.ConfigProto(gpu_options=tf.GPUOptions(per_process_gpu_memory_fraction=0.33)))\n",
    "    K.set_session(sess)\n",
    "    run = \"periodic_2conv_lstm{}_flen{}_nf{}_plen{}_{:1.0e}_drop{}\".format(lstm_size, filter_length, nb_filter, pool_length, lr, drop_frac).replace('e-', 'm').replace('.', '')\n",
    "    model = Sequential()\n",
    "    model.add(Convolution1D(input_shape=(n_max, 1), nb_filter=nb_filter, \n",
    "                            filter_length=filter_length,\n",
    "                            border_mode='valid', activation='relu',\n",
    "                            subsample_length=1))\n",
    "    model.add(MaxPooling1D(pool_length=pool_length))\n",
    "    model.add(Convolution1D(input_shape=(n_max, 1), nb_filter=nb_filter, \n",
    "                        filter_length=filter_length,\n",
    "                        border_mode='valid', activation='relu',\n",
    "                        subsample_length=1))\n",
    "    model.add(MaxPooling1D(pool_length=pool_length))\n",
    "    model.add(Dropout(drop_frac))\n",
    "    model.add(LSTM(lstm_size, input_shape=(n_max, 1), return_sequences=False))\n",
    "    model.add(Dropout(drop_frac))\n",
    "    model.add(Dense(Y.shape[1], activation='softmax'))\n",
    "    adam = Adam(lr=lr)\n",
    "    model.compile(optimizer=adam, loss='categorical_crossentropy', metrics=['accuracy'])\n",
    "\n",
    "    log_dir = os.path.expanduser('~/Dropbox/Documents/timeflow/keras2_logs/classification/{}'.format(run))\n",
    "    !rm -rf $log_dir\n",
    "    history = model.fit(X[train], Y[train], nb_epoch=nb_epoch, verbose=0,\n",
    "                        batch_size=batch_size, validation_split=0.2,\n",
    "                        callbacks=[#ProgbarLogger(),\n",
    "                                   TensorBoard(log_dir=log_dir, write_graph=False)])\n",
    "    return (run, history, model)"
   ]
  },
  {
   "cell_type": "code",
   "execution_count": 4,
   "metadata": {
    "collapsed": false
   },
   "outputs": [
    {
     "ename": "MaybeEncodingError",
     "evalue": "Error sending result: '[('periodic_2conv_lstm64_flen5_nf16_plen2_1m04_drop025', <keras.callbacks.History object at 0x7f6a54876be0>)]'. Reason: 'PicklingError(\"Can't pickle <class 'module'>: attribute lookup module on builtins failed\",)'",
     "output_type": "error",
     "traceback": [
      "\u001b[1;31m---------------------------------------------------------------------------\u001b[0m",
      "\u001b[1;31mMaybeEncodingError\u001b[0m                        Traceback (most recent call last)",
      "\u001b[1;32m<ipython-input-4-425c84b95136>\u001b[0m in \u001b[0;36m<module>\u001b[1;34m()\u001b[0m\n\u001b[0;32m     17\u001b[0m \u001b[1;33m\u001b[0m\u001b[0m\n\u001b[0;32m     18\u001b[0m Parallel(n_jobs=8)(delayed(classification_conv_lstm)(lstm_size, lr, filter_length, nb_filter, pool_length)\n\u001b[1;32m---> 19\u001b[1;33m                    for lstm_size, lr in product([64, 128], [1e-4, 2e-4, 5e-4, 1e-3]))\n\u001b[0m",
      "\u001b[1;32m/home/bnaul/miniconda3/envs/deep/lib/python3.5/site-packages/joblib/parallel.py\u001b[0m in \u001b[0;36m__call__\u001b[1;34m(self, iterable)\u001b[0m\n\u001b[0;32m    808\u001b[0m                 \u001b[1;31m# consumption.\u001b[0m\u001b[1;33m\u001b[0m\u001b[1;33m\u001b[0m\u001b[0m\n\u001b[0;32m    809\u001b[0m                 \u001b[0mself\u001b[0m\u001b[1;33m.\u001b[0m\u001b[0m_iterating\u001b[0m \u001b[1;33m=\u001b[0m \u001b[1;32mFalse\u001b[0m\u001b[1;33m\u001b[0m\u001b[0m\n\u001b[1;32m--> 810\u001b[1;33m             \u001b[0mself\u001b[0m\u001b[1;33m.\u001b[0m\u001b[0mretrieve\u001b[0m\u001b[1;33m(\u001b[0m\u001b[1;33m)\u001b[0m\u001b[1;33m\u001b[0m\u001b[0m\n\u001b[0m\u001b[0;32m    811\u001b[0m             \u001b[1;31m# Make sure that we get a last message telling us we are done\u001b[0m\u001b[1;33m\u001b[0m\u001b[1;33m\u001b[0m\u001b[0m\n\u001b[0;32m    812\u001b[0m             \u001b[0melapsed_time\u001b[0m \u001b[1;33m=\u001b[0m \u001b[0mtime\u001b[0m\u001b[1;33m.\u001b[0m\u001b[0mtime\u001b[0m\u001b[1;33m(\u001b[0m\u001b[1;33m)\u001b[0m \u001b[1;33m-\u001b[0m \u001b[0mself\u001b[0m\u001b[1;33m.\u001b[0m\u001b[0m_start_time\u001b[0m\u001b[1;33m\u001b[0m\u001b[0m\n",
      "\u001b[1;32m/home/bnaul/miniconda3/envs/deep/lib/python3.5/site-packages/joblib/parallel.py\u001b[0m in \u001b[0;36mretrieve\u001b[1;34m(self)\u001b[0m\n\u001b[0;32m    725\u001b[0m                 \u001b[0mjob\u001b[0m \u001b[1;33m=\u001b[0m \u001b[0mself\u001b[0m\u001b[1;33m.\u001b[0m\u001b[0m_jobs\u001b[0m\u001b[1;33m.\u001b[0m\u001b[0mpop\u001b[0m\u001b[1;33m(\u001b[0m\u001b[1;36m0\u001b[0m\u001b[1;33m)\u001b[0m\u001b[1;33m\u001b[0m\u001b[0m\n\u001b[0;32m    726\u001b[0m             \u001b[1;32mtry\u001b[0m\u001b[1;33m:\u001b[0m\u001b[1;33m\u001b[0m\u001b[0m\n\u001b[1;32m--> 727\u001b[1;33m                 \u001b[0mself\u001b[0m\u001b[1;33m.\u001b[0m\u001b[0m_output\u001b[0m\u001b[1;33m.\u001b[0m\u001b[0mextend\u001b[0m\u001b[1;33m(\u001b[0m\u001b[0mjob\u001b[0m\u001b[1;33m.\u001b[0m\u001b[0mget\u001b[0m\u001b[1;33m(\u001b[0m\u001b[1;33m)\u001b[0m\u001b[1;33m)\u001b[0m\u001b[1;33m\u001b[0m\u001b[0m\n\u001b[0m\u001b[0;32m    728\u001b[0m             \u001b[1;32mexcept\u001b[0m \u001b[0mtuple\u001b[0m\u001b[1;33m(\u001b[0m\u001b[0mself\u001b[0m\u001b[1;33m.\u001b[0m\u001b[0mexceptions\u001b[0m\u001b[1;33m)\u001b[0m \u001b[1;32mas\u001b[0m \u001b[0mexception\u001b[0m\u001b[1;33m:\u001b[0m\u001b[1;33m\u001b[0m\u001b[0m\n\u001b[0;32m    729\u001b[0m                 \u001b[1;31m# Stop dispatching any new job in the async callback thread\u001b[0m\u001b[1;33m\u001b[0m\u001b[1;33m\u001b[0m\u001b[0m\n",
      "\u001b[1;32m/home/bnaul/miniconda3/envs/deep/lib/python3.5/multiprocessing/pool.py\u001b[0m in \u001b[0;36mget\u001b[1;34m(self, timeout)\u001b[0m\n\u001b[0;32m    606\u001b[0m             \u001b[1;32mreturn\u001b[0m \u001b[0mself\u001b[0m\u001b[1;33m.\u001b[0m\u001b[0m_value\u001b[0m\u001b[1;33m\u001b[0m\u001b[0m\n\u001b[0;32m    607\u001b[0m         \u001b[1;32melse\u001b[0m\u001b[1;33m:\u001b[0m\u001b[1;33m\u001b[0m\u001b[0m\n\u001b[1;32m--> 608\u001b[1;33m             \u001b[1;32mraise\u001b[0m \u001b[0mself\u001b[0m\u001b[1;33m.\u001b[0m\u001b[0m_value\u001b[0m\u001b[1;33m\u001b[0m\u001b[0m\n\u001b[0m\u001b[0;32m    609\u001b[0m \u001b[1;33m\u001b[0m\u001b[0m\n\u001b[0;32m    610\u001b[0m     \u001b[1;32mdef\u001b[0m \u001b[0m_set\u001b[0m\u001b[1;33m(\u001b[0m\u001b[0mself\u001b[0m\u001b[1;33m,\u001b[0m \u001b[0mi\u001b[0m\u001b[1;33m,\u001b[0m \u001b[0mobj\u001b[0m\u001b[1;33m)\u001b[0m\u001b[1;33m:\u001b[0m\u001b[1;33m\u001b[0m\u001b[0m\n",
      "\u001b[1;31mMaybeEncodingError\u001b[0m: Error sending result: '[('periodic_2conv_lstm64_flen5_nf16_plen2_1m04_drop025', <keras.callbacks.History object at 0x7f6a54876be0>)]'. Reason: 'PicklingError(\"Can't pickle <class 'module'>: attribute lookup module on builtins failed\",)'"
     ]
    }
   ],
   "source": [
    "from itertools import product\n",
    "from joblib import Parallel, delayed\n",
    "\n",
    "# Convolution\n",
    "filter_length = 5\n",
    "nb_filter = 16\n",
    "pool_length = 2\n",
    "# LSTM\n",
    "#lstm_size = 32\n",
    "# Training\n",
    "#lr = 5e-4\n",
    "drop_frac = 0.25\n",
    "batch_size = 1000\n",
    "nb_epoch = 50\n",
    "\n",
    "Y = to_categorical(y, 6)\n",
    "\n",
    "Parallel(n_jobs=8)(delayed(classification_conv_lstm)(lstm_size, lr, filter_length, nb_filter, pool_length)\n",
    "                   for lstm_size, lr in product([64, 128], [1e-4, 2e-4, 5e-4, 1e-3]))"
   ]
  },
  {
   "cell_type": "code",
   "execution_count": null,
   "metadata": {
    "collapsed": false
   },
   "outputs": [],
   "source": [
    "from keras.utils.visualize_util import model_to_dot\n",
    "from IPython.display import SVG\n",
    "\n",
    "model_dot = model_to_dot(model).create(prog='dot', format='svg')\n",
    "SVG(model_dot)"
   ]
  }
 ],
 "metadata": {
  "kernelspec": {
   "display_name": "Python 3",
   "language": "python",
   "name": "python3"
  },
  "language_info": {
   "codemirror_mode": {
    "name": "ipython",
    "version": 3
   },
   "file_extension": ".py",
   "mimetype": "text/x-python",
   "name": "python",
   "nbconvert_exporter": "python",
   "pygments_lexer": "ipython3",
   "version": "3.5.1"
  }
 },
 "nbformat": 4,
 "nbformat_minor": 1
}
