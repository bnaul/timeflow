{
 "cells": [
  {
   "cell_type": "code",
   "execution_count": null,
   "metadata": {
    "collapsed": false
   },
   "outputs": [],
   "source": [
    "import numpy as np\n",
    "import matplotlib.pyplot as plt\n",
    "import seaborn as sns\n",
    "%matplotlib inline\n",
    "plt.rcParams['figure.figsize'] = 9, 6\n",
    "%load_ext autoreload\n",
    "%autoreload 2\n",
    "import sample_data\n",
    "\n",
    "np.random.seed(0)\n",
    "N_train = 50000; N_test = 0\n",
    "N = N_train + N_test\n",
    "train = np.arange(N_train); test = np.arange(N_test) + N_train\n",
    "n_min = 100; n_max = 100\n",
    "\n",
    "#X, y = sample_data.synthetic_control(N, n_min, n_max, even=False, sigma=0.0)\n",
    "X, y = sample_data.periodic(N, n_min, n_max, t_max=2*np.pi, even=False,\n",
    "                            A=1., sigma=1e-0, w_min=0.1, w_max=1.)"
   ]
  },
  {
   "cell_type": "code",
   "execution_count": null,
   "metadata": {
    "collapsed": false
   },
   "outputs": [],
   "source": [
    "fig, ax = plt.subplots(2, 3, sharey=True)\n",
    "for j in range(6):\n",
    "#    i = np.where(y == j)[0][0]\n",
    "    i = j\n",
    "#    ax.ravel()[j].plot(np.linspace(0, n_max, n_max), X[i], 'o')\n",
    "    ax.ravel()[j].plot(X[i][:, 0], X[i][:, 1], 'o')\n",
    "    ax.ravel()[j].set(xlabel=\"t\", ylabel=\"y\")"
   ]
  },
  {
   "cell_type": "code",
   "execution_count": null,
   "metadata": {
    "collapsed": true
   },
   "outputs": [],
   "source": [
    "import os\n",
    "import tensorflow as tf\n",
    "from keras import backend as K\n",
    "from keras.layers import (Input, Dense, TimeDistributed, Activation, LSTM, Dropout, \n",
    "                          merge, Reshape, Flatten, RepeatVector)\n",
    "from keras.models import Model\n",
    "from keras.optimizers import Adam\n",
    "from keras.callbacks import ProgbarLogger, TensorBoard\n",
    "from IPython.display import clear_output\n",
    "\n",
    "\n",
    "def uneven_lstm_autoencoder(lstm_size, lr, drop_frac):\n",
    "    sess = tf.Session(config=tf.ConfigProto(gpu_options=tf.GPUOptions(per_process_gpu_memory_fraction=0.20)))\n",
    "    K.set_session(sess)\n",
    "    run = \"lstm2_{}_{:1.0e}_drop{}\".format(lstm_size, lr, drop_frac).replace('e-', 'm').replace('.', '')\n",
    "\n",
    "    main_input = Input(shape=(n_max, 2))\n",
    "    lstm_in_1 = LSTM(lstm_size, input_dim=2, return_sequences=True)(main_input)\n",
    "    dropout_in = Dropout(drop_frac)(lstm_in_1)\n",
    "    lstm_in_2 = LSTM(lstm_size, return_sequences=False)(dropout_in)\n",
    "    aux_input = Input(shape=(n_max, 1), name='aux_input')\n",
    "    tiled = RepeatVector(n_max)(lstm_in_2)\n",
    "    merged = merge([aux_input, tiled], mode='concat')\n",
    "    lstm_out_1 = LSTM(lstm_size, return_sequences=True)(merged)\n",
    "    dropout_out = Dropout(drop_frac)(lstm_out_1)\n",
    "    lstm_out_2 = LSTM(lstm_size, return_sequences=True)(dropout_out)\n",
    "    output = TimeDistributed(Dense(1, activation='linear'))(lstm_out_2)\n",
    "    model = Model(input=[main_input, aux_input], output=output)\n",
    "    adam = Adam(lr=lr)\n",
    "    model.compile(optimizer=adam, loss='mse', metrics=[])\n",
    "\n",
    "    log_dir = os.path.expanduser('~/Dropbox/Documents/timeflow/keras_logs/auto/{}'.format(run))\n",
    "    !rm -rf $log_dir\n",
    "    #if os.path.exists(log_dir):\n",
    "    #    raise Exception(\"Log directory already exists, not overwriting\")\n",
    "    history = model.fit([X[train], X[train][:, :, 0:1]], X[train][:, :, 1:2],# verbose=0,\n",
    "                         nb_epoch=nb_epoch, batch_size=batch_size, validation_split=0.2,\n",
    "                         callbacks=[ProgbarLogger(),\n",
    "                                    TensorBoard(log_dir=log_dir, write_graph=False)])\n",
    "    model.save_weights(os.path.join(log_dir, 'weights.h5'), overwrite=True)\n",
    "    return (run, history, model)"
   ]
  },
  {
   "cell_type": "code",
   "execution_count": null,
   "metadata": {
    "collapsed": false
   },
   "outputs": [],
   "source": [
    "from itertools import product\n",
    "from joblib import Parallel, delayed\n",
    "\n",
    "batch_size = 250\n",
    "nb_epoch = 25\n",
    "            \n",
    "Parallel(n_jobs=4)(delayed(uneven_lstm_autoencoder)(lstm_size, lr, drop_frac)\n",
    "                   for lstm_size, lr, drop_frac in product([64, 128], [5e-4, 1e-3], [0.0, 0.25]))"
   ]
  },
  {
   "cell_type": "raw",
   "metadata": {
    "collapsed": false
   },
   "source": [
    "from keras.utils.visualize_util import model_to_dot\n",
    "from IPython.display import SVG\n",
    "\n",
    "model_dot = model_to_dot(model).create(prog='dot', format='svg')\n",
    "SVG(model_dot)"
   ]
  }
 ],
 "metadata": {
  "kernelspec": {
   "display_name": "Python 3",
   "language": "python",
   "name": "python3"
  },
  "language_info": {
   "codemirror_mode": {
    "name": "ipython",
    "version": 3
   },
   "file_extension": ".py",
   "mimetype": "text/x-python",
   "name": "python",
   "nbconvert_exporter": "python",
   "pygments_lexer": "ipython3",
   "version": "3.5.1"
  }
 },
 "nbformat": 4,
 "nbformat_minor": 1
}
