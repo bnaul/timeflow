{
 "cells": [
  {
   "cell_type": "code",
   "execution_count": 1,
   "metadata": {
    "collapsed": false
   },
   "outputs": [
    {
     "name": "stdout",
     "output_type": "stream",
     "text": [
      "The autoreload extension is already loaded. To reload it, use:\n",
      "  %reload_ext autoreload\n"
     ]
    },
    {
     "name": "stderr",
     "output_type": "stream",
     "text": [
      "/Users/brettnaul/miniconda3/envs/deep/lib/python3.5/site-packages/IPython/html.py:14: ShimWarning: The `IPython.html` package has been deprecated. You should import from `notebook` instead. `IPython.html.widgets` has moved to `ipywidgets`.\n",
      "  \"`IPython.html.widgets` has moved to `ipywidgets`.\", ShimWarning)\n"
     ]
    }
   ],
   "source": [
    "import numpy as np\n",
    "import pandas as pd\n",
    "import matplotlib.pyplot as plt\n",
    "import seaborn as sns\n",
    "%matplotlib inline\n",
    "plt.rcParams['figure.figsize'] = 9, 6\n",
    "%load_ext autoreload\n",
    "%autoreload 2"
   ]
  },
  {
   "cell_type": "code",
   "execution_count": null,
   "metadata": {
    "collapsed": false
   },
   "outputs": [],
   "source": [
    "from keras import backend as K\n",
    "import sample_data\n",
    "K.set_learning_phase(0)\n",
    "%run autoencoder.py 64 4 0.25 --no_train --uneven --model_type conv --sigma 0.5 --lr 5e-4 --sim_type autoencoder/uneven/noise0.5 --filter_length 7 --nb_epoch 10 --batch_norm --embedding 4\n",
    "Y = sample_data.phase_to_sin_cos(Y)\n",
    "train = np.arange(args.N_train)\n",
    "test = args.N_train + np.arange(args.N_test)"
   ]
  },
  {
   "cell_type": "code",
   "execution_count": 2,
   "metadata": {
    "collapsed": false
   },
   "outputs": [
    {
     "name": "stderr",
     "output_type": "stream",
     "text": [
      "Using TensorFlow backend.\n",
      "/Users/brettnaul/Dropbox/Documents/timeflow/survey_lcs.py:49: FutureWarning: sort(columns=....) is deprecated, use sort_values(by=.....)\n",
      "  for f in filenames[:args.first_N]]\n"
     ]
    },
    {
     "name": "stdout",
     "output_type": "stream",
     "text": [
      "[]\n",
      "/Users/brettnaul/Dropbox/Documents/timeflow/keras_logs/survey_lcs/n50_500/atrous_064_x4_2m04_drop25_bn_f7_emb64\n",
      "Loading /Users/brettnaul/Dropbox/Documents/timeflow/keras_logs/survey_lcs/n50_500/atrous_064_x4_2m04_drop25_bn_f7_emb64/weights.h5...\n"
     ]
    }
   ],
   "source": [
    "%run survey_lcs.py 64 4 0.25 --no_train --model_type atrous --lr 2e-4 --sim_type survey_lcs/n50_500 --nb_epoch 1 --n_min 50 --n_max 500 --uneven --m_max 32 --filter_length 7 --batch_norm --embedding 64"
   ]
  },
  {
   "cell_type": "markdown",
   "metadata": {},
   "source": [
    "# Visualizing predictions"
   ]
  },
  {
   "cell_type": "raw",
   "metadata": {},
   "source": [
    "%%time\n",
    "pred = model.predict({'main_input': X, 'aux_input': X[:, :, [0,]]}, batch_size=500)"
   ]
  },
  {
   "cell_type": "code",
   "execution_count": null,
   "metadata": {
    "collapsed": false
   },
   "outputs": [],
   "source": [
    "np.mean((pred - X_raw[:, :, 1:2]) ** 2)"
   ]
  },
  {
   "cell_type": "code",
   "execution_count": null,
   "metadata": {
    "collapsed": false
   },
   "outputs": [],
   "source": [
    "i = test[0] - 1"
   ]
  },
  {
   "cell_type": "code",
   "execution_count": null,
   "metadata": {
    "collapsed": false
   },
   "outputs": [],
   "source": [
    "i += 1\n",
    "if args.even:\n",
    "    t = np.linspace(0, 2 * np.pi, X.shape[1])\n",
    "    m = X[i, :, 0]\n",
    "    pred_i = model.predict(X[[i]])[0, :, 0]\n",
    "else:\n",
    "    inds = (X[i, :, 0] >= 0.)\n",
    "    t = X_raw[i, inds, 0]\n",
    "    m_raw = X_raw[i, inds, 1]\n",
    "    m = X[i, inds, 1]\n",
    "    pred_i = model.predict({'main_input': X[i:i+1], 'aux_input': X[i:i+1, :, [0,]]})[0, inds, 0]\n",
    "\n",
    "T = np.linspace(0, t.max(), 501)\n",
    "def sinusoid(p, A1, A2, b):\n",
    "    return lambda t: A1 * np.cos(2 * np.pi / p * t) + A2 * np.sin(2 * np.pi / p * t) + b\n",
    "\n",
    "plt.plot(T, sinusoid(*Y[i])(T))\n",
    "plt.plot(t, m, 'o')\n",
    "plt.plot(t, pred_i, 'o')\n",
    "\n",
    "#w_r, A_r, phi_r, b_r = pred_gru[i]\n",
    "#x_r = A_r * np.sin(2 * np.pi * w_r * t + phi_r) + b_r\n",
    "#plt.plot(t, x_r, '--')\n",
    "#plt.legend(['Noisy', 'Original'])\n",
    "plt.title(\"MSE: {}\".format(np.mean(np.abs(m_raw - pred_i) ** 1)));"
   ]
  },
  {
   "cell_type": "code",
   "execution_count": 8,
   "metadata": {
    "collapsed": false
   },
   "outputs": [
    {
     "name": "stdout",
     "output_type": "stream",
     "text": [
      "CPU times: user 7min 50s, sys: 1min 38s, total: 9min 29s\n",
      "Wall time: 1min 56s\n"
     ]
    }
   ],
   "source": [
    "%%time\n",
    "pred = model.predict({'main_input': X, 'aux_input': X[:, :, [0, 2]]}, batch_size=500)"
   ]
  },
  {
   "cell_type": "code",
   "execution_count": 15,
   "metadata": {
    "collapsed": false
   },
   "outputs": [
    {
     "data": {
      "text/plain": [
       "array([[ 1.,  1.,  1., ...,  0.,  0.,  0.],\n",
       "       [ 1.,  1.,  1., ...,  0.,  0.,  0.],\n",
       "       [ 1.,  1.,  1., ...,  0.,  0.,  0.],\n",
       "       ..., \n",
       "       [ 1.,  1.,  1., ...,  1.,  0.,  0.],\n",
       "       [ 1.,  1.,  1., ...,  1.,  1.,  0.],\n",
       "       [ 1.,  1.,  1., ...,  1.,  1.,  1.]])"
      ]
     },
     "execution_count": 15,
     "metadata": {},
     "output_type": "execute_result"
    }
   ],
   "source": [
    "(~np.isnan(X_raw[:, :, -1])).astype('float')"
   ]
  },
  {
   "cell_type": "code",
   "execution_count": 12,
   "metadata": {
    "collapsed": false
   },
   "outputs": [
    {
     "data": {
      "text/plain": [
       "array([[[  1.08952603e+01],\n",
       "        [  1.29655231e+01],\n",
       "        [  1.64014937e+01],\n",
       "        ..., \n",
       "        [ -2.50875950e-03],\n",
       "        [ -2.88200378e-03],\n",
       "        [ -1.40321255e-03]],\n",
       "\n",
       "       [[  1.06121256e+01],\n",
       "        [  1.36540600e+01],\n",
       "        [  1.45821384e+01],\n",
       "        ..., \n",
       "        [ -2.52115726e-03],\n",
       "        [ -2.86293030e-03],\n",
       "        [ -1.39141083e-03]],\n",
       "\n",
       "       [[  1.51703205e+01],\n",
       "        [  1.82584961e+01],\n",
       "        [  1.97651591e+01],\n",
       "        ..., \n",
       "        [ -2.37071514e-03],\n",
       "        [ -2.98452377e-03],\n",
       "        [ -1.72019005e-03]],\n",
       "\n",
       "       ..., \n",
       "       [[  2.34039347e+01],\n",
       "        [  2.40786822e+01],\n",
       "        [  2.33462891e+01],\n",
       "        ..., \n",
       "        [  2.10413968e+01],\n",
       "        [ -1.40708685e-02],\n",
       "        [  3.69513035e-03]],\n",
       "\n",
       "       [[  2.09646301e+01],\n",
       "        [  2.15656759e+01],\n",
       "        [  2.08166892e+01],\n",
       "        ..., \n",
       "        [  1.83941775e+01],\n",
       "        [ -1.42221451e-02],\n",
       "        [  3.04180384e-03]],\n",
       "\n",
       "       [[  1.94061699e+01],\n",
       "        [  2.03645841e+01],\n",
       "        [  1.92554398e+01],\n",
       "        ..., \n",
       "        [  1.75393840e+01],\n",
       "        [ -1.57318115e-02],\n",
       "        [  2.72035599e-04]]])"
      ]
     },
     "execution_count": 12,
     "metadata": {},
     "output_type": "execute_result"
    }
   ],
   "source": [
    "sample_weight = np.isnan(X[:, :, -1]).astype('float')\n",
    "pred - X[:, :, [1]]"
   ]
  },
  {
   "cell_type": "code",
   "execution_count": 3,
   "metadata": {
    "collapsed": true
   },
   "outputs": [],
   "source": [
    "i = -1"
   ]
  },
  {
   "cell_type": "code",
   "execution_count": 9,
   "metadata": {
    "collapsed": false
   },
   "outputs": [
    {
     "data": {
      "text/plain": [
       "<matplotlib.legend.Legend at 0x105715e80>"
      ]
     },
     "execution_count": 9,
     "metadata": {},
     "output_type": "execute_result"
    },
    {
     "data": {
      "image/png": "[encoded data removed]",
      "text/plain": [
       "<matplotlib.figure.Figure at 0x117916e80>"
      ]
     },
     "metadata": {},
     "output_type": "display_data"
    }
   ],
   "source": [
    "i += 1\n",
    "inds = ~np.isnan(X_raw[i, :, 0])\n",
    "t = np.cumsum(X[i, inds, 0])\n",
    "m = X[i, inds, 1]\n",
    "e = X[i, inds, 2]\n",
    "pred_i = model.predict({'main_input': X[i:i+1], 'aux_input': X[i:i+1, :, [0, 2]]})[0, inds, 0]\n",
    "\n",
    "plt.errorbar(t, m, e, None, 'o');\n",
    "plt.plot(t, pred_i, 'o');\n",
    "\n",
    "#w_r, A_r, phi_r, b_r = pred_gru[i]\n",
    "#x_r = A_r * np.sin(2 * np.pi * w_r * t + phi_r) + b_r\n",
    "#plt.plot(t, x_r, '--')\n",
    "\n",
    "plt.legend(['Original', 'Reconstructed'])"
   ]
  },
  {
   "cell_type": "markdown",
   "metadata": {},
   "source": [
    "# Visualizing training progress"
   ]
  },
  {
   "cell_type": "code",
   "execution_count": null,
   "metadata": {
    "collapsed": false
   },
   "outputs": [],
   "source": [
    "import glob\n",
    "import os\n",
    "\n",
    "log_files = glob.glob(os.path.join('keras_logs', 'autoencoder/uneven/noise0') + '/*.csv')\n",
    "logs = [pd.read_csv(f, usecols=['Wall time', 'Step', 'Value']) for f in log_files]\n",
    "for log, f in zip(logs, log_files):\n",
    "    label = f[(f.rfind('run_') + 4):f.rfind(',')] + ' ' + ('Validation' if 'val' in f else 'Training')\n",
    "    log.columns = [label if c == 'Value' else c for c in log.columns]\n",
    "    log['Wall time'] -= log['Wall time'].min()\n",
    "time_logs = pd.concat([l.set_index('Wall time').drop('Step', axis=1) for l in logs], axis=1)\n",
    "step_logs = pd.concat([l.set_index('Step').drop('Wall time', axis=1) for l in logs], axis=1)\n",
    "step_logs.head(10)"
   ]
  },
  {
   "cell_type": "code",
   "execution_count": null,
   "metadata": {
    "collapsed": true
   },
   "outputs": [],
   "source": [
    "step_logs.plot?"
   ]
  },
  {
   "cell_type": "code",
   "execution_count": null,
   "metadata": {
    "collapsed": false
   },
   "outputs": [],
   "source": [
    "fig, ax = plt.subplots(1, 2, figsize=(12, 5))\n",
    "\n",
    "colors = sns.color_palette(n_colors=int(len(step_logs.columns) / 2))\n",
    "for i, c in enumerate(step_logs.columns):\n",
    "    step_logs[c].dropna().plot(ax=ax[0], color=colors[int(i / 2)], legend=True, linestyle='-' if 'Training' in c else '--')\n",
    "    time_logs[c].dropna().plot(ax=ax[1], color=colors[int(i / 2)], legend=True, linestyle='-' if 'Training' in c else '--')\n",
    "ax[0].set_ylabel('Loss');\n",
    "ax[1].set_ylabel('Loss');\n",
    "ax[1].set_xlabel('Wall time (s)');"
   ]
  },
  {
   "cell_type": "markdown",
   "metadata": {},
   "source": [
    "# Visualizing embeddings"
   ]
  },
  {
   "cell_type": "code",
   "execution_count": null,
   "metadata": {
    "collapsed": false
   },
   "outputs": [],
   "source": [
    "%%time\n",
    "inds = np.arange(args.N_train, args.N_train + args.N_test)\n",
    "encode_layer = [l for l in model.layers if l.name == 'encoding'][0]\n",
    "if args.even:\n",
    "    encode = K.function([model.layers[0].input], [encode_layer.output])\n",
    "    encoding, = encode([X[inds]])\n",
    "else:\n",
    "    inputs = [l for l in model.layers if 'Input' in str(l)]\n",
    "    encode = K.function([inputs[0].input, inputs[1].input], [encode_layer.output])\n",
    "    encoding, = encode([X[inds], X[inds, :, 0:1]])"
   ]
  },
  {
   "cell_type": "code",
   "execution_count": null,
   "metadata": {
    "collapsed": false
   },
   "outputs": [],
   "source": [
    "np.mean((m - pred_i) ** 2)"
   ]
  },
  {
   "cell_type": "code",
   "execution_count": null,
   "metadata": {
    "collapsed": false
   },
   "outputs": [],
   "source": [
    "S = np.corrcoef(encoding, Y[:encoding.shape[0]], rowvar=0)[:8, 8:]\n",
    "print(pd.DataFrame(S))\n",
    "plt.imshow(S, cmap='viridis', interpolation='none')\n",
    "plt.colorbar()"
   ]
  },
  {
   "cell_type": "code",
   "execution_count": null,
   "metadata": {
    "collapsed": false
   },
   "outputs": [],
   "source": [
    "sns.jointplot(encoding[:, 5], Y[:encoding.shape[0], 0], kind='hex')"
   ]
  },
  {
   "cell_type": "code",
   "execution_count": null,
   "metadata": {
    "collapsed": false
   },
   "outputs": [],
   "source": [
    "sns.jointplot(encoding[:, 1], Y[:encoding.shape[0], 1], kind='hex')"
   ]
  },
  {
   "cell_type": "code",
   "execution_count": null,
   "metadata": {
    "collapsed": false
   },
   "outputs": [],
   "source": [
    "sns.jointplot(encoding[:, 5], Y[:encoding.shape[0], 2], kind='hex')"
   ]
  },
  {
   "cell_type": "code",
   "execution_count": null,
   "metadata": {
    "collapsed": false
   },
   "outputs": [],
   "source": [
    "sns.jointplot(encoding[:, 3], Y[:encoding.shape[0], 3], kind='hex')"
   ]
  },
  {
   "cell_type": "code",
   "execution_count": null,
   "metadata": {
    "collapsed": false
   },
   "outputs": [],
   "source": [
    "from sklearn.ensemble import RandomForestRegressor\n",
    "from sklearn.linear_model import ElasticNet\n",
    "from sklearn.svm import SVR\n",
    "\n",
    "model = RandomForestRegressor(n_estimators=128)\n",
    "#model = ElasticNet()\n",
    "#model = SVR(kernel='rbf')\n",
    "\n",
    "model.fit(encoding, Y[:encoding.shape[0], 0])"
   ]
  },
  {
   "cell_type": "code",
   "execution_count": null,
   "metadata": {
    "collapsed": true
   },
   "outputs": [],
   "source": [
    "encoding_test = encode([X[test]])[0]\n",
    "Y_pred = model.predict(encoding_test)"
   ]
  },
  {
   "cell_type": "code",
   "execution_count": null,
   "metadata": {
    "collapsed": false
   },
   "outputs": [],
   "source": [
    "#sns.jointplot(Y[test, 0], Y_pred[:, 0])\n",
    "sns.jointplot(Y[test, 0], Y_pred)"
   ]
  }
 ],
 "metadata": {
  "anaconda-cloud": {},
  "kernelspec": {
   "display_name": "Python 3",
   "language": "python",
   "name": "python3"
  },
  "language_info": {
   "codemirror_mode": {
    "name": "ipython",
    "version": 3
   },
   "file_extension": ".py",
   "mimetype": "text/x-python",
   "name": "python",
   "nbconvert_exporter": "python",
   "pygments_lexer": "ipython3",
   "version": "3.5.2"
  }
 },
 "nbformat": 4,
 "nbformat_minor": 1
}
