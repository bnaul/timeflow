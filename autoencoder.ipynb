{
 "cells": [
  {
   "cell_type": "code",
   "execution_count": 1,
   "metadata": {
    "collapsed": false
   },
   "outputs": [
    {
     "name": "stdout",
     "output_type": "stream",
     "text": [
      "The autoreload extension is already loaded. To reload it, use:\n",
      "  %reload_ext autoreload\n"
     ]
    },
    {
     "name": "stderr",
     "output_type": "stream",
     "text": [
      "/Users/brettnaul/miniconda3/envs/deep/lib/python3.6/site-packages/IPython/html.py:14: ShimWarning: The `IPython.html` package has been deprecated. You should import from `notebook` instead. `IPython.html.widgets` has moved to `ipywidgets`.\n",
      "  \"`IPython.html.widgets` has moved to `ipywidgets`.\", ShimWarning)\n"
     ]
    }
   ],
   "source": [
    "import numpy as np\n",
    "import pandas as pd\n",
    "import matplotlib.pyplot as plt\n",
    "import seaborn as sns\n",
    "%matplotlib inline\n",
    "plt.rcParams['figure.figsize'] = 9, 6\n",
    "%load_ext autoreload\n",
    "%autoreload 2"
   ]
  },
  {
   "cell_type": "raw",
   "metadata": {
    "collapsed": false
   },
   "source": [
    "from keras import backend as K\n",
    "import sample_data\n",
    "%run autoencoder.py 64 4 0.25 --no_train --uneven --model_type conv --sigma 0.5 --lr 5e-4 --sim_type autoencoder/uneven/noise0.5 --filter_length 7 --nb_epoch 10 --batch_norm\n",
    "Y = sample_data.phase_to_sin_cos(Y)\n",
    "train = np.arange(args.N_train)\n",
    "test = args.N_train + np.arange(args.N_test)"
   ]
  },
  {
   "cell_type": "raw",
   "metadata": {},
   "source": [
    "from argparse import Namespace\n",
    "args = Namespace(sim_type='test', batch_size=10, embedding=32, gpu_frac=0.0, gpu_id=None, loss='mse', lr=0.002, m_max=32.0, model_type='gru', n_max=200, n_min=200, nb_epoch=100, num_epochs=10, num_layers=2, size=64)"
   ]
  },
  {
   "cell_type": "raw",
   "metadata": {},
   "source": [
    "import glob\n",
    "import os\n",
    "import numpy as np\n",
    "import pandas as pd\n",
    "from keras import backend as K\n",
    "from keras.layers import (Input, Dense, TimeDistributed, Activation, LSTM, GRU,\n",
    "                          Dropout, merge, Reshape, Flatten, RepeatVector,\n",
    "                          Conv1D, AtrousConv1D, MaxPooling1D, SimpleRNN)\n",
    "try:\n",
    "    from keras.layers import PhasedLSTM\n",
    "except:\n",
    "    PhasedLSTM = None\n",
    "    print(\"Skipping PhasedLSTM...\")\n",
    "from keras.models import Model, Sequential\n",
    "from keras.preprocessing.sequence import pad_sequences\n",
    "\n",
    "import keras_util as ku\n",
    "from autoencoder import encoder, decoder\n",
    "from asas_full import preprocess\n",
    "\n",
    "X_raw = np.load('data/asas/n200.npy')\n",
    "model_type_dict = {'gru': GRU, 'lstm': LSTM, 'vanilla': SimpleRNN,\n",
    "                   'conv': Conv1D, 'atrous': AtrousConv1D, 'phased': PhasedLSTM}\n",
    "K.set_session(ku.limited_memory_session(args.gpu_frac, args.gpu_id))\n",
    "X, scale_params = preprocess(X_raw, args.m_max, None, True, True, True)\n",
    "main_input = Input(shape=(X.shape[1], X.shape[-1]), name='main_input')\n",
    "aux_input = Input(shape=(X.shape[1], X.shape[-1] - 1), name='aux_input')\n",
    "model_input = [main_input, aux_input]\n",
    "encode = encoder(main_input, layer=model_type_dict[args.model_type],\n",
    "                 output_size=args.embedding, **vars(args))\n",
    "decode = decoder(encode, layer=model_type_dict[args.model_type], n_step=X.shape[1],\n",
    "                 aux_input=aux_input, **vars(args))\n",
    "model = Model(model_input, decode)\n",
    "\n",
    "run = ku.get_run_id(**vars(args))\n",
    "\n",
    "sample_weight = (~np.isnan(X[:, :, -1])).astype('float')\n",
    "X[np.isnan(X)] = -1.\n",
    "history = ku.train_and_log({'main_input': X, 'aux_input': X[:, :, [0,]]}, X[:, :, 1:],\n",
    "                           run, model, sample_weight=sample_weight, **vars(args))"
   ]
  },
  {
   "cell_type": "code",
   "execution_count": 2,
   "metadata": {
    "collapsed": false
   },
   "outputs": [
    {
     "name": "stderr",
     "output_type": "stream",
     "text": [
      "Using TensorFlow backend.\n"
     ]
    },
    {
     "name": "stdout",
     "output_type": "stream",
     "text": [
      "Skipping PhasedLSTM...\n",
      "Skipping PhasedLSTM...\n",
      "[]\n",
      "/Users/brettnaul/Dropbox/Documents/timeflow/keras_logs/asas_full/n200_ls0.2/gru_064_x2_1m03_drop25_emb48\n",
      "Loading /Users/brettnaul/Dropbox/Documents/timeflow/keras_logs/asas_full/n200_ls0.2/gru_064_x2_1m03_drop25_emb48/weights.h5...\n"
     ]
    }
   ],
   "source": [
    "from keras import backend as K\n",
    "#K.set_learning_phase(0)\n",
    "%run asas_full.py 64 2 0.25 --no_train --model_type gru --lr 1e-3 --sim_type asas_full/n200_ls0.2 --nb_epoch 1 --n_min 200 --n_max 200 --embedding 48 --lomb_score 0.2\n",
    "# --filter_length 7 --batch_norm"
   ]
  },
  {
   "cell_type": "markdown",
   "metadata": {},
   "source": [
    "# Visualizing predictions"
   ]
  },
  {
   "cell_type": "raw",
   "metadata": {
    "collapsed": false
   },
   "source": [
    "%%time\n",
    "pred = model.predict({'main_input': X, 'aux_input': X[:, :, [0,]]}, batch_size=500)"
   ]
  },
  {
   "cell_type": "raw",
   "metadata": {
    "collapsed": false
   },
   "source": [
    "inds = np.arange(1000)\n",
    "model.evaluate({'main_input': X[inds], 'aux_input': np.delete(X[inds], 1, axis=2)}, X_raw[inds, :, 1:2], batch_size=500)"
   ]
  },
  {
   "cell_type": "raw",
   "metadata": {
    "collapsed": false
   },
   "source": [
    "train = np.arange(args.N_train); test = args.N_train + np.arange(args.N_test)\n",
    "i = train[0] - 1"
   ]
  },
  {
   "cell_type": "raw",
   "metadata": {
    "collapsed": false
   },
   "source": [
    "i += 1\n",
    "if args.even:\n",
    "    t = np.linspace(0, 2 * np.pi, X.shape[1])\n",
    "    m = X[i, :, 0]\n",
    "    pred_i = model.predict(X[[i]])[0, :, 0]\n",
    "else:\n",
    "    inds = (X[i, :, 0] >= 0.)\n",
    "    t = X_raw[i, inds, 0]\n",
    "    m_raw = X_raw[i, inds, 1]\n",
    "    m = X[i, inds, 1]\n",
    "    pred_i = model.predict({'main_input': X[i:i+1], 'aux_input': X[i:i+1, :, [0,]]})[0, inds, 0]\n",
    "\n",
    "T = np.linspace(0, t.max(), 501)\n",
    "def sinusoid(p, A1, A2, b):\n",
    "    return lambda t: A1 * np.cos(2 * np.pi / p * t) + A2 * np.sin(2 * np.pi / p * t) + b\n",
    "\n",
    "plt.plot(T, sinusoid(*Y[i])(T))\n",
    "plt.plot(t, m, 'o')\n",
    "plt.plot(t, pred_i, 'o')\n",
    "\n",
    "#w_r, A_r, phi_r, b_r = pred_gru[i]\n",
    "#x_r = A_r * np.sin(2 * np.pi * w_r * t + phi_r) + b_r\n",
    "#plt.plot(t, x_r, '--')\n",
    "#plt.legend(['Noisy', 'Original'])\n",
    "plt.title(\"MSE: {}\".format(np.mean((m_raw - pred_i) ** 2)));"
   ]
  },
  {
   "cell_type": "code",
   "execution_count": 83,
   "metadata": {
    "collapsed": false
   },
   "outputs": [
    {
     "name": "stdout",
     "output_type": "stream",
     "text": [
      "CPU times: user 2.01 s, sys: 706 ms, total: 2.71 s\n",
      "Wall time: 892 ms\n"
     ]
    }
   ],
   "source": [
    "%%time\n",
    "pred = model.predict({'main_input': X[:100], 'aux_input': np.delete(X[:100], 1, axis=2)})"
   ]
  },
  {
   "cell_type": "raw",
   "metadata": {
    "collapsed": false
   },
   "source": [
    "model.evaluate({'main_input': X, 'aux_input': np.delete(X, 1, axis=2)}, X[:, :, 1:2], batch_size=32)"
   ]
  },
  {
   "cell_type": "code",
   "execution_count": 84,
   "metadata": {
    "collapsed": true
   },
   "outputs": [],
   "source": [
    "i = -1"
   ]
  },
  {
   "cell_type": "code",
   "execution_count": 109,
   "metadata": {
    "collapsed": false
   },
   "outputs": [
    {
     "data": {
      "image/png": "[encoded data removed]",
      "text/plain": [
       "<matplotlib.figure.Figure at 0x125af0f60>"
      ]
     },
     "metadata": {},
     "output_type": "display_data"
    }
   ],
   "source": [
    "#inds = ~np.isnan(X_raw[i, :, 0])\n",
    "inds = np.arange(args.n_min)\n",
    "i += 1\n",
    "#i = np.random.choice(inds)\n",
    "t = X_raw[i, inds, 0]\n",
    "m = X[i, inds, 1]\n",
    "#m = np.random.normal(size=len(t))\n",
    "e = X_raw[i, inds, 2]\n",
    "\n",
    "plt.errorbar(t, m, e, None, 'o');\n",
    "#plt.plot(t, pred[i], 'o');\n",
    "plt.errorbar(t, pred[i], None, None, 'o');\n",
    "\n",
    "from gatspy.periodic import LombScargleFast\n",
    "model_gat = LombScargleFast(fit_period=True, optimizer_kwds={'period_range': (0.001 * (t.max() - t.min()), 0.95 * (t.max() - t.min())), 'quiet': True}, silence_warnings=True)\n",
    "model_gat.fit(t, m, e)\n",
    "m_gat = model_gat.predict(t, period=model_gat.best_period)\n",
    "T = np.linspace(t.min(), t.max(), 501)\n",
    "M_gat = model_gat.predict(T, period=model_gat.best_period)\n",
    "plt.errorbar(T, M_gat, None, None, '--')\n",
    "\n",
    "plt.legend(['Original', 'Reconstructed', 'Lomb Scargle'])\n",
    "plt.title(f\"MSE: {np.mean((m - np.squeeze(pred[i])) ** 2):1.4}, Var: {np.var(m):1.4}, \"\n",
    "          f\"Lomb Scargle: {np.mean((m - m_gat) ** 2):1.4} (period: {model_gat.best_period}, score: {model_gat.score(model_gat.best_period).item()})\");"
   ]
  },
  {
   "cell_type": "code",
   "execution_count": 38,
   "metadata": {
    "collapsed": false
   },
   "outputs": [
    {
     "data": {
      "text/plain": [
       "0.060711044365641731"
      ]
     },
     "execution_count": 38,
     "metadata": {},
     "output_type": "execute_result"
    }
   ],
   "source": [
    "np.mean((m - m_gat) ** 2)"
   ]
  },
  {
   "cell_type": "markdown",
   "metadata": {},
   "source": [
    "# Visualizing training progress"
   ]
  },
  {
   "cell_type": "raw",
   "metadata": {
    "collapsed": false
   },
   "source": [
    "import glob\n",
    "import os\n",
    "\n",
    "log_files = glob.glob(os.path.join('keras_logs', 'autoencoder/uneven/noise0') + '/*.csv')\n",
    "logs = [pd.read_csv(f, usecols=['Wall time', 'Step', 'Value']) for f in log_files]\n",
    "for log, f in zip(logs, log_files):\n",
    "    label = f[(f.rfind('run_') + 4):f.rfind(',')] + ' ' + ('Validation' if 'val' in f else 'Training')\n",
    "    log.columns = [label if c == 'Value' else c for c in log.columns]\n",
    "    log['Wall time'] -= log['Wall time'].min()\n",
    "time_logs = pd.concat([l.set_index('Wall time').drop('Step', axis=1) for l in logs], axis=1)\n",
    "step_logs = pd.concat([l.set_index('Step').drop('Wall time', axis=1) for l in logs], axis=1)\n",
    "step_logs.head(10)"
   ]
  },
  {
   "cell_type": "raw",
   "metadata": {
    "collapsed": true
   },
   "source": [
    "step_logs.plot?"
   ]
  },
  {
   "cell_type": "raw",
   "metadata": {
    "collapsed": false
   },
   "source": [
    "fig, ax = plt.subplots(1, 2, figsize=(12, 5))\n",
    "\n",
    "colors = sns.color_palette(n_colors=int(len(step_logs.columns) / 2))\n",
    "for i, c in enumerate(step_logs.columns):\n",
    "    step_logs[c].dropna().plot(ax=ax[0], color=colors[int(i / 2)], legend=True, linestyle='-' if 'Training' in c else '--')\n",
    "    time_logs[c].dropna().plot(ax=ax[1], color=colors[int(i / 2)], legend=True, linestyle='-' if 'Training' in c else '--')\n",
    "ax[0].set_ylabel('Loss');\n",
    "ax[1].set_ylabel('Loss');\n",
    "ax[1].set_xlabel('Wall time (s)');"
   ]
  },
  {
   "cell_type": "raw",
   "metadata": {},
   "source": [
    "# Visualizing embeddings"
   ]
  },
  {
   "cell_type": "raw",
   "metadata": {
    "collapsed": false
   },
   "source": [
    "#%%time\n",
    "inds = np.arange(args.N_train, args.N_train + args.N_test)\n",
    "encode_layer = [l for l in model.layers if l.name == 'encoding'][0]\n",
    "if args.even:\n",
    "    encode = K.function([model.layers[0].input], [encode_layer.output])\n",
    "    encoding, = encode([X[inds]])\n",
    "else:\n",
    "    inputs = [l for l in model.layers if 'Input' in str(l)]\n",
    "    encode = K.function([inputs[0].input, inputs[1].input], [encode_layer.output])\n",
    "    encoding, = encode([X[inds], X[inds, :, 0:1]])"
   ]
  },
  {
   "cell_type": "raw",
   "metadata": {
    "collapsed": false
   },
   "source": [
    "np.mean((m - pred_i) ** 2)"
   ]
  },
  {
   "cell_type": "raw",
   "metadata": {
    "collapsed": false
   },
   "source": [
    "S = np.corrcoef(encoding, Y[:encoding.shape[0]], rowvar=0)[:8, 8:]\n",
    "print(pd.DataFrame(S))\n",
    "plt.imshow(S, cmap='viridis', interpolation='none')\n",
    "plt.colorbar()"
   ]
  },
  {
   "cell_type": "raw",
   "metadata": {
    "collapsed": false
   },
   "source": [
    "sns.jointplot(encoding[:, 5], Y[:encoding.shape[0], 0], kind='hex')"
   ]
  },
  {
   "cell_type": "raw",
   "metadata": {
    "collapsed": false
   },
   "source": [
    "sns.jointplot(encoding[:, 1], Y[:encoding.shape[0], 1], kind='hex')"
   ]
  },
  {
   "cell_type": "raw",
   "metadata": {
    "collapsed": false
   },
   "source": [
    "sns.jointplot(encoding[:, 5], Y[:encoding.shape[0], 2], kind='hex')"
   ]
  },
  {
   "cell_type": "raw",
   "metadata": {
    "collapsed": false
   },
   "source": [
    "sns.jointplot(encoding[:, 3], Y[:encoding.shape[0], 3], kind='hex')"
   ]
  },
  {
   "cell_type": "raw",
   "metadata": {
    "collapsed": false
   },
   "source": [
    "from sklearn.ensemble import RandomForestRegressor\n",
    "from sklearn.linear_model import ElasticNet\n",
    "from sklearn.svm import SVR\n",
    "\n",
    "model = RandomForestRegressor(n_estimators=128)\n",
    "#model = ElasticNet()\n",
    "#model = SVR(kernel='rbf')\n",
    "\n",
    "model.fit(encoding, Y[:encoding.shape[0], 0])"
   ]
  },
  {
   "cell_type": "raw",
   "metadata": {
    "collapsed": true
   },
   "source": [
    "encoding_test = encode([X[test]])[0]\n",
    "Y_pred = model.predict(encoding_test)"
   ]
  },
  {
   "cell_type": "raw",
   "metadata": {
    "collapsed": false
   },
   "source": [
    "#sns.jointplot(Y[test, 0], Y_pred[:, 0])\n",
    "sns.jointplot(Y[test, 0], Y_pred)"
   ]
  },
  {
   "cell_type": "markdown",
   "metadata": {},
   "source": [
    "# New data"
   ]
  },
  {
   "cell_type": "code",
   "execution_count": null,
   "metadata": {
    "collapsed": true
   },
   "outputs": [],
   "source": [
    "# copied from asas.py\n",
    "top_classes = ['Mira', 'RR_Lyrae_FM', 'W_Ursae_Maj']\n",
    "full = LightCurve.select().where(LightCurve.label << top_classes)\n",
    "split = [el for lc in full for el in lc.split(args.n_min, args.n_max)]\n",
    "X_list = [np.c_[lc.times, lc.measurements, lc.errors] for lc in split]\n",
    "\n",
    "classnames, indices = np.unique([lc.label for lc in split], return_inverse=True)\n",
    "Y = to_categorical(indices, len(classnames))\n",
    "\n",
    "X_raw = pad_sequences(X_list, value=0., dtype='float', padding='post')\n",
    "X, scale_params = preprocess(X_raw, args.m_max, True, True, True)\n",
    "X = X[:, :, :2]\n",
    "Y = Y[~scale_params['wrong_units']]"
   ]
  },
  {
   "cell_type": "code",
   "execution_count": null,
   "metadata": {
    "collapsed": false
   },
   "outputs": [],
   "source": [
    "encode_layer = [l for l in model.layers if l.name == 'encoding'][0]\n",
    "inputs = [l for l in model.layers if 'Input' in str(l)]\n",
    "encode = K.function([inputs[0].input, inputs[1].input], [encode_layer.output])\n",
    "encoding, = encode([X, X[:, :, 0:1]])\n",
    "encoding.shape"
   ]
  },
  {
   "cell_type": "code",
   "execution_count": null,
   "metadata": {
    "collapsed": false
   },
   "outputs": [],
   "source": [
    "encoding = np.c_[encoding, scale_params['means'], scale_params['scales']]"
   ]
  },
  {
   "cell_type": "code",
   "execution_count": null,
   "metadata": {
    "collapsed": true
   },
   "outputs": [],
   "source": [
    "np.random.seed(0)\n",
    "\n",
    "train = np.sort(np.random.choice(np.arange(len(X)), int(len(X) * 0.8), replace=False))\n",
    "valid = np.arange(len(X))[~np.in1d(np.arange(len(X)), train)]\n",
    "y = np.argmax(Y, axis=1)\n",
    "_, scale_params = preprocess(X_raw, args.m_max, True, True, True)"
   ]
  },
  {
   "cell_type": "code",
   "execution_count": null,
   "metadata": {
    "collapsed": true
   },
   "outputs": [],
   "source": [
    "i = -1"
   ]
  },
  {
   "cell_type": "code",
   "execution_count": null,
   "metadata": {
    "collapsed": false
   },
   "outputs": [],
   "source": [
    "inds = ~np.isnan(X_raw[i, :, 0])\n",
    "#inds = np.arange(args.n_min)\n",
    "i += 1\n",
    "#i = np.random.choice(inds)\n",
    "t = X_raw[i, inds, 0]\n",
    "m = X[i, inds, 1]\n",
    "#m = np.random.normal(size=len(t))\n",
    "e = X_raw[i, inds, 2]\n",
    "\n",
    "plt.errorbar(t, m, e, None, 'o');\n",
    "#plt.plot(t, pred[i], 'o');\n",
    "#plt.errorbar(t, pred[i], None, None, 'o');\n",
    "\n",
    "from gatspy.periodic import LombScargleFast\n",
    "gat_resids = np.zeros(len(X))\n",
    "model_gat = LombScargleFast(fit_period=True, optimizer_kwds={'period_range': (0.001 * (t.max() - t.min()), 0.95 * (t.max() - t.min())), 'quiet': True}, silence_warnings=True)\n",
    "model_gat.fit(t, m)\n",
    "print(\"Best period: {} (Score: {})\".format(model_gat.best_period, model_gat.score(model_gat.best_period).item()))\n",
    "\n",
    "#w_r, A_r, phi_r, b_r = pred_gru[i]\n",
    "#x_r = A_r * np.sin(2 * np.pi * w_r * t + phi_r) + b_r\n",
    "#plt.plot(t, x_r, '--')\n",
    "\n",
    "plt.legend(['Original'])\n",
    "plt.title(\"i={} ({})\".format(i, classnames[y[i]]))"
   ]
  },
  {
   "cell_type": "code",
   "execution_count": null,
   "metadata": {
    "collapsed": false
   },
   "outputs": [],
   "source": [
    "from sklearn.svm import SVC\n",
    "from sklearn.ensemble import RandomForestClassifier\n",
    "from sklearn.model_selection import train_test_split, GridSearchCV\n",
    "\n",
    "#enc_train, enc_test, y_train, y_test = train_test_split(encoding, y, test_size=0.25, random_state=42)\n",
    "enc_train = encoding[train]; y_train = y[train]\n",
    "enc_test = encoding[test]; y_train = y[test]\n",
    "\n",
    "#asas_model = RandomForestClassifier(n_estimators=128)\n",
    "asas_model = GridSearchCV(RandomForestClassifier(), {'n_estimators': [100, 250], 'criterion': ['gini', 'entropy'], 'max_features': [0.1, 0.2, 0.3]})\n",
    "#asas_model = SVC()\n",
    "asas_model.fit(enc_train, y_train)"
   ]
  },
  {
   "cell_type": "code",
   "execution_count": null,
   "metadata": {
    "collapsed": false
   },
   "outputs": [],
   "source": [
    "print(\"Training score: {}%\".format(100 * asas_model.score(enc_train, y_train)))\n",
    "print(\"Test score: {}%\".format(100 * asas_model.score(enc_test, y_test)))"
   ]
  },
  {
   "cell_type": "markdown",
   "metadata": {},
   "source": [
    "# Direct classifier"
   ]
  },
  {
   "cell_type": "code",
   "execution_count": null,
   "metadata": {
    "collapsed": false
   },
   "outputs": [],
   "source": [
    "%run asas 64 2 0.25 --model_type gru --lr 1e-3 --sim_type asas/n200 --nb_epoch 25 --n_min 200 --n_max 200 --m_max 32"
   ]
  },
  {
   "cell_type": "markdown",
   "metadata": {},
   "source": [
    "# Light curve database"
   ]
  },
  {
   "cell_type": "raw",
   "metadata": {
    "collapsed": false
   },
   "source": [
    "%%time\n",
    "import glob\n",
    "import os\n",
    "from io import StringIO\n",
    "\n",
    "from db_models import db, LightCurve\n",
    "\n",
    "LightCurve.delete().where(LightCurve.survey == \"ASAS\").execute()\n",
    "data_source = []\n",
    "for fname in glob.glob('./data/asas/*/*'):\n",
    "    with open(fname) as f:\n",
    "        dfs = [pd.read_csv(StringIO(chunk), comment='#', delim_whitespace=True) for chunk in f.read().split('#     ')[1:]]\n",
    "        if len(dfs) > 0:\n",
    "            df = pd.concat(dfs)[['HJD', 'MAG_0', 'MER_0', 'GRADE']].sort_values(by='HJD')\n",
    "            df = df[df.GRADE <= 'B']\n",
    "            df.drop_duplicates(subset=['HJD'], keep='first', inplace=True)\n",
    "\n",
    "            data_source.append({'name': os.path.basename(fname), 'survey': 'ASAS', 'times': df.HJD.values, \n",
    "                                'measurements': df.MAG_0.values, 'errors': df.MER_0.values,\n",
    "#                                'best_period': model_gat.best_period, 'best_score': model_gat.score(model_gat.best_period).item()\n",
    "                               })\n",
    "            \n",
    "with db.atomic():\n",
    "    for idx in range(0, len(data_source), 100):\n",
    "        LightCurve.insert_many(data_source[idx:idx + 100]).execute()"
   ]
  },
  {
   "cell_type": "raw",
   "metadata": {},
   "source": [
    "%%time\n",
    "from gatspy.periodic import LombScargleFast\n",
    "\n",
    "for lc in LightCurve.select().where(LightCurve.best_score >> None):\n",
    "    model_gat = LombScargleFast(fit_period=True, optimizer_kwds={'period_range': (0.005 * (max(lc.times) - min(lc.times)), 0.95 * (max(lc.times) - min(lc.times))), 'quiet': True}, silence_warnings=True)\n",
    "    model_gat.fit(lc.times, lc.measurements, lc.errors)\n",
    "    lc.best_period = model_gat.best_period\n",
    "    lc.best_score = model_gat.score(model_gat.best_period).item()\n",
    "    lc.save()"
   ]
  },
  {
   "cell_type": "raw",
   "metadata": {
    "collapsed": false
   },
   "source": [
    "%%time\n",
    "from db_models import LightCurve\n",
    "\n",
    "bigmacc = pd.read_csv('data/asas/bigmacc.txt', delimiter='\\t')\n",
    "with db.atomic():\n",
    "    for i, row in bigmacc.iterrows():\n",
    "        try:\n",
    "            lc = LightCurve.get(name=row.ASAS_ID)\n",
    "            lc.label = row.CLASS\n",
    "            lc.save()\n",
    "        except LightCurve.DoesNotExist:\n",
    "            pass"
   ]
  },
  {
   "cell_type": "raw",
   "metadata": {},
   "source": [
    "from db_models import LightCurve\n",
    "\n",
    "top_classes = ['Mira', 'RR_Lyrae_FM', 'W_Ursae_Maj']\n",
    "full = LightCurve.select().where(LightCurve.label << top_classes)\n",
    "split = [el for lc in full for el in lc.split(200, 200)]\n",
    "(len(full), len(split))"
   ]
  }
 ],
 "metadata": {
  "anaconda-cloud": {},
  "kernelspec": {
   "display_name": "Python 3",
   "language": "python",
   "name": "python3"
  },
  "language_info": {
   "codemirror_mode": {
    "name": "ipython",
    "version": 3
   },
   "file_extension": ".py",
   "mimetype": "text/x-python",
   "name": "python",
   "nbconvert_exporter": "python",
   "pygments_lexer": "ipython3",
   "version": "3.6.0"
  }
 },
 "nbformat": 4,
 "nbformat_minor": 1
}
