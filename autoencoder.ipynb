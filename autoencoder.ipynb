{
 "cells": [
  {
   "cell_type": "code",
   "execution_count": 1,
   "metadata": {
    "collapsed": false
   },
   "outputs": [
    {
     "name": "stdout",
     "output_type": "stream",
     "text": [
      "The autoreload extension is already loaded. To reload it, use:\n",
      "  %reload_ext autoreload\n"
     ]
    },
    {
     "name": "stderr",
     "output_type": "stream",
     "text": [
      "/Users/brettnaul/miniconda3/envs/deep/lib/python3.5/site-packages/IPython/html.py:14: ShimWarning: The `IPython.html` package has been deprecated. You should import from `notebook` instead. `IPython.html.widgets` has moved to `ipywidgets`.\n",
      "  \"`IPython.html.widgets` has moved to `ipywidgets`.\", ShimWarning)\n"
     ]
    }
   ],
   "source": [
    "import numpy as np\n",
    "import pandas as pd\n",
    "import matplotlib.pyplot as plt\n",
    "import seaborn as sns\n",
    "%matplotlib inline\n",
    "plt.rcParams['figure.figsize'] = 9, 6\n",
    "%load_ext autoreload\n",
    "%autoreload 2"
   ]
  },
  {
   "cell_type": "raw",
   "metadata": {
    "collapsed": false
   },
   "source": [
    "from keras import backend as K\n",
    "import sample_datae\n",
    "%run autoencoder.py 64 4 0.25 --no_train --uneven --model_type conv --sigma 0.5 --lr 5e-4 --sim_type autoencoder/uneven/noise0.5 --filter_length 7 --nb_epoch 10 --batch_norm\n",
    "Y = sample_data.phase_to_sin_cos(Y)\n",
    "train = np.arange(args.N_train)\n",
    "test = args.N_train + np.arange(args.N_test)"
   ]
  },
  {
   "cell_type": "code",
   "execution_count": 97,
   "metadata": {
    "collapsed": false
   },
   "outputs": [
    {
     "name": "stderr",
     "output_type": "stream",
     "text": [
      "/Users/brettnaul/Dropbox/Documents/timeflow/survey_lcs.py:61: FutureWarning: sort(columns=....) is deprecated, use sort_values(by=.....)\n",
      "  X, scale_params = preprocess(X_raw, args.m_max)\n"
     ]
    },
    {
     "ename": "NameError",
     "evalue": "name 'LombScargleFast' is not defined",
     "output_type": "error",
     "traceback": [
      "\u001b[0;31m---------------------------------------------------------------------------\u001b[0m",
      "\u001b[0;31mNameError\u001b[0m                                 Traceback (most recent call last)",
      "\u001b[0;32m/Users/brettnaul/Dropbox/Documents/timeflow/survey_lcs.py\u001b[0m in \u001b[0;36m<module>\u001b[0;34m()\u001b[0m\n\u001b[1;32m     90\u001b[0m \u001b[0;34m\u001b[0m\u001b[0m\n\u001b[1;32m     91\u001b[0m \u001b[0;32mif\u001b[0m \u001b[0m__name__\u001b[0m \u001b[0;34m==\u001b[0m \u001b[0;34m'__main__'\u001b[0m\u001b[0;34m:\u001b[0m\u001b[0;34m\u001b[0m\u001b[0m\n\u001b[0;32m---> 92\u001b[0;31m     \u001b[0mX\u001b[0m\u001b[0;34m,\u001b[0m \u001b[0mX_raw\u001b[0m\u001b[0;34m,\u001b[0m \u001b[0mmodel\u001b[0m\u001b[0;34m,\u001b[0m \u001b[0margs\u001b[0m \u001b[0;34m=\u001b[0m \u001b[0mmain\u001b[0m\u001b[0;34m(\u001b[0m\u001b[0;34m)\u001b[0m\u001b[0;34m\u001b[0m\u001b[0m\n\u001b[0m",
      "\u001b[0;32m/Users/brettnaul/Dropbox/Documents/timeflow/survey_lcs.py\u001b[0m in \u001b[0;36mmain\u001b[0;34m(args)\u001b[0m\n\u001b[1;32m     70\u001b[0m     \u001b[0mK\u001b[0m\u001b[0;34m.\u001b[0m\u001b[0mset_session\u001b[0m\u001b[0;34m(\u001b[0m\u001b[0mku\u001b[0m\u001b[0;34m.\u001b[0m\u001b[0mlimited_memory_session\u001b[0m\u001b[0;34m(\u001b[0m\u001b[0margs\u001b[0m\u001b[0;34m.\u001b[0m\u001b[0mgpu_frac\u001b[0m\u001b[0;34m,\u001b[0m \u001b[0margs\u001b[0m\u001b[0;34m.\u001b[0m\u001b[0mgpu_id\u001b[0m\u001b[0;34m)\u001b[0m\u001b[0;34m)\u001b[0m\u001b[0;34m\u001b[0m\u001b[0m\n\u001b[1;32m     71\u001b[0m     \u001b[0mX_raw\u001b[0m \u001b[0;34m=\u001b[0m \u001b[0mpad_sequences\u001b[0m\u001b[0;34m(\u001b[0m\u001b[0mX_list\u001b[0m\u001b[0;34m,\u001b[0m \u001b[0mvalue\u001b[0m\u001b[0;34m=\u001b[0m\u001b[0mnp\u001b[0m\u001b[0;34m.\u001b[0m\u001b[0mnan\u001b[0m\u001b[0;34m,\u001b[0m \u001b[0mdtype\u001b[0m\u001b[0;34m=\u001b[0m\u001b[0;34m'float'\u001b[0m\u001b[0;34m,\u001b[0m \u001b[0mpadding\u001b[0m\u001b[0;34m=\u001b[0m\u001b[0;34m'post'\u001b[0m\u001b[0;34m)\u001b[0m\u001b[0;34m\u001b[0m\u001b[0m\n\u001b[0;32m---> 72\u001b[0;31m     \u001b[0mX\u001b[0m\u001b[0;34m,\u001b[0m \u001b[0mscale_params\u001b[0m \u001b[0;34m=\u001b[0m \u001b[0mpreprocess\u001b[0m\u001b[0;34m(\u001b[0m\u001b[0mX_raw\u001b[0m\u001b[0;34m,\u001b[0m \u001b[0margs\u001b[0m\u001b[0;34m.\u001b[0m\u001b[0mm_max\u001b[0m\u001b[0;34m)\u001b[0m\u001b[0;34m\u001b[0m\u001b[0m\n\u001b[0m\u001b[1;32m     73\u001b[0m     \u001b[0mmain_input\u001b[0m \u001b[0;34m=\u001b[0m \u001b[0mInput\u001b[0m\u001b[0;34m(\u001b[0m\u001b[0mshape\u001b[0m\u001b[0;34m=\u001b[0m\u001b[0;34m(\u001b[0m\u001b[0mX\u001b[0m\u001b[0;34m.\u001b[0m\u001b[0mshape\u001b[0m\u001b[0;34m[\u001b[0m\u001b[0;36m1\u001b[0m\u001b[0;34m]\u001b[0m\u001b[0;34m,\u001b[0m \u001b[0mX\u001b[0m\u001b[0;34m.\u001b[0m\u001b[0mshape\u001b[0m\u001b[0;34m[\u001b[0m\u001b[0;34m-\u001b[0m\u001b[0;36m1\u001b[0m\u001b[0;34m]\u001b[0m\u001b[0;34m)\u001b[0m\u001b[0;34m,\u001b[0m \u001b[0mname\u001b[0m\u001b[0;34m=\u001b[0m\u001b[0;34m'main_input'\u001b[0m\u001b[0;34m)\u001b[0m\u001b[0;34m\u001b[0m\u001b[0m\n\u001b[1;32m     74\u001b[0m     \u001b[0maux_input\u001b[0m \u001b[0;34m=\u001b[0m \u001b[0mInput\u001b[0m\u001b[0;34m(\u001b[0m\u001b[0mshape\u001b[0m\u001b[0;34m=\u001b[0m\u001b[0;34m(\u001b[0m\u001b[0mX\u001b[0m\u001b[0;34m.\u001b[0m\u001b[0mshape\u001b[0m\u001b[0;34m[\u001b[0m\u001b[0;36m1\u001b[0m\u001b[0;34m]\u001b[0m\u001b[0;34m,\u001b[0m \u001b[0mX\u001b[0m\u001b[0;34m.\u001b[0m\u001b[0mshape\u001b[0m\u001b[0;34m[\u001b[0m\u001b[0;34m-\u001b[0m\u001b[0;36m1\u001b[0m\u001b[0;34m]\u001b[0m \u001b[0;34m-\u001b[0m \u001b[0;36m1\u001b[0m\u001b[0;34m)\u001b[0m\u001b[0;34m,\u001b[0m \u001b[0mname\u001b[0m\u001b[0;34m=\u001b[0m\u001b[0;34m'aux_input'\u001b[0m\u001b[0;34m)\u001b[0m\u001b[0;34m\u001b[0m\u001b[0m\n",
      "\u001b[0;32m/Users/brettnaul/Dropbox/Documents/timeflow/survey_lcs.py\u001b[0m in \u001b[0;36mpreprocess\u001b[0;34m(X_raw, m_max)\u001b[0m\n\u001b[1;32m     30\u001b[0m         \u001b[0mm\u001b[0m \u001b[0;34m=\u001b[0m \u001b[0mX\u001b[0m\u001b[0;34m[\u001b[0m\u001b[0mi\u001b[0m\u001b[0;34m,\u001b[0m \u001b[0;34m:\u001b[0m\u001b[0;34m,\u001b[0m \u001b[0;36m1\u001b[0m\u001b[0;34m]\u001b[0m\u001b[0;34m\u001b[0m\u001b[0m\n\u001b[1;32m     31\u001b[0m         \u001b[0mopt_args\u001b[0m \u001b[0;34m=\u001b[0m \u001b[0;34m{\u001b[0m\u001b[0;34m'period_range'\u001b[0m\u001b[0;34m:\u001b[0m \u001b[0;34m(\u001b[0m\u001b[0;36m0.05\u001b[0m \u001b[0;34m*\u001b[0m \u001b[0;34m(\u001b[0m\u001b[0mt\u001b[0m\u001b[0;34m.\u001b[0m\u001b[0mmax\u001b[0m\u001b[0;34m(\u001b[0m\u001b[0;34m)\u001b[0m \u001b[0;34m-\u001b[0m \u001b[0mt\u001b[0m\u001b[0;34m.\u001b[0m\u001b[0mmin\u001b[0m\u001b[0;34m(\u001b[0m\u001b[0;34m)\u001b[0m\u001b[0;34m)\u001b[0m\u001b[0;34m,\u001b[0m \u001b[0;36m0.95\u001b[0m \u001b[0;34m*\u001b[0m \u001b[0;34m(\u001b[0m\u001b[0mt\u001b[0m\u001b[0;34m.\u001b[0m\u001b[0mmax\u001b[0m\u001b[0;34m(\u001b[0m\u001b[0;34m)\u001b[0m \u001b[0;34m-\u001b[0m \u001b[0mt\u001b[0m\u001b[0;34m.\u001b[0m\u001b[0mmin\u001b[0m\u001b[0;34m(\u001b[0m\u001b[0;34m)\u001b[0m\u001b[0;34m)\u001b[0m\u001b[0;34m)\u001b[0m\u001b[0;34m,\u001b[0m \u001b[0;34m'quiet'\u001b[0m\u001b[0;34m:\u001b[0m \u001b[0;32mTrue\u001b[0m\u001b[0;34m}\u001b[0m\u001b[0;34m\u001b[0m\u001b[0m\n\u001b[0;32m---> 32\u001b[0;31m         model_gat = LombScargleFast(fit_period=True, optimizer_kwds=opt_args,\n\u001b[0m\u001b[1;32m     33\u001b[0m                                     silence_warnings=True)\n\u001b[1;32m     34\u001b[0m         \u001b[0mmodel_gat\u001b[0m\u001b[0;34m.\u001b[0m\u001b[0mfit\u001b[0m\u001b[0;34m(\u001b[0m\u001b[0mt\u001b[0m\u001b[0;34m,\u001b[0m \u001b[0mm\u001b[0m\u001b[0;34m)\u001b[0m\u001b[0;34m\u001b[0m\u001b[0m\n",
      "\u001b[0;31mNameError\u001b[0m: name 'LombScargleFast' is not defined"
     ]
    }
   ],
   "source": [
    "from keras import backend as K\n",
    "%run survey_lcs.py 64 2 0.25 --model_type gru --lr 5e-4 --sim_type survey_lcs/n200_periodic --nb_epoch 1 --n_min 200 --n_max 200 --m_max 32 --embedding 64"
   ]
  },
  {
   "cell_type": "markdown",
   "metadata": {},
   "source": [
    "# Visualizing predictions"
   ]
  },
  {
   "cell_type": "raw",
   "metadata": {
    "collapsed": false
   },
   "source": [
    "%%time\n",
    "pred = model.predict({'main_input': X, 'aux_input': X[:, :, [0,]]}, batch_size=500)"
   ]
  },
  {
   "cell_type": "raw",
   "metadata": {
    "collapsed": false
   },
   "source": [
    "inds = np.arange(1000)\n",
    "model.evaluate({'main_input': X[inds], 'aux_input': np.delete(X[inds], 1, axis=2)}, X_raw[inds, :, 1:2], batch_size=500)"
   ]
  },
  {
   "cell_type": "raw",
   "metadata": {
    "collapsed": false
   },
   "source": [
    "train = np.arange(args.N_train); test = args.N_train + np.arange(args.N_test)\n",
    "i = train[0] - 1"
   ]
  },
  {
   "cell_type": "raw",
   "metadata": {
    "collapsed": false
   },
   "source": [
    "i += 1\n",
    "if args.even:\n",
    "    t = np.linspace(0, 2 * np.pi, X.shape[1])\n",
    "    m = X[i, :, 0]\n",
    "    pred_i = model.predict(X[[i]])[0, :, 0]\n",
    "else:\n",
    "    inds = (X[i, :, 0] >= 0.)\n",
    "    t = X_raw[i, inds, 0]\n",
    "    m_raw = X_raw[i, inds, 1]\n",
    "    m = X[i, inds, 1]\n",
    "    pred_i = model.predict({'main_input': X[i:i+1], 'aux_input': X[i:i+1, :, [0,]]})[0, inds, 0]\n",
    "\n",
    "T = np.linspace(0, t.max(), 501)\n",
    "def sinusoid(p, A1, A2, b):\n",
    "    return lambda t: A1 * np.cos(2 * np.pi / p * t) + A2 * np.sin(2 * np.pi / p * t) + b\n",
    "\n",
    "plt.plot(T, sinusoid(*Y[i])(T))\n",
    "plt.plot(t, m, 'o')\n",
    "plt.plot(t, pred_i, 'o')\n",
    "\n",
    "#w_r, A_r, phi_r, b_r = pred_gru[i]\n",
    "#x_r = A_r * np.sin(2 * np.pi * w_r * t + phi_r) + b_r\n",
    "#plt.plot(t, x_r, '--')\n",
    "#plt.legend(['Noisy', 'Original'])\n",
    "plt.title(\"MSE: {}\".format(np.mean((m_raw - pred_i) ** 2)));"
   ]
  },
  {
   "cell_type": "code",
   "execution_count": 6,
   "metadata": {
    "collapsed": false
   },
   "outputs": [
    {
     "name": "stdout",
     "output_type": "stream",
     "text": [
      "CPU times: user 15min 39s, sys: 3min 36s, total: 19min 16s\n",
      "Wall time: 3min 58s\n"
     ]
    }
   ],
   "source": [
    "%%time\n",
    "pred = model.predict({'main_input': X, 'aux_input': X[:, :, [0,]]}, batch_size=500)"
   ]
  },
  {
   "cell_type": "raw",
   "metadata": {
    "collapsed": false
   },
   "source": [
    "model.evaluate({'main_input': X, 'aux_input': np.delete(X, 1, axis=2)}, X[:, :, 1:2], batch_size=32)"
   ]
  },
  {
   "cell_type": "code",
   "execution_count": 7,
   "metadata": {
    "collapsed": true
   },
   "outputs": [],
   "source": [
    "i = -1"
   ]
  },
  {
   "cell_type": "code",
   "execution_count": 96,
   "metadata": {
    "collapsed": false
   },
   "outputs": [
    {
     "name": "stderr",
     "output_type": "stream",
     "text": [
      "/Users/brettnaul/miniconda3/envs/deep/lib/python3.5/site-packages/ipykernel/__main__.py:1: RuntimeWarning: invalid value encountered in greater\n",
      "  if __name__ == '__main__':\n"
     ]
    },
    {
     "data": {
      "text/plain": [
       "6066"
      ]
     },
     "execution_count": 96,
     "metadata": {},
     "output_type": "execute_result"
    }
   ],
   "source": [
    "np.sum(best_scores > 0.075)"
   ]
  },
  {
   "cell_type": "code",
   "execution_count": 93,
   "metadata": {
    "collapsed": false
   },
   "outputs": [
    {
     "name": "stderr",
     "output_type": "stream",
     "text": [
      "/Users/brettnaul/miniconda3/envs/deep/lib/python3.5/site-packages/gatspy/periodic/lomb_scargle_fast.py:324: RuntimeWarning: invalid value encountered in true_divide\n",
      "  power = (YC * YC / CC + YS * YS / SS) / YY\n",
      "/Users/brettnaul/miniconda3/envs/deep/lib/python3.5/site-packages/gatspy/periodic/lomb_scargle_fast.py:324: RuntimeWarning: invalid value encountered in true_divide\n",
      "  power = (YC * YC / CC + YS * YS / SS) / YY\n",
      "/Users/brettnaul/miniconda3/envs/deep/lib/python3.5/site-packages/gatspy/periodic/lomb_scargle_fast.py:324: RuntimeWarning: invalid value encountered in true_divide\n",
      "  power = (YC * YC / CC + YS * YS / SS) / YY\n",
      "/Users/brettnaul/miniconda3/envs/deep/lib/python3.5/site-packages/gatspy/periodic/lomb_scargle_fast.py:324: RuntimeWarning: invalid value encountered in true_divide\n",
      "  power = (YC * YC / CC + YS * YS / SS) / YY\n",
      "/Users/brettnaul/miniconda3/envs/deep/lib/python3.5/site-packages/gatspy/periodic/lomb_scargle_fast.py:324: RuntimeWarning: invalid value encountered in true_divide\n",
      "  power = (YC * YC / CC + YS * YS / SS) / YY\n",
      "/Users/brettnaul/miniconda3/envs/deep/lib/python3.5/site-packages/gatspy/periodic/lomb_scargle_fast.py:324: RuntimeWarning: invalid value encountered in true_divide\n",
      "  power = (YC * YC / CC + YS * YS / SS) / YY\n",
      "/Users/brettnaul/miniconda3/envs/deep/lib/python3.5/site-packages/gatspy/periodic/_least_squares_mixin.py:79: RuntimeWarning: invalid value encountered in true_divide\n",
      "  P = chi2_0_minus_chi2 / chi2_ref\n",
      "/Users/brettnaul/miniconda3/envs/deep/lib/python3.5/site-packages/gatspy/periodic/lomb_scargle_fast.py:324: RuntimeWarning: invalid value encountered in true_divide\n",
      "  power = (YC * YC / CC + YS * YS / SS) / YY\n",
      "/Users/brettnaul/miniconda3/envs/deep/lib/python3.5/site-packages/gatspy/periodic/lomb_scargle_fast.py:324: RuntimeWarning: invalid value encountered in true_divide\n",
      "  power = (YC * YC / CC + YS * YS / SS) / YY\n",
      "/Users/brettnaul/miniconda3/envs/deep/lib/python3.5/site-packages/gatspy/periodic/lomb_scargle_fast.py:324: RuntimeWarning: invalid value encountered in true_divide\n",
      "  power = (YC * YC / CC + YS * YS / SS) / YY\n",
      "/Users/brettnaul/miniconda3/envs/deep/lib/python3.5/site-packages/gatspy/periodic/lomb_scargle_fast.py:324: RuntimeWarning: invalid value encountered in true_divide\n",
      "  power = (YC * YC / CC + YS * YS / SS) / YY\n",
      "/Users/brettnaul/miniconda3/envs/deep/lib/python3.5/site-packages/gatspy/periodic/lomb_scargle_fast.py:324: RuntimeWarning: invalid value encountered in true_divide\n",
      "  power = (YC * YC / CC + YS * YS / SS) / YY\n",
      "/Users/brettnaul/miniconda3/envs/deep/lib/python3.5/site-packages/gatspy/periodic/lomb_scargle_fast.py:324: RuntimeWarning: invalid value encountered in true_divide\n",
      "  power = (YC * YC / CC + YS * YS / SS) / YY\n",
      "/Users/brettnaul/miniconda3/envs/deep/lib/python3.5/site-packages/gatspy/periodic/_least_squares_mixin.py:79: RuntimeWarning: invalid value encountered in true_divide\n",
      "  P = chi2_0_minus_chi2 / chi2_ref\n",
      "/Users/brettnaul/miniconda3/envs/deep/lib/python3.5/site-packages/gatspy/periodic/lomb_scargle_fast.py:324: RuntimeWarning: invalid value encountered in true_divide\n",
      "  power = (YC * YC / CC + YS * YS / SS) / YY\n",
      "/Users/brettnaul/miniconda3/envs/deep/lib/python3.5/site-packages/gatspy/periodic/lomb_scargle_fast.py:324: RuntimeWarning: invalid value encountered in true_divide\n",
      "  power = (YC * YC / CC + YS * YS / SS) / YY\n",
      "/Users/brettnaul/miniconda3/envs/deep/lib/python3.5/site-packages/gatspy/periodic/lomb_scargle_fast.py:324: RuntimeWarning: invalid value encountered in true_divide\n",
      "  power = (YC * YC / CC + YS * YS / SS) / YY\n",
      "/Users/brettnaul/miniconda3/envs/deep/lib/python3.5/site-packages/gatspy/periodic/lomb_scargle_fast.py:324: RuntimeWarning: invalid value encountered in true_divide\n",
      "  power = (YC * YC / CC + YS * YS / SS) / YY\n",
      "/Users/brettnaul/miniconda3/envs/deep/lib/python3.5/site-packages/gatspy/periodic/lomb_scargle_fast.py:324: RuntimeWarning: invalid value encountered in true_divide\n",
      "  power = (YC * YC / CC + YS * YS / SS) / YY\n",
      "/Users/brettnaul/miniconda3/envs/deep/lib/python3.5/site-packages/gatspy/periodic/lomb_scargle_fast.py:324: RuntimeWarning: invalid value encountered in true_divide\n",
      "  power = (YC * YC / CC + YS * YS / SS) / YY\n",
      "/Users/brettnaul/miniconda3/envs/deep/lib/python3.5/site-packages/gatspy/periodic/_least_squares_mixin.py:79: RuntimeWarning: invalid value encountered in true_divide\n",
      "  P = chi2_0_minus_chi2 / chi2_ref\n",
      "/Users/brettnaul/miniconda3/envs/deep/lib/python3.5/site-packages/gatspy/periodic/lomb_scargle_fast.py:324: RuntimeWarning: invalid value encountered in true_divide\n",
      "  power = (YC * YC / CC + YS * YS / SS) / YY\n",
      "/Users/brettnaul/miniconda3/envs/deep/lib/python3.5/site-packages/gatspy/periodic/lomb_scargle_fast.py:324: RuntimeWarning: invalid value encountered in true_divide\n",
      "  power = (YC * YC / CC + YS * YS / SS) / YY\n",
      "/Users/brettnaul/miniconda3/envs/deep/lib/python3.5/site-packages/gatspy/periodic/lomb_scargle_fast.py:324: RuntimeWarning: invalid value encountered in true_divide\n",
      "  power = (YC * YC / CC + YS * YS / SS) / YY\n",
      "/Users/brettnaul/miniconda3/envs/deep/lib/python3.5/site-packages/gatspy/periodic/lomb_scargle_fast.py:324: RuntimeWarning: invalid value encountered in true_divide\n",
      "  power = (YC * YC / CC + YS * YS / SS) / YY\n",
      "/Users/brettnaul/miniconda3/envs/deep/lib/python3.5/site-packages/gatspy/periodic/lomb_scargle_fast.py:324: RuntimeWarning: invalid value encountered in true_divide\n",
      "  power = (YC * YC / CC + YS * YS / SS) / YY\n",
      "/Users/brettnaul/miniconda3/envs/deep/lib/python3.5/site-packages/gatspy/periodic/lomb_scargle_fast.py:324: RuntimeWarning: invalid value encountered in true_divide\n",
      "  power = (YC * YC / CC + YS * YS / SS) / YY\n",
      "/Users/brettnaul/miniconda3/envs/deep/lib/python3.5/site-packages/gatspy/periodic/_least_squares_mixin.py:79: RuntimeWarning: invalid value encountered in true_divide\n",
      "  P = chi2_0_minus_chi2 / chi2_ref\n",
      "/Users/brettnaul/miniconda3/envs/deep/lib/python3.5/site-packages/gatspy/periodic/lomb_scargle_fast.py:324: RuntimeWarning: invalid value encountered in true_divide\n",
      "  power = (YC * YC / CC + YS * YS / SS) / YY\n",
      "/Users/brettnaul/miniconda3/envs/deep/lib/python3.5/site-packages/gatspy/periodic/lomb_scargle_fast.py:324: RuntimeWarning: invalid value encountered in true_divide\n",
      "  power = (YC * YC / CC + YS * YS / SS) / YY\n",
      "/Users/brettnaul/miniconda3/envs/deep/lib/python3.5/site-packages/gatspy/periodic/lomb_scargle_fast.py:324: RuntimeWarning: invalid value encountered in true_divide\n",
      "  power = (YC * YC / CC + YS * YS / SS) / YY\n",
      "/Users/brettnaul/miniconda3/envs/deep/lib/python3.5/site-packages/gatspy/periodic/lomb_scargle_fast.py:324: RuntimeWarning: invalid value encountered in true_divide\n",
      "  power = (YC * YC / CC + YS * YS / SS) / YY\n",
      "/Users/brettnaul/miniconda3/envs/deep/lib/python3.5/site-packages/gatspy/periodic/lomb_scargle_fast.py:324: RuntimeWarning: invalid value encountered in true_divide\n",
      "  power = (YC * YC / CC + YS * YS / SS) / YY\n",
      "/Users/brettnaul/miniconda3/envs/deep/lib/python3.5/site-packages/gatspy/periodic/lomb_scargle_fast.py:324: RuntimeWarning: invalid value encountered in true_divide\n",
      "  power = (YC * YC / CC + YS * YS / SS) / YY\n",
      "/Users/brettnaul/miniconda3/envs/deep/lib/python3.5/site-packages/gatspy/periodic/_least_squares_mixin.py:79: RuntimeWarning: invalid value encountered in true_divide\n",
      "  P = chi2_0_minus_chi2 / chi2_ref\n",
      "/Users/brettnaul/miniconda3/envs/deep/lib/python3.5/site-packages/gatspy/periodic/lomb_scargle_fast.py:324: RuntimeWarning: invalid value encountered in true_divide\n",
      "  power = (YC * YC / CC + YS * YS / SS) / YY\n",
      "/Users/brettnaul/miniconda3/envs/deep/lib/python3.5/site-packages/gatspy/periodic/lomb_scargle_fast.py:324: RuntimeWarning: invalid value encountered in true_divide\n",
      "  power = (YC * YC / CC + YS * YS / SS) / YY\n",
      "/Users/brettnaul/miniconda3/envs/deep/lib/python3.5/site-packages/gatspy/periodic/lomb_scargle_fast.py:324: RuntimeWarning: invalid value encountered in true_divide\n",
      "  power = (YC * YC / CC + YS * YS / SS) / YY\n",
      "/Users/brettnaul/miniconda3/envs/deep/lib/python3.5/site-packages/gatspy/periodic/lomb_scargle_fast.py:324: RuntimeWarning: invalid value encountered in true_divide\n",
      "  power = (YC * YC / CC + YS * YS / SS) / YY\n",
      "/Users/brettnaul/miniconda3/envs/deep/lib/python3.5/site-packages/gatspy/periodic/lomb_scargle_fast.py:324: RuntimeWarning: invalid value encountered in true_divide\n",
      "  power = (YC * YC / CC + YS * YS / SS) / YY\n",
      "/Users/brettnaul/miniconda3/envs/deep/lib/python3.5/site-packages/gatspy/periodic/lomb_scargle_fast.py:324: RuntimeWarning: invalid value encountered in true_divide\n",
      "  power = (YC * YC / CC + YS * YS / SS) / YY\n",
      "/Users/brettnaul/miniconda3/envs/deep/lib/python3.5/site-packages/gatspy/periodic/_least_squares_mixin.py:79: RuntimeWarning: invalid value encountered in true_divide\n",
      "  P = chi2_0_minus_chi2 / chi2_ref\n",
      "/Users/brettnaul/miniconda3/envs/deep/lib/python3.5/site-packages/gatspy/periodic/lomb_scargle_fast.py:324: RuntimeWarning: invalid value encountered in true_divide\n",
      "  power = (YC * YC / CC + YS * YS / SS) / YY\n",
      "/Users/brettnaul/miniconda3/envs/deep/lib/python3.5/site-packages/gatspy/periodic/lomb_scargle_fast.py:324: RuntimeWarning: invalid value encountered in true_divide\n",
      "  power = (YC * YC / CC + YS * YS / SS) / YY\n",
      "/Users/brettnaul/miniconda3/envs/deep/lib/python3.5/site-packages/gatspy/periodic/lomb_scargle_fast.py:324: RuntimeWarning: invalid value encountered in true_divide\n",
      "  power = (YC * YC / CC + YS * YS / SS) / YY\n",
      "/Users/brettnaul/miniconda3/envs/deep/lib/python3.5/site-packages/gatspy/periodic/lomb_scargle_fast.py:324: RuntimeWarning: invalid value encountered in true_divide\n",
      "  power = (YC * YC / CC + YS * YS / SS) / YY\n",
      "/Users/brettnaul/miniconda3/envs/deep/lib/python3.5/site-packages/gatspy/periodic/lomb_scargle_fast.py:324: RuntimeWarning: invalid value encountered in true_divide\n",
      "  power = (YC * YC / CC + YS * YS / SS) / YY\n",
      "/Users/brettnaul/miniconda3/envs/deep/lib/python3.5/site-packages/gatspy/periodic/lomb_scargle_fast.py:324: RuntimeWarning: invalid value encountered in true_divide\n",
      "  power = (YC * YC / CC + YS * YS / SS) / YY\n",
      "/Users/brettnaul/miniconda3/envs/deep/lib/python3.5/site-packages/gatspy/periodic/_least_squares_mixin.py:79: RuntimeWarning: invalid value encountered in true_divide\n",
      "  P = chi2_0_minus_chi2 / chi2_ref\n",
      "/Users/brettnaul/miniconda3/envs/deep/lib/python3.5/site-packages/gatspy/periodic/lomb_scargle_fast.py:324: RuntimeWarning: invalid value encountered in true_divide\n",
      "  power = (YC * YC / CC + YS * YS / SS) / YY\n",
      "/Users/brettnaul/miniconda3/envs/deep/lib/python3.5/site-packages/gatspy/periodic/lomb_scargle_fast.py:324: RuntimeWarning: invalid value encountered in true_divide\n",
      "  power = (YC * YC / CC + YS * YS / SS) / YY\n",
      "/Users/brettnaul/miniconda3/envs/deep/lib/python3.5/site-packages/gatspy/periodic/lomb_scargle_fast.py:324: RuntimeWarning: invalid value encountered in true_divide\n",
      "  power = (YC * YC / CC + YS * YS / SS) / YY\n",
      "/Users/brettnaul/miniconda3/envs/deep/lib/python3.5/site-packages/gatspy/periodic/lomb_scargle_fast.py:324: RuntimeWarning: invalid value encountered in true_divide\n",
      "  power = (YC * YC / CC + YS * YS / SS) / YY\n",
      "/Users/brettnaul/miniconda3/envs/deep/lib/python3.5/site-packages/gatspy/periodic/lomb_scargle_fast.py:324: RuntimeWarning: invalid value encountered in true_divide\n",
      "  power = (YC * YC / CC + YS * YS / SS) / YY\n",
      "/Users/brettnaul/miniconda3/envs/deep/lib/python3.5/site-packages/gatspy/periodic/lomb_scargle_fast.py:324: RuntimeWarning: invalid value encountered in true_divide\n",
      "  power = (YC * YC / CC + YS * YS / SS) / YY\n",
      "/Users/brettnaul/miniconda3/envs/deep/lib/python3.5/site-packages/gatspy/periodic/_least_squares_mixin.py:79: RuntimeWarning: invalid value encountered in true_divide\n",
      "  P = chi2_0_minus_chi2 / chi2_ref\n",
      "/Users/brettnaul/miniconda3/envs/deep/lib/python3.5/site-packages/gatspy/periodic/lomb_scargle_fast.py:324: RuntimeWarning: invalid value encountered in true_divide\n",
      "  power = (YC * YC / CC + YS * YS / SS) / YY\n",
      "/Users/brettnaul/miniconda3/envs/deep/lib/python3.5/site-packages/gatspy/periodic/lomb_scargle_fast.py:324: RuntimeWarning: invalid value encountered in true_divide\n",
      "  power = (YC * YC / CC + YS * YS / SS) / YY\n",
      "/Users/brettnaul/miniconda3/envs/deep/lib/python3.5/site-packages/gatspy/periodic/lomb_scargle_fast.py:324: RuntimeWarning: invalid value encountered in true_divide\n",
      "  power = (YC * YC / CC + YS * YS / SS) / YY\n",
      "/Users/brettnaul/miniconda3/envs/deep/lib/python3.5/site-packages/gatspy/periodic/lomb_scargle_fast.py:324: RuntimeWarning: invalid value encountered in true_divide\n",
      "  power = (YC * YC / CC + YS * YS / SS) / YY\n",
      "/Users/brettnaul/miniconda3/envs/deep/lib/python3.5/site-packages/gatspy/periodic/lomb_scargle_fast.py:324: RuntimeWarning: invalid value encountered in true_divide\n",
      "  power = (YC * YC / CC + YS * YS / SS) / YY\n",
      "/Users/brettnaul/miniconda3/envs/deep/lib/python3.5/site-packages/gatspy/periodic/lomb_scargle_fast.py:324: RuntimeWarning: invalid value encountered in true_divide\n",
      "  power = (YC * YC / CC + YS * YS / SS) / YY\n",
      "/Users/brettnaul/miniconda3/envs/deep/lib/python3.5/site-packages/gatspy/periodic/_least_squares_mixin.py:79: RuntimeWarning: invalid value encountered in true_divide\n",
      "  P = chi2_0_minus_chi2 / chi2_ref\n",
      "/Users/brettnaul/miniconda3/envs/deep/lib/python3.5/site-packages/gatspy/periodic/lomb_scargle_fast.py:324: RuntimeWarning: invalid value encountered in true_divide\n",
      "  power = (YC * YC / CC + YS * YS / SS) / YY\n",
      "/Users/brettnaul/miniconda3/envs/deep/lib/python3.5/site-packages/gatspy/periodic/lomb_scargle_fast.py:324: RuntimeWarning: invalid value encountered in true_divide\n",
      "  power = (YC * YC / CC + YS * YS / SS) / YY\n",
      "/Users/brettnaul/miniconda3/envs/deep/lib/python3.5/site-packages/gatspy/periodic/lomb_scargle_fast.py:324: RuntimeWarning: invalid value encountered in true_divide\n",
      "  power = (YC * YC / CC + YS * YS / SS) / YY\n",
      "/Users/brettnaul/miniconda3/envs/deep/lib/python3.5/site-packages/gatspy/periodic/lomb_scargle_fast.py:324: RuntimeWarning: invalid value encountered in true_divide\n",
      "  power = (YC * YC / CC + YS * YS / SS) / YY\n",
      "/Users/brettnaul/miniconda3/envs/deep/lib/python3.5/site-packages/gatspy/periodic/lomb_scargle_fast.py:324: RuntimeWarning: invalid value encountered in true_divide\n",
      "  power = (YC * YC / CC + YS * YS / SS) / YY\n",
      "/Users/brettnaul/miniconda3/envs/deep/lib/python3.5/site-packages/gatspy/periodic/lomb_scargle_fast.py:324: RuntimeWarning: invalid value encountered in true_divide\n",
      "  power = (YC * YC / CC + YS * YS / SS) / YY\n",
      "/Users/brettnaul/miniconda3/envs/deep/lib/python3.5/site-packages/gatspy/periodic/_least_squares_mixin.py:79: RuntimeWarning: invalid value encountered in true_divide\n",
      "  P = chi2_0_minus_chi2 / chi2_ref\n",
      "/Users/brettnaul/miniconda3/envs/deep/lib/python3.5/site-packages/gatspy/periodic/lomb_scargle_fast.py:324: RuntimeWarning: invalid value encountered in true_divide\n",
      "  power = (YC * YC / CC + YS * YS / SS) / YY\n",
      "/Users/brettnaul/miniconda3/envs/deep/lib/python3.5/site-packages/gatspy/periodic/lomb_scargle_fast.py:324: RuntimeWarning: invalid value encountered in true_divide\n",
      "  power = (YC * YC / CC + YS * YS / SS) / YY\n",
      "/Users/brettnaul/miniconda3/envs/deep/lib/python3.5/site-packages/gatspy/periodic/lomb_scargle_fast.py:324: RuntimeWarning: invalid value encountered in true_divide\n",
      "  power = (YC * YC / CC + YS * YS / SS) / YY\n",
      "/Users/brettnaul/miniconda3/envs/deep/lib/python3.5/site-packages/gatspy/periodic/lomb_scargle_fast.py:324: RuntimeWarning: invalid value encountered in true_divide\n",
      "  power = (YC * YC / CC + YS * YS / SS) / YY\n",
      "/Users/brettnaul/miniconda3/envs/deep/lib/python3.5/site-packages/gatspy/periodic/lomb_scargle_fast.py:324: RuntimeWarning: invalid value encountered in true_divide\n",
      "  power = (YC * YC / CC + YS * YS / SS) / YY\n",
      "/Users/brettnaul/miniconda3/envs/deep/lib/python3.5/site-packages/gatspy/periodic/lomb_scargle_fast.py:324: RuntimeWarning: invalid value encountered in true_divide\n",
      "  power = (YC * YC / CC + YS * YS / SS) / YY\n",
      "/Users/brettnaul/miniconda3/envs/deep/lib/python3.5/site-packages/gatspy/periodic/_least_squares_mixin.py:79: RuntimeWarning: invalid value encountered in true_divide\n",
      "  P = chi2_0_minus_chi2 / chi2_ref\n",
      "/Users/brettnaul/miniconda3/envs/deep/lib/python3.5/site-packages/gatspy/periodic/lomb_scargle_fast.py:324: RuntimeWarning: invalid value encountered in true_divide\n",
      "  power = (YC * YC / CC + YS * YS / SS) / YY\n",
      "/Users/brettnaul/miniconda3/envs/deep/lib/python3.5/site-packages/gatspy/periodic/lomb_scargle_fast.py:324: RuntimeWarning: invalid value encountered in true_divide\n",
      "  power = (YC * YC / CC + YS * YS / SS) / YY\n",
      "/Users/brettnaul/miniconda3/envs/deep/lib/python3.5/site-packages/gatspy/periodic/lomb_scargle_fast.py:324: RuntimeWarning: invalid value encountered in true_divide\n",
      "  power = (YC * YC / CC + YS * YS / SS) / YY\n",
      "/Users/brettnaul/miniconda3/envs/deep/lib/python3.5/site-packages/gatspy/periodic/lomb_scargle_fast.py:324: RuntimeWarning: invalid value encountered in true_divide\n",
      "  power = (YC * YC / CC + YS * YS / SS) / YY\n",
      "/Users/brettnaul/miniconda3/envs/deep/lib/python3.5/site-packages/gatspy/periodic/lomb_scargle_fast.py:324: RuntimeWarning: invalid value encountered in true_divide\n",
      "  power = (YC * YC / CC + YS * YS / SS) / YY\n",
      "/Users/brettnaul/miniconda3/envs/deep/lib/python3.5/site-packages/gatspy/periodic/lomb_scargle_fast.py:324: RuntimeWarning: invalid value encountered in true_divide\n",
      "  power = (YC * YC / CC + YS * YS / SS) / YY\n",
      "/Users/brettnaul/miniconda3/envs/deep/lib/python3.5/site-packages/gatspy/periodic/_least_squares_mixin.py:79: RuntimeWarning: invalid value encountered in true_divide\n",
      "  P = chi2_0_minus_chi2 / chi2_ref\n",
      "/Users/brettnaul/miniconda3/envs/deep/lib/python3.5/site-packages/gatspy/periodic/lomb_scargle_fast.py:324: RuntimeWarning: invalid value encountered in true_divide\n",
      "  power = (YC * YC / CC + YS * YS / SS) / YY\n",
      "/Users/brettnaul/miniconda3/envs/deep/lib/python3.5/site-packages/gatspy/periodic/lomb_scargle_fast.py:324: RuntimeWarning: invalid value encountered in true_divide\n",
      "  power = (YC * YC / CC + YS * YS / SS) / YY\n",
      "/Users/brettnaul/miniconda3/envs/deep/lib/python3.5/site-packages/gatspy/periodic/lomb_scargle_fast.py:324: RuntimeWarning: invalid value encountered in true_divide\n",
      "  power = (YC * YC / CC + YS * YS / SS) / YY\n",
      "/Users/brettnaul/miniconda3/envs/deep/lib/python3.5/site-packages/gatspy/periodic/lomb_scargle_fast.py:324: RuntimeWarning: invalid value encountered in true_divide\n",
      "  power = (YC * YC / CC + YS * YS / SS) / YY\n",
      "/Users/brettnaul/miniconda3/envs/deep/lib/python3.5/site-packages/gatspy/periodic/lomb_scargle_fast.py:324: RuntimeWarning: invalid value encountered in true_divide\n",
      "  power = (YC * YC / CC + YS * YS / SS) / YY\n",
      "/Users/brettnaul/miniconda3/envs/deep/lib/python3.5/site-packages/gatspy/periodic/lomb_scargle_fast.py:324: RuntimeWarning: invalid value encountered in true_divide\n",
      "  power = (YC * YC / CC + YS * YS / SS) / YY\n",
      "/Users/brettnaul/miniconda3/envs/deep/lib/python3.5/site-packages/gatspy/periodic/_least_squares_mixin.py:79: RuntimeWarning: invalid value encountered in true_divide\n",
      "  P = chi2_0_minus_chi2 / chi2_ref\n",
      "/Users/brettnaul/miniconda3/envs/deep/lib/python3.5/site-packages/gatspy/periodic/lomb_scargle_fast.py:324: RuntimeWarning: invalid value encountered in true_divide\n",
      "  power = (YC * YC / CC + YS * YS / SS) / YY\n",
      "/Users/brettnaul/miniconda3/envs/deep/lib/python3.5/site-packages/gatspy/periodic/lomb_scargle_fast.py:324: RuntimeWarning: invalid value encountered in true_divide\n",
      "  power = (YC * YC / CC + YS * YS / SS) / YY\n",
      "/Users/brettnaul/miniconda3/envs/deep/lib/python3.5/site-packages/gatspy/periodic/lomb_scargle_fast.py:324: RuntimeWarning: invalid value encountered in true_divide\n",
      "  power = (YC * YC / CC + YS * YS / SS) / YY\n",
      "/Users/brettnaul/miniconda3/envs/deep/lib/python3.5/site-packages/gatspy/periodic/lomb_scargle_fast.py:324: RuntimeWarning: invalid value encountered in true_divide\n",
      "  power = (YC * YC / CC + YS * YS / SS) / YY\n",
      "/Users/brettnaul/miniconda3/envs/deep/lib/python3.5/site-packages/gatspy/periodic/lomb_scargle_fast.py:324: RuntimeWarning: invalid value encountered in true_divide\n",
      "  power = (YC * YC / CC + YS * YS / SS) / YY\n",
      "/Users/brettnaul/miniconda3/envs/deep/lib/python3.5/site-packages/gatspy/periodic/lomb_scargle_fast.py:324: RuntimeWarning: invalid value encountered in true_divide\n",
      "  power = (YC * YC / CC + YS * YS / SS) / YY\n",
      "/Users/brettnaul/miniconda3/envs/deep/lib/python3.5/site-packages/gatspy/periodic/_least_squares_mixin.py:79: RuntimeWarning: invalid value encountered in true_divide\n",
      "  P = chi2_0_minus_chi2 / chi2_ref\n",
      "/Users/brettnaul/miniconda3/envs/deep/lib/python3.5/site-packages/gatspy/periodic/lomb_scargle_fast.py:324: RuntimeWarning: invalid value encountered in true_divide\n",
      "  power = (YC * YC / CC + YS * YS / SS) / YY\n",
      "/Users/brettnaul/miniconda3/envs/deep/lib/python3.5/site-packages/gatspy/periodic/lomb_scargle_fast.py:324: RuntimeWarning: invalid value encountered in true_divide\n",
      "  power = (YC * YC / CC + YS * YS / SS) / YY\n",
      "/Users/brettnaul/miniconda3/envs/deep/lib/python3.5/site-packages/gatspy/periodic/lomb_scargle_fast.py:324: RuntimeWarning: invalid value encountered in true_divide\n",
      "  power = (YC * YC / CC + YS * YS / SS) / YY\n",
      "/Users/brettnaul/miniconda3/envs/deep/lib/python3.5/site-packages/gatspy/periodic/lomb_scargle_fast.py:324: RuntimeWarning: invalid value encountered in true_divide\n",
      "  power = (YC * YC / CC + YS * YS / SS) / YY\n",
      "/Users/brettnaul/miniconda3/envs/deep/lib/python3.5/site-packages/gatspy/periodic/lomb_scargle_fast.py:324: RuntimeWarning: invalid value encountered in true_divide\n",
      "  power = (YC * YC / CC + YS * YS / SS) / YY\n",
      "/Users/brettnaul/miniconda3/envs/deep/lib/python3.5/site-packages/gatspy/periodic/lomb_scargle_fast.py:324: RuntimeWarning: invalid value encountered in true_divide\n",
      "  power = (YC * YC / CC + YS * YS / SS) / YY\n",
      "/Users/brettnaul/miniconda3/envs/deep/lib/python3.5/site-packages/gatspy/periodic/_least_squares_mixin.py:79: RuntimeWarning: invalid value encountered in true_divide\n",
      "  P = chi2_0_minus_chi2 / chi2_ref\n",
      "/Users/brettnaul/miniconda3/envs/deep/lib/python3.5/site-packages/gatspy/periodic/lomb_scargle_fast.py:324: RuntimeWarning: invalid value encountered in true_divide\n",
      "  power = (YC * YC / CC + YS * YS / SS) / YY\n",
      "/Users/brettnaul/miniconda3/envs/deep/lib/python3.5/site-packages/gatspy/periodic/lomb_scargle_fast.py:324: RuntimeWarning: invalid value encountered in true_divide\n",
      "  power = (YC * YC / CC + YS * YS / SS) / YY\n",
      "/Users/brettnaul/miniconda3/envs/deep/lib/python3.5/site-packages/gatspy/periodic/lomb_scargle_fast.py:324: RuntimeWarning: invalid value encountered in true_divide\n",
      "  power = (YC * YC / CC + YS * YS / SS) / YY\n",
      "/Users/brettnaul/miniconda3/envs/deep/lib/python3.5/site-packages/gatspy/periodic/lomb_scargle_fast.py:324: RuntimeWarning: invalid value encountered in true_divide\n",
      "  power = (YC * YC / CC + YS * YS / SS) / YY\n",
      "/Users/brettnaul/miniconda3/envs/deep/lib/python3.5/site-packages/gatspy/periodic/lomb_scargle_fast.py:324: RuntimeWarning: invalid value encountered in true_divide\n",
      "  power = (YC * YC / CC + YS * YS / SS) / YY\n",
      "/Users/brettnaul/miniconda3/envs/deep/lib/python3.5/site-packages/gatspy/periodic/lomb_scargle_fast.py:324: RuntimeWarning: invalid value encountered in true_divide\n",
      "  power = (YC * YC / CC + YS * YS / SS) / YY\n",
      "/Users/brettnaul/miniconda3/envs/deep/lib/python3.5/site-packages/gatspy/periodic/_least_squares_mixin.py:79: RuntimeWarning: invalid value encountered in true_divide\n",
      "  P = chi2_0_minus_chi2 / chi2_ref\n",
      "/Users/brettnaul/miniconda3/envs/deep/lib/python3.5/site-packages/gatspy/periodic/lomb_scargle_fast.py:324: RuntimeWarning: invalid value encountered in true_divide\n",
      "  power = (YC * YC / CC + YS * YS / SS) / YY\n",
      "/Users/brettnaul/miniconda3/envs/deep/lib/python3.5/site-packages/gatspy/periodic/lomb_scargle_fast.py:324: RuntimeWarning: invalid value encountered in true_divide\n",
      "  power = (YC * YC / CC + YS * YS / SS) / YY\n",
      "/Users/brettnaul/miniconda3/envs/deep/lib/python3.5/site-packages/gatspy/periodic/lomb_scargle_fast.py:324: RuntimeWarning: invalid value encountered in true_divide\n",
      "  power = (YC * YC / CC + YS * YS / SS) / YY\n",
      "/Users/brettnaul/miniconda3/envs/deep/lib/python3.5/site-packages/gatspy/periodic/lomb_scargle_fast.py:324: RuntimeWarning: invalid value encountered in true_divide\n",
      "  power = (YC * YC / CC + YS * YS / SS) / YY\n",
      "/Users/brettnaul/miniconda3/envs/deep/lib/python3.5/site-packages/gatspy/periodic/lomb_scargle_fast.py:324: RuntimeWarning: invalid value encountered in true_divide\n",
      "  power = (YC * YC / CC + YS * YS / SS) / YY\n",
      "/Users/brettnaul/miniconda3/envs/deep/lib/python3.5/site-packages/gatspy/periodic/lomb_scargle_fast.py:324: RuntimeWarning: invalid value encountered in true_divide\n",
      "  power = (YC * YC / CC + YS * YS / SS) / YY\n",
      "/Users/brettnaul/miniconda3/envs/deep/lib/python3.5/site-packages/gatspy/periodic/_least_squares_mixin.py:79: RuntimeWarning: invalid value encountered in true_divide\n",
      "  P = chi2_0_minus_chi2 / chi2_ref\n",
      "/Users/brettnaul/miniconda3/envs/deep/lib/python3.5/site-packages/gatspy/periodic/lomb_scargle_fast.py:324: RuntimeWarning: invalid value encountered in true_divide\n",
      "  power = (YC * YC / CC + YS * YS / SS) / YY\n",
      "/Users/brettnaul/miniconda3/envs/deep/lib/python3.5/site-packages/gatspy/periodic/lomb_scargle_fast.py:324: RuntimeWarning: invalid value encountered in true_divide\n",
      "  power = (YC * YC / CC + YS * YS / SS) / YY\n",
      "/Users/brettnaul/miniconda3/envs/deep/lib/python3.5/site-packages/gatspy/periodic/lomb_scargle_fast.py:324: RuntimeWarning: invalid value encountered in true_divide\n",
      "  power = (YC * YC / CC + YS * YS / SS) / YY\n",
      "/Users/brettnaul/miniconda3/envs/deep/lib/python3.5/site-packages/gatspy/periodic/lomb_scargle_fast.py:324: RuntimeWarning: invalid value encountered in true_divide\n",
      "  power = (YC * YC / CC + YS * YS / SS) / YY\n",
      "/Users/brettnaul/miniconda3/envs/deep/lib/python3.5/site-packages/gatspy/periodic/lomb_scargle_fast.py:324: RuntimeWarning: invalid value encountered in true_divide\n",
      "  power = (YC * YC / CC + YS * YS / SS) / YY\n",
      "/Users/brettnaul/miniconda3/envs/deep/lib/python3.5/site-packages/gatspy/periodic/lomb_scargle_fast.py:324: RuntimeWarning: invalid value encountered in true_divide\n",
      "  power = (YC * YC / CC + YS * YS / SS) / YY\n",
      "/Users/brettnaul/miniconda3/envs/deep/lib/python3.5/site-packages/gatspy/periodic/_least_squares_mixin.py:79: RuntimeWarning: invalid value encountered in true_divide\n",
      "  P = chi2_0_minus_chi2 / chi2_ref\n",
      "/Users/brettnaul/miniconda3/envs/deep/lib/python3.5/site-packages/gatspy/periodic/lomb_scargle_fast.py:324: RuntimeWarning: invalid value encountered in true_divide\n",
      "  power = (YC * YC / CC + YS * YS / SS) / YY\n",
      "/Users/brettnaul/miniconda3/envs/deep/lib/python3.5/site-packages/gatspy/periodic/lomb_scargle_fast.py:324: RuntimeWarning: invalid value encountered in true_divide\n",
      "  power = (YC * YC / CC + YS * YS / SS) / YY\n",
      "/Users/brettnaul/miniconda3/envs/deep/lib/python3.5/site-packages/gatspy/periodic/lomb_scargle_fast.py:324: RuntimeWarning: invalid value encountered in true_divide\n",
      "  power = (YC * YC / CC + YS * YS / SS) / YY\n",
      "/Users/brettnaul/miniconda3/envs/deep/lib/python3.5/site-packages/gatspy/periodic/lomb_scargle_fast.py:324: RuntimeWarning: invalid value encountered in true_divide\n",
      "  power = (YC * YC / CC + YS * YS / SS) / YY\n",
      "/Users/brettnaul/miniconda3/envs/deep/lib/python3.5/site-packages/gatspy/periodic/lomb_scargle_fast.py:324: RuntimeWarning: invalid value encountered in true_divide\n",
      "  power = (YC * YC / CC + YS * YS / SS) / YY\n",
      "/Users/brettnaul/miniconda3/envs/deep/lib/python3.5/site-packages/gatspy/periodic/lomb_scargle_fast.py:324: RuntimeWarning: invalid value encountered in true_divide\n",
      "  power = (YC * YC / CC + YS * YS / SS) / YY\n",
      "/Users/brettnaul/miniconda3/envs/deep/lib/python3.5/site-packages/gatspy/periodic/_least_squares_mixin.py:79: RuntimeWarning: invalid value encountered in true_divide\n",
      "  P = chi2_0_minus_chi2 / chi2_ref\n",
      "/Users/brettnaul/miniconda3/envs/deep/lib/python3.5/site-packages/gatspy/periodic/lomb_scargle_fast.py:324: RuntimeWarning: invalid value encountered in true_divide\n",
      "  power = (YC * YC / CC + YS * YS / SS) / YY\n",
      "/Users/brettnaul/miniconda3/envs/deep/lib/python3.5/site-packages/gatspy/periodic/lomb_scargle_fast.py:324: RuntimeWarning: invalid value encountered in true_divide\n",
      "  power = (YC * YC / CC + YS * YS / SS) / YY\n",
      "/Users/brettnaul/miniconda3/envs/deep/lib/python3.5/site-packages/gatspy/periodic/lomb_scargle_fast.py:324: RuntimeWarning: invalid value encountered in true_divide\n",
      "  power = (YC * YC / CC + YS * YS / SS) / YY\n",
      "/Users/brettnaul/miniconda3/envs/deep/lib/python3.5/site-packages/gatspy/periodic/lomb_scargle_fast.py:324: RuntimeWarning: invalid value encountered in true_divide\n",
      "  power = (YC * YC / CC + YS * YS / SS) / YY\n",
      "/Users/brettnaul/miniconda3/envs/deep/lib/python3.5/site-packages/gatspy/periodic/lomb_scargle_fast.py:324: RuntimeWarning: invalid value encountered in true_divide\n",
      "  power = (YC * YC / CC + YS * YS / SS) / YY\n",
      "/Users/brettnaul/miniconda3/envs/deep/lib/python3.5/site-packages/gatspy/periodic/lomb_scargle_fast.py:324: RuntimeWarning: invalid value encountered in true_divide\n",
      "  power = (YC * YC / CC + YS * YS / SS) / YY\n",
      "/Users/brettnaul/miniconda3/envs/deep/lib/python3.5/site-packages/gatspy/periodic/_least_squares_mixin.py:79: RuntimeWarning: invalid value encountered in true_divide\n",
      "  P = chi2_0_minus_chi2 / chi2_ref\n",
      "/Users/brettnaul/miniconda3/envs/deep/lib/python3.5/site-packages/gatspy/periodic/lomb_scargle_fast.py:324: RuntimeWarning: invalid value encountered in true_divide\n",
      "  power = (YC * YC / CC + YS * YS / SS) / YY\n",
      "/Users/brettnaul/miniconda3/envs/deep/lib/python3.5/site-packages/gatspy/periodic/lomb_scargle_fast.py:324: RuntimeWarning: invalid value encountered in true_divide\n",
      "  power = (YC * YC / CC + YS * YS / SS) / YY\n",
      "/Users/brettnaul/miniconda3/envs/deep/lib/python3.5/site-packages/gatspy/periodic/lomb_scargle_fast.py:324: RuntimeWarning: invalid value encountered in true_divide\n",
      "  power = (YC * YC / CC + YS * YS / SS) / YY\n",
      "/Users/brettnaul/miniconda3/envs/deep/lib/python3.5/site-packages/gatspy/periodic/lomb_scargle_fast.py:324: RuntimeWarning: invalid value encountered in true_divide\n",
      "  power = (YC * YC / CC + YS * YS / SS) / YY\n",
      "/Users/brettnaul/miniconda3/envs/deep/lib/python3.5/site-packages/gatspy/periodic/lomb_scargle_fast.py:324: RuntimeWarning: invalid value encountered in true_divide\n",
      "  power = (YC * YC / CC + YS * YS / SS) / YY\n",
      "/Users/brettnaul/miniconda3/envs/deep/lib/python3.5/site-packages/gatspy/periodic/lomb_scargle_fast.py:324: RuntimeWarning: invalid value encountered in true_divide\n",
      "  power = (YC * YC / CC + YS * YS / SS) / YY\n",
      "/Users/brettnaul/miniconda3/envs/deep/lib/python3.5/site-packages/gatspy/periodic/_least_squares_mixin.py:79: RuntimeWarning: invalid value encountered in true_divide\n",
      "  P = chi2_0_minus_chi2 / chi2_ref\n",
      "/Users/brettnaul/miniconda3/envs/deep/lib/python3.5/site-packages/gatspy/periodic/lomb_scargle_fast.py:324: RuntimeWarning: invalid value encountered in true_divide\n",
      "  power = (YC * YC / CC + YS * YS / SS) / YY\n",
      "/Users/brettnaul/miniconda3/envs/deep/lib/python3.5/site-packages/gatspy/periodic/lomb_scargle_fast.py:324: RuntimeWarning: invalid value encountered in true_divide\n",
      "  power = (YC * YC / CC + YS * YS / SS) / YY\n",
      "/Users/brettnaul/miniconda3/envs/deep/lib/python3.5/site-packages/gatspy/periodic/lomb_scargle_fast.py:324: RuntimeWarning: invalid value encountered in true_divide\n",
      "  power = (YC * YC / CC + YS * YS / SS) / YY\n",
      "/Users/brettnaul/miniconda3/envs/deep/lib/python3.5/site-packages/gatspy/periodic/lomb_scargle_fast.py:324: RuntimeWarning: invalid value encountered in true_divide\n",
      "  power = (YC * YC / CC + YS * YS / SS) / YY\n",
      "/Users/brettnaul/miniconda3/envs/deep/lib/python3.5/site-packages/gatspy/periodic/lomb_scargle_fast.py:324: RuntimeWarning: invalid value encountered in true_divide\n",
      "  power = (YC * YC / CC + YS * YS / SS) / YY\n",
      "/Users/brettnaul/miniconda3/envs/deep/lib/python3.5/site-packages/gatspy/periodic/lomb_scargle_fast.py:324: RuntimeWarning: invalid value encountered in true_divide\n",
      "  power = (YC * YC / CC + YS * YS / SS) / YY\n",
      "/Users/brettnaul/miniconda3/envs/deep/lib/python3.5/site-packages/gatspy/periodic/_least_squares_mixin.py:79: RuntimeWarning: invalid value encountered in true_divide\n",
      "  P = chi2_0_minus_chi2 / chi2_ref\n",
      "/Users/brettnaul/miniconda3/envs/deep/lib/python3.5/site-packages/gatspy/periodic/lomb_scargle_fast.py:324: RuntimeWarning: invalid value encountered in true_divide\n",
      "  power = (YC * YC / CC + YS * YS / SS) / YY\n",
      "/Users/brettnaul/miniconda3/envs/deep/lib/python3.5/site-packages/gatspy/periodic/lomb_scargle_fast.py:324: RuntimeWarning: invalid value encountered in true_divide\n",
      "  power = (YC * YC / CC + YS * YS / SS) / YY\n",
      "/Users/brettnaul/miniconda3/envs/deep/lib/python3.5/site-packages/gatspy/periodic/lomb_scargle_fast.py:324: RuntimeWarning: invalid value encountered in true_divide\n",
      "  power = (YC * YC / CC + YS * YS / SS) / YY\n",
      "/Users/brettnaul/miniconda3/envs/deep/lib/python3.5/site-packages/gatspy/periodic/lomb_scargle_fast.py:324: RuntimeWarning: invalid value encountered in true_divide\n",
      "  power = (YC * YC / CC + YS * YS / SS) / YY\n",
      "/Users/brettnaul/miniconda3/envs/deep/lib/python3.5/site-packages/gatspy/periodic/lomb_scargle_fast.py:324: RuntimeWarning: invalid value encountered in true_divide\n",
      "  power = (YC * YC / CC + YS * YS / SS) / YY\n",
      "/Users/brettnaul/miniconda3/envs/deep/lib/python3.5/site-packages/gatspy/periodic/lomb_scargle_fast.py:324: RuntimeWarning: invalid value encountered in true_divide\n",
      "  power = (YC * YC / CC + YS * YS / SS) / YY\n",
      "/Users/brettnaul/miniconda3/envs/deep/lib/python3.5/site-packages/gatspy/periodic/_least_squares_mixin.py:79: RuntimeWarning: invalid value encountered in true_divide\n",
      "  P = chi2_0_minus_chi2 / chi2_ref\n",
      "/Users/brettnaul/miniconda3/envs/deep/lib/python3.5/site-packages/gatspy/periodic/lomb_scargle_fast.py:324: RuntimeWarning: invalid value encountered in true_divide\n",
      "  power = (YC * YC / CC + YS * YS / SS) / YY\n",
      "/Users/brettnaul/miniconda3/envs/deep/lib/python3.5/site-packages/gatspy/periodic/lomb_scargle_fast.py:324: RuntimeWarning: invalid value encountered in true_divide\n",
      "  power = (YC * YC / CC + YS * YS / SS) / YY\n",
      "/Users/brettnaul/miniconda3/envs/deep/lib/python3.5/site-packages/gatspy/periodic/lomb_scargle_fast.py:324: RuntimeWarning: invalid value encountered in true_divide\n",
      "  power = (YC * YC / CC + YS * YS / SS) / YY\n",
      "/Users/brettnaul/miniconda3/envs/deep/lib/python3.5/site-packages/gatspy/periodic/lomb_scargle_fast.py:324: RuntimeWarning: invalid value encountered in true_divide\n",
      "  power = (YC * YC / CC + YS * YS / SS) / YY\n",
      "/Users/brettnaul/miniconda3/envs/deep/lib/python3.5/site-packages/gatspy/periodic/lomb_scargle_fast.py:324: RuntimeWarning: invalid value encountered in true_divide\n",
      "  power = (YC * YC / CC + YS * YS / SS) / YY\n",
      "/Users/brettnaul/miniconda3/envs/deep/lib/python3.5/site-packages/gatspy/periodic/lomb_scargle_fast.py:324: RuntimeWarning: invalid value encountered in true_divide\n",
      "  power = (YC * YC / CC + YS * YS / SS) / YY\n",
      "/Users/brettnaul/miniconda3/envs/deep/lib/python3.5/site-packages/gatspy/periodic/_least_squares_mixin.py:79: RuntimeWarning: invalid value encountered in true_divide\n",
      "  P = chi2_0_minus_chi2 / chi2_ref\n",
      "/Users/brettnaul/miniconda3/envs/deep/lib/python3.5/site-packages/gatspy/periodic/lomb_scargle_fast.py:324: RuntimeWarning: invalid value encountered in true_divide\n",
      "  power = (YC * YC / CC + YS * YS / SS) / YY\n",
      "/Users/brettnaul/miniconda3/envs/deep/lib/python3.5/site-packages/gatspy/periodic/lomb_scargle_fast.py:324: RuntimeWarning: invalid value encountered in true_divide\n",
      "  power = (YC * YC / CC + YS * YS / SS) / YY\n",
      "/Users/brettnaul/miniconda3/envs/deep/lib/python3.5/site-packages/gatspy/periodic/lomb_scargle_fast.py:324: RuntimeWarning: invalid value encountered in true_divide\n",
      "  power = (YC * YC / CC + YS * YS / SS) / YY\n",
      "/Users/brettnaul/miniconda3/envs/deep/lib/python3.5/site-packages/gatspy/periodic/lomb_scargle_fast.py:324: RuntimeWarning: invalid value encountered in true_divide\n",
      "  power = (YC * YC / CC + YS * YS / SS) / YY\n",
      "/Users/brettnaul/miniconda3/envs/deep/lib/python3.5/site-packages/gatspy/periodic/lomb_scargle_fast.py:324: RuntimeWarning: invalid value encountered in true_divide\n",
      "  power = (YC * YC / CC + YS * YS / SS) / YY\n",
      "/Users/brettnaul/miniconda3/envs/deep/lib/python3.5/site-packages/gatspy/periodic/lomb_scargle_fast.py:324: RuntimeWarning: invalid value encountered in true_divide\n",
      "  power = (YC * YC / CC + YS * YS / SS) / YY\n",
      "/Users/brettnaul/miniconda3/envs/deep/lib/python3.5/site-packages/gatspy/periodic/_least_squares_mixin.py:79: RuntimeWarning: invalid value encountered in true_divide\n",
      "  P = chi2_0_minus_chi2 / chi2_ref\n",
      "/Users/brettnaul/miniconda3/envs/deep/lib/python3.5/site-packages/gatspy/periodic/lomb_scargle_fast.py:324: RuntimeWarning: invalid value encountered in true_divide\n",
      "  power = (YC * YC / CC + YS * YS / SS) / YY\n",
      "/Users/brettnaul/miniconda3/envs/deep/lib/python3.5/site-packages/gatspy/periodic/lomb_scargle_fast.py:324: RuntimeWarning: invalid value encountered in true_divide\n",
      "  power = (YC * YC / CC + YS * YS / SS) / YY\n",
      "/Users/brettnaul/miniconda3/envs/deep/lib/python3.5/site-packages/gatspy/periodic/lomb_scargle_fast.py:324: RuntimeWarning: invalid value encountered in true_divide\n",
      "  power = (YC * YC / CC + YS * YS / SS) / YY\n",
      "/Users/brettnaul/miniconda3/envs/deep/lib/python3.5/site-packages/gatspy/periodic/lomb_scargle_fast.py:324: RuntimeWarning: invalid value encountered in true_divide\n",
      "  power = (YC * YC / CC + YS * YS / SS) / YY\n",
      "/Users/brettnaul/miniconda3/envs/deep/lib/python3.5/site-packages/gatspy/periodic/lomb_scargle_fast.py:324: RuntimeWarning: invalid value encountered in true_divide\n",
      "  power = (YC * YC / CC + YS * YS / SS) / YY\n",
      "/Users/brettnaul/miniconda3/envs/deep/lib/python3.5/site-packages/gatspy/periodic/lomb_scargle_fast.py:324: RuntimeWarning: invalid value encountered in true_divide\n",
      "  power = (YC * YC / CC + YS * YS / SS) / YY\n",
      "/Users/brettnaul/miniconda3/envs/deep/lib/python3.5/site-packages/gatspy/periodic/_least_squares_mixin.py:79: RuntimeWarning: invalid value encountered in true_divide\n",
      "  P = chi2_0_minus_chi2 / chi2_ref\n",
      "/Users/brettnaul/miniconda3/envs/deep/lib/python3.5/site-packages/gatspy/periodic/lomb_scargle_fast.py:324: RuntimeWarning: invalid value encountered in true_divide\n",
      "  power = (YC * YC / CC + YS * YS / SS) / YY\n",
      "/Users/brettnaul/miniconda3/envs/deep/lib/python3.5/site-packages/gatspy/periodic/lomb_scargle_fast.py:324: RuntimeWarning: invalid value encountered in true_divide\n",
      "  power = (YC * YC / CC + YS * YS / SS) / YY\n",
      "/Users/brettnaul/miniconda3/envs/deep/lib/python3.5/site-packages/gatspy/periodic/lomb_scargle_fast.py:324: RuntimeWarning: invalid value encountered in true_divide\n",
      "  power = (YC * YC / CC + YS * YS / SS) / YY\n",
      "/Users/brettnaul/miniconda3/envs/deep/lib/python3.5/site-packages/gatspy/periodic/lomb_scargle_fast.py:324: RuntimeWarning: invalid value encountered in true_divide\n",
      "  power = (YC * YC / CC + YS * YS / SS) / YY\n",
      "/Users/brettnaul/miniconda3/envs/deep/lib/python3.5/site-packages/gatspy/periodic/lomb_scargle_fast.py:324: RuntimeWarning: invalid value encountered in true_divide\n",
      "  power = (YC * YC / CC + YS * YS / SS) / YY\n",
      "/Users/brettnaul/miniconda3/envs/deep/lib/python3.5/site-packages/gatspy/periodic/lomb_scargle_fast.py:324: RuntimeWarning: invalid value encountered in true_divide\n",
      "  power = (YC * YC / CC + YS * YS / SS) / YY\n",
      "/Users/brettnaul/miniconda3/envs/deep/lib/python3.5/site-packages/gatspy/periodic/_least_squares_mixin.py:79: RuntimeWarning: invalid value encountered in true_divide\n",
      "  P = chi2_0_minus_chi2 / chi2_ref\n",
      "/Users/brettnaul/miniconda3/envs/deep/lib/python3.5/site-packages/gatspy/periodic/lomb_scargle_fast.py:324: RuntimeWarning: invalid value encountered in true_divide\n",
      "  power = (YC * YC / CC + YS * YS / SS) / YY\n",
      "/Users/brettnaul/miniconda3/envs/deep/lib/python3.5/site-packages/gatspy/periodic/lomb_scargle_fast.py:324: RuntimeWarning: invalid value encountered in true_divide\n",
      "  power = (YC * YC / CC + YS * YS / SS) / YY\n",
      "/Users/brettnaul/miniconda3/envs/deep/lib/python3.5/site-packages/gatspy/periodic/lomb_scargle_fast.py:324: RuntimeWarning: invalid value encountered in true_divide\n",
      "  power = (YC * YC / CC + YS * YS / SS) / YY\n",
      "/Users/brettnaul/miniconda3/envs/deep/lib/python3.5/site-packages/gatspy/periodic/lomb_scargle_fast.py:324: RuntimeWarning: invalid value encountered in true_divide\n",
      "  power = (YC * YC / CC + YS * YS / SS) / YY\n",
      "/Users/brettnaul/miniconda3/envs/deep/lib/python3.5/site-packages/gatspy/periodic/lomb_scargle_fast.py:324: RuntimeWarning: invalid value encountered in true_divide\n",
      "  power = (YC * YC / CC + YS * YS / SS) / YY\n",
      "/Users/brettnaul/miniconda3/envs/deep/lib/python3.5/site-packages/gatspy/periodic/lomb_scargle_fast.py:324: RuntimeWarning: invalid value encountered in true_divide\n",
      "  power = (YC * YC / CC + YS * YS / SS) / YY\n",
      "/Users/brettnaul/miniconda3/envs/deep/lib/python3.5/site-packages/gatspy/periodic/_least_squares_mixin.py:79: RuntimeWarning: invalid value encountered in true_divide\n",
      "  P = chi2_0_minus_chi2 / chi2_ref\n",
      "/Users/brettnaul/miniconda3/envs/deep/lib/python3.5/site-packages/gatspy/periodic/lomb_scargle_fast.py:324: RuntimeWarning: invalid value encountered in true_divide\n",
      "  power = (YC * YC / CC + YS * YS / SS) / YY\n",
      "/Users/brettnaul/miniconda3/envs/deep/lib/python3.5/site-packages/gatspy/periodic/lomb_scargle_fast.py:324: RuntimeWarning: invalid value encountered in true_divide\n",
      "  power = (YC * YC / CC + YS * YS / SS) / YY\n",
      "/Users/brettnaul/miniconda3/envs/deep/lib/python3.5/site-packages/gatspy/periodic/lomb_scargle_fast.py:324: RuntimeWarning: invalid value encountered in true_divide\n",
      "  power = (YC * YC / CC + YS * YS / SS) / YY\n",
      "/Users/brettnaul/miniconda3/envs/deep/lib/python3.5/site-packages/gatspy/periodic/lomb_scargle_fast.py:324: RuntimeWarning: invalid value encountered in true_divide\n",
      "  power = (YC * YC / CC + YS * YS / SS) / YY\n",
      "/Users/brettnaul/miniconda3/envs/deep/lib/python3.5/site-packages/gatspy/periodic/lomb_scargle_fast.py:324: RuntimeWarning: invalid value encountered in true_divide\n",
      "  power = (YC * YC / CC + YS * YS / SS) / YY\n",
      "/Users/brettnaul/miniconda3/envs/deep/lib/python3.5/site-packages/gatspy/periodic/lomb_scargle_fast.py:324: RuntimeWarning: invalid value encountered in true_divide\n",
      "  power = (YC * YC / CC + YS * YS / SS) / YY\n",
      "/Users/brettnaul/miniconda3/envs/deep/lib/python3.5/site-packages/gatspy/periodic/_least_squares_mixin.py:79: RuntimeWarning: invalid value encountered in true_divide\n",
      "  P = chi2_0_minus_chi2 / chi2_ref\n",
      "/Users/brettnaul/miniconda3/envs/deep/lib/python3.5/site-packages/gatspy/periodic/lomb_scargle_fast.py:324: RuntimeWarning: invalid value encountered in true_divide\n",
      "  power = (YC * YC / CC + YS * YS / SS) / YY\n",
      "/Users/brettnaul/miniconda3/envs/deep/lib/python3.5/site-packages/gatspy/periodic/lomb_scargle_fast.py:324: RuntimeWarning: invalid value encountered in true_divide\n",
      "  power = (YC * YC / CC + YS * YS / SS) / YY\n",
      "/Users/brettnaul/miniconda3/envs/deep/lib/python3.5/site-packages/gatspy/periodic/lomb_scargle_fast.py:324: RuntimeWarning: invalid value encountered in true_divide\n",
      "  power = (YC * YC / CC + YS * YS / SS) / YY\n",
      "/Users/brettnaul/miniconda3/envs/deep/lib/python3.5/site-packages/gatspy/periodic/lomb_scargle_fast.py:324: RuntimeWarning: invalid value encountered in true_divide\n",
      "  power = (YC * YC / CC + YS * YS / SS) / YY\n",
      "/Users/brettnaul/miniconda3/envs/deep/lib/python3.5/site-packages/gatspy/periodic/lomb_scargle_fast.py:324: RuntimeWarning: invalid value encountered in true_divide\n",
      "  power = (YC * YC / CC + YS * YS / SS) / YY\n",
      "/Users/brettnaul/miniconda3/envs/deep/lib/python3.5/site-packages/gatspy/periodic/lomb_scargle_fast.py:324: RuntimeWarning: invalid value encountered in true_divide\n",
      "  power = (YC * YC / CC + YS * YS / SS) / YY\n",
      "/Users/brettnaul/miniconda3/envs/deep/lib/python3.5/site-packages/gatspy/periodic/_least_squares_mixin.py:79: RuntimeWarning: invalid value encountered in true_divide\n",
      "  P = chi2_0_minus_chi2 / chi2_ref\n",
      "/Users/brettnaul/miniconda3/envs/deep/lib/python3.5/site-packages/gatspy/periodic/lomb_scargle_fast.py:324: RuntimeWarning: invalid value encountered in true_divide\n",
      "  power = (YC * YC / CC + YS * YS / SS) / YY\n",
      "/Users/brettnaul/miniconda3/envs/deep/lib/python3.5/site-packages/gatspy/periodic/lomb_scargle_fast.py:324: RuntimeWarning: invalid value encountered in true_divide\n",
      "  power = (YC * YC / CC + YS * YS / SS) / YY\n",
      "/Users/brettnaul/miniconda3/envs/deep/lib/python3.5/site-packages/gatspy/periodic/lomb_scargle_fast.py:324: RuntimeWarning: invalid value encountered in true_divide\n",
      "  power = (YC * YC / CC + YS * YS / SS) / YY\n",
      "/Users/brettnaul/miniconda3/envs/deep/lib/python3.5/site-packages/gatspy/periodic/lomb_scargle_fast.py:324: RuntimeWarning: invalid value encountered in true_divide\n",
      "  power = (YC * YC / CC + YS * YS / SS) / YY\n",
      "/Users/brettnaul/miniconda3/envs/deep/lib/python3.5/site-packages/gatspy/periodic/lomb_scargle_fast.py:324: RuntimeWarning: invalid value encountered in true_divide\n",
      "  power = (YC * YC / CC + YS * YS / SS) / YY\n",
      "/Users/brettnaul/miniconda3/envs/deep/lib/python3.5/site-packages/gatspy/periodic/lomb_scargle_fast.py:324: RuntimeWarning: invalid value encountered in true_divide\n",
      "  power = (YC * YC / CC + YS * YS / SS) / YY\n",
      "/Users/brettnaul/miniconda3/envs/deep/lib/python3.5/site-packages/gatspy/periodic/_least_squares_mixin.py:79: RuntimeWarning: invalid value encountered in true_divide\n",
      "  P = chi2_0_minus_chi2 / chi2_ref\n",
      "/Users/brettnaul/miniconda3/envs/deep/lib/python3.5/site-packages/gatspy/periodic/lomb_scargle_fast.py:324: RuntimeWarning: invalid value encountered in true_divide\n",
      "  power = (YC * YC / CC + YS * YS / SS) / YY\n",
      "/Users/brettnaul/miniconda3/envs/deep/lib/python3.5/site-packages/gatspy/periodic/lomb_scargle_fast.py:324: RuntimeWarning: invalid value encountered in true_divide\n",
      "  power = (YC * YC / CC + YS * YS / SS) / YY\n",
      "/Users/brettnaul/miniconda3/envs/deep/lib/python3.5/site-packages/gatspy/periodic/lomb_scargle_fast.py:324: RuntimeWarning: invalid value encountered in true_divide\n",
      "  power = (YC * YC / CC + YS * YS / SS) / YY\n",
      "/Users/brettnaul/miniconda3/envs/deep/lib/python3.5/site-packages/gatspy/periodic/lomb_scargle_fast.py:324: RuntimeWarning: invalid value encountered in true_divide\n",
      "  power = (YC * YC / CC + YS * YS / SS) / YY\n",
      "/Users/brettnaul/miniconda3/envs/deep/lib/python3.5/site-packages/gatspy/periodic/lomb_scargle_fast.py:324: RuntimeWarning: invalid value encountered in true_divide\n",
      "  power = (YC * YC / CC + YS * YS / SS) / YY\n",
      "/Users/brettnaul/miniconda3/envs/deep/lib/python3.5/site-packages/gatspy/periodic/lomb_scargle_fast.py:324: RuntimeWarning: invalid value encountered in true_divide\n",
      "  power = (YC * YC / CC + YS * YS / SS) / YY\n",
      "/Users/brettnaul/miniconda3/envs/deep/lib/python3.5/site-packages/gatspy/periodic/_least_squares_mixin.py:79: RuntimeWarning: invalid value encountered in true_divide\n",
      "  P = chi2_0_minus_chi2 / chi2_ref\n",
      "/Users/brettnaul/miniconda3/envs/deep/lib/python3.5/site-packages/gatspy/periodic/lomb_scargle_fast.py:324: RuntimeWarning: invalid value encountered in true_divide\n",
      "  power = (YC * YC / CC + YS * YS / SS) / YY\n",
      "/Users/brettnaul/miniconda3/envs/deep/lib/python3.5/site-packages/gatspy/periodic/lomb_scargle_fast.py:324: RuntimeWarning: invalid value encountered in true_divide\n",
      "  power = (YC * YC / CC + YS * YS / SS) / YY\n",
      "/Users/brettnaul/miniconda3/envs/deep/lib/python3.5/site-packages/gatspy/periodic/lomb_scargle_fast.py:324: RuntimeWarning: invalid value encountered in true_divide\n",
      "  power = (YC * YC / CC + YS * YS / SS) / YY\n",
      "/Users/brettnaul/miniconda3/envs/deep/lib/python3.5/site-packages/gatspy/periodic/lomb_scargle_fast.py:324: RuntimeWarning: invalid value encountered in true_divide\n",
      "  power = (YC * YC / CC + YS * YS / SS) / YY\n",
      "/Users/brettnaul/miniconda3/envs/deep/lib/python3.5/site-packages/gatspy/periodic/lomb_scargle_fast.py:324: RuntimeWarning: invalid value encountered in true_divide\n",
      "  power = (YC * YC / CC + YS * YS / SS) / YY\n",
      "/Users/brettnaul/miniconda3/envs/deep/lib/python3.5/site-packages/gatspy/periodic/lomb_scargle_fast.py:324: RuntimeWarning: invalid value encountered in true_divide\n",
      "  power = (YC * YC / CC + YS * YS / SS) / YY\n",
      "/Users/brettnaul/miniconda3/envs/deep/lib/python3.5/site-packages/gatspy/periodic/_least_squares_mixin.py:79: RuntimeWarning: invalid value encountered in true_divide\n",
      "  P = chi2_0_minus_chi2 / chi2_ref\n",
      "/Users/brettnaul/miniconda3/envs/deep/lib/python3.5/site-packages/gatspy/periodic/lomb_scargle_fast.py:324: RuntimeWarning: invalid value encountered in true_divide\n",
      "  power = (YC * YC / CC + YS * YS / SS) / YY\n",
      "/Users/brettnaul/miniconda3/envs/deep/lib/python3.5/site-packages/gatspy/periodic/lomb_scargle_fast.py:324: RuntimeWarning: invalid value encountered in true_divide\n",
      "  power = (YC * YC / CC + YS * YS / SS) / YY\n",
      "/Users/brettnaul/miniconda3/envs/deep/lib/python3.5/site-packages/gatspy/periodic/lomb_scargle_fast.py:324: RuntimeWarning: invalid value encountered in true_divide\n",
      "  power = (YC * YC / CC + YS * YS / SS) / YY\n",
      "/Users/brettnaul/miniconda3/envs/deep/lib/python3.5/site-packages/gatspy/periodic/lomb_scargle_fast.py:324: RuntimeWarning: invalid value encountered in true_divide\n",
      "  power = (YC * YC / CC + YS * YS / SS) / YY\n",
      "/Users/brettnaul/miniconda3/envs/deep/lib/python3.5/site-packages/gatspy/periodic/lomb_scargle_fast.py:324: RuntimeWarning: invalid value encountered in true_divide\n",
      "  power = (YC * YC / CC + YS * YS / SS) / YY\n",
      "/Users/brettnaul/miniconda3/envs/deep/lib/python3.5/site-packages/gatspy/periodic/lomb_scargle_fast.py:324: RuntimeWarning: invalid value encountered in true_divide\n",
      "  power = (YC * YC / CC + YS * YS / SS) / YY\n",
      "/Users/brettnaul/miniconda3/envs/deep/lib/python3.5/site-packages/gatspy/periodic/_least_squares_mixin.py:79: RuntimeWarning: invalid value encountered in true_divide\n",
      "  P = chi2_0_minus_chi2 / chi2_ref\n",
      "/Users/brettnaul/miniconda3/envs/deep/lib/python3.5/site-packages/gatspy/periodic/lomb_scargle_fast.py:324: RuntimeWarning: invalid value encountered in true_divide\n",
      "  power = (YC * YC / CC + YS * YS / SS) / YY\n",
      "/Users/brettnaul/miniconda3/envs/deep/lib/python3.5/site-packages/gatspy/periodic/lomb_scargle_fast.py:324: RuntimeWarning: invalid value encountered in true_divide\n",
      "  power = (YC * YC / CC + YS * YS / SS) / YY\n",
      "/Users/brettnaul/miniconda3/envs/deep/lib/python3.5/site-packages/gatspy/periodic/lomb_scargle_fast.py:324: RuntimeWarning: invalid value encountered in true_divide\n",
      "  power = (YC * YC / CC + YS * YS / SS) / YY\n",
      "/Users/brettnaul/miniconda3/envs/deep/lib/python3.5/site-packages/gatspy/periodic/lomb_scargle_fast.py:324: RuntimeWarning: invalid value encountered in true_divide\n",
      "  power = (YC * YC / CC + YS * YS / SS) / YY\n",
      "/Users/brettnaul/miniconda3/envs/deep/lib/python3.5/site-packages/gatspy/periodic/lomb_scargle_fast.py:324: RuntimeWarning: invalid value encountered in true_divide\n",
      "  power = (YC * YC / CC + YS * YS / SS) / YY\n",
      "/Users/brettnaul/miniconda3/envs/deep/lib/python3.5/site-packages/gatspy/periodic/lomb_scargle_fast.py:324: RuntimeWarning: invalid value encountered in true_divide\n",
      "  power = (YC * YC / CC + YS * YS / SS) / YY\n",
      "/Users/brettnaul/miniconda3/envs/deep/lib/python3.5/site-packages/gatspy/periodic/_least_squares_mixin.py:79: RuntimeWarning: invalid value encountered in true_divide\n",
      "  P = chi2_0_minus_chi2 / chi2_ref\n",
      "/Users/brettnaul/miniconda3/envs/deep/lib/python3.5/site-packages/gatspy/periodic/lomb_scargle_fast.py:324: RuntimeWarning: invalid value encountered in true_divide\n",
      "  power = (YC * YC / CC + YS * YS / SS) / YY\n",
      "/Users/brettnaul/miniconda3/envs/deep/lib/python3.5/site-packages/gatspy/periodic/lomb_scargle_fast.py:324: RuntimeWarning: invalid value encountered in true_divide\n",
      "  power = (YC * YC / CC + YS * YS / SS) / YY\n",
      "/Users/brettnaul/miniconda3/envs/deep/lib/python3.5/site-packages/gatspy/periodic/lomb_scargle_fast.py:324: RuntimeWarning: invalid value encountered in true_divide\n",
      "  power = (YC * YC / CC + YS * YS / SS) / YY\n",
      "/Users/brettnaul/miniconda3/envs/deep/lib/python3.5/site-packages/gatspy/periodic/lomb_scargle_fast.py:324: RuntimeWarning: invalid value encountered in true_divide\n",
      "  power = (YC * YC / CC + YS * YS / SS) / YY\n",
      "/Users/brettnaul/miniconda3/envs/deep/lib/python3.5/site-packages/gatspy/periodic/lomb_scargle_fast.py:324: RuntimeWarning: invalid value encountered in true_divide\n",
      "  power = (YC * YC / CC + YS * YS / SS) / YY\n",
      "/Users/brettnaul/miniconda3/envs/deep/lib/python3.5/site-packages/gatspy/periodic/lomb_scargle_fast.py:324: RuntimeWarning: invalid value encountered in true_divide\n",
      "  power = (YC * YC / CC + YS * YS / SS) / YY\n",
      "/Users/brettnaul/miniconda3/envs/deep/lib/python3.5/site-packages/gatspy/periodic/_least_squares_mixin.py:79: RuntimeWarning: invalid value encountered in true_divide\n",
      "  P = chi2_0_minus_chi2 / chi2_ref\n",
      "/Users/brettnaul/miniconda3/envs/deep/lib/python3.5/site-packages/gatspy/periodic/lomb_scargle_fast.py:324: RuntimeWarning: invalid value encountered in true_divide\n",
      "  power = (YC * YC / CC + YS * YS / SS) / YY\n",
      "/Users/brettnaul/miniconda3/envs/deep/lib/python3.5/site-packages/gatspy/periodic/lomb_scargle_fast.py:324: RuntimeWarning: invalid value encountered in true_divide\n",
      "  power = (YC * YC / CC + YS * YS / SS) / YY\n",
      "/Users/brettnaul/miniconda3/envs/deep/lib/python3.5/site-packages/gatspy/periodic/lomb_scargle_fast.py:324: RuntimeWarning: invalid value encountered in true_divide\n",
      "  power = (YC * YC / CC + YS * YS / SS) / YY\n",
      "/Users/brettnaul/miniconda3/envs/deep/lib/python3.5/site-packages/gatspy/periodic/lomb_scargle_fast.py:324: RuntimeWarning: invalid value encountered in true_divide\n",
      "  power = (YC * YC / CC + YS * YS / SS) / YY\n",
      "/Users/brettnaul/miniconda3/envs/deep/lib/python3.5/site-packages/gatspy/periodic/lomb_scargle_fast.py:324: RuntimeWarning: invalid value encountered in true_divide\n",
      "  power = (YC * YC / CC + YS * YS / SS) / YY\n",
      "/Users/brettnaul/miniconda3/envs/deep/lib/python3.5/site-packages/gatspy/periodic/lomb_scargle_fast.py:324: RuntimeWarning: invalid value encountered in true_divide\n",
      "  power = (YC * YC / CC + YS * YS / SS) / YY\n",
      "/Users/brettnaul/miniconda3/envs/deep/lib/python3.5/site-packages/gatspy/periodic/_least_squares_mixin.py:79: RuntimeWarning: invalid value encountered in true_divide\n",
      "  P = chi2_0_minus_chi2 / chi2_ref\n",
      "/Users/brettnaul/miniconda3/envs/deep/lib/python3.5/site-packages/gatspy/periodic/lomb_scargle_fast.py:324: RuntimeWarning: invalid value encountered in true_divide\n",
      "  power = (YC * YC / CC + YS * YS / SS) / YY\n",
      "/Users/brettnaul/miniconda3/envs/deep/lib/python3.5/site-packages/gatspy/periodic/lomb_scargle_fast.py:324: RuntimeWarning: invalid value encountered in true_divide\n",
      "  power = (YC * YC / CC + YS * YS / SS) / YY\n",
      "/Users/brettnaul/miniconda3/envs/deep/lib/python3.5/site-packages/gatspy/periodic/lomb_scargle_fast.py:324: RuntimeWarning: invalid value encountered in true_divide\n",
      "  power = (YC * YC / CC + YS * YS / SS) / YY\n",
      "/Users/brettnaul/miniconda3/envs/deep/lib/python3.5/site-packages/gatspy/periodic/lomb_scargle_fast.py:324: RuntimeWarning: invalid value encountered in true_divide\n",
      "  power = (YC * YC / CC + YS * YS / SS) / YY\n",
      "/Users/brettnaul/miniconda3/envs/deep/lib/python3.5/site-packages/gatspy/periodic/lomb_scargle_fast.py:324: RuntimeWarning: invalid value encountered in true_divide\n",
      "  power = (YC * YC / CC + YS * YS / SS) / YY\n",
      "/Users/brettnaul/miniconda3/envs/deep/lib/python3.5/site-packages/gatspy/periodic/lomb_scargle_fast.py:324: RuntimeWarning: invalid value encountered in true_divide\n",
      "  power = (YC * YC / CC + YS * YS / SS) / YY\n",
      "/Users/brettnaul/miniconda3/envs/deep/lib/python3.5/site-packages/gatspy/periodic/_least_squares_mixin.py:79: RuntimeWarning: invalid value encountered in true_divide\n",
      "  P = chi2_0_minus_chi2 / chi2_ref\n",
      "/Users/brettnaul/miniconda3/envs/deep/lib/python3.5/site-packages/gatspy/periodic/lomb_scargle_fast.py:324: RuntimeWarning: invalid value encountered in true_divide\n",
      "  power = (YC * YC / CC + YS * YS / SS) / YY\n",
      "/Users/brettnaul/miniconda3/envs/deep/lib/python3.5/site-packages/gatspy/periodic/lomb_scargle_fast.py:324: RuntimeWarning: invalid value encountered in true_divide\n",
      "  power = (YC * YC / CC + YS * YS / SS) / YY\n",
      "/Users/brettnaul/miniconda3/envs/deep/lib/python3.5/site-packages/gatspy/periodic/lomb_scargle_fast.py:324: RuntimeWarning: invalid value encountered in true_divide\n",
      "  power = (YC * YC / CC + YS * YS / SS) / YY\n",
      "/Users/brettnaul/miniconda3/envs/deep/lib/python3.5/site-packages/gatspy/periodic/lomb_scargle_fast.py:324: RuntimeWarning: invalid value encountered in true_divide\n",
      "  power = (YC * YC / CC + YS * YS / SS) / YY\n",
      "/Users/brettnaul/miniconda3/envs/deep/lib/python3.5/site-packages/gatspy/periodic/lomb_scargle_fast.py:324: RuntimeWarning: invalid value encountered in true_divide\n",
      "  power = (YC * YC / CC + YS * YS / SS) / YY\n",
      "/Users/brettnaul/miniconda3/envs/deep/lib/python3.5/site-packages/gatspy/periodic/lomb_scargle_fast.py:324: RuntimeWarning: invalid value encountered in true_divide\n",
      "  power = (YC * YC / CC + YS * YS / SS) / YY\n",
      "/Users/brettnaul/miniconda3/envs/deep/lib/python3.5/site-packages/gatspy/periodic/_least_squares_mixin.py:79: RuntimeWarning: invalid value encountered in true_divide\n",
      "  P = chi2_0_minus_chi2 / chi2_ref\n",
      "/Users/brettnaul/miniconda3/envs/deep/lib/python3.5/site-packages/gatspy/periodic/lomb_scargle_fast.py:324: RuntimeWarning: invalid value encountered in true_divide\n",
      "  power = (YC * YC / CC + YS * YS / SS) / YY\n",
      "/Users/brettnaul/miniconda3/envs/deep/lib/python3.5/site-packages/gatspy/periodic/lomb_scargle_fast.py:324: RuntimeWarning: invalid value encountered in true_divide\n",
      "  power = (YC * YC / CC + YS * YS / SS) / YY\n",
      "/Users/brettnaul/miniconda3/envs/deep/lib/python3.5/site-packages/gatspy/periodic/lomb_scargle_fast.py:324: RuntimeWarning: invalid value encountered in true_divide\n",
      "  power = (YC * YC / CC + YS * YS / SS) / YY\n",
      "/Users/brettnaul/miniconda3/envs/deep/lib/python3.5/site-packages/gatspy/periodic/lomb_scargle_fast.py:324: RuntimeWarning: invalid value encountered in true_divide\n",
      "  power = (YC * YC / CC + YS * YS / SS) / YY\n",
      "/Users/brettnaul/miniconda3/envs/deep/lib/python3.5/site-packages/gatspy/periodic/lomb_scargle_fast.py:324: RuntimeWarning: invalid value encountered in true_divide\n",
      "  power = (YC * YC / CC + YS * YS / SS) / YY\n",
      "/Users/brettnaul/miniconda3/envs/deep/lib/python3.5/site-packages/gatspy/periodic/lomb_scargle_fast.py:324: RuntimeWarning: invalid value encountered in true_divide\n",
      "  power = (YC * YC / CC + YS * YS / SS) / YY\n",
      "/Users/brettnaul/miniconda3/envs/deep/lib/python3.5/site-packages/gatspy/periodic/_least_squares_mixin.py:79: RuntimeWarning: invalid value encountered in true_divide\n",
      "  P = chi2_0_minus_chi2 / chi2_ref\n",
      "/Users/brettnaul/miniconda3/envs/deep/lib/python3.5/site-packages/gatspy/periodic/lomb_scargle_fast.py:324: RuntimeWarning: invalid value encountered in true_divide\n",
      "  power = (YC * YC / CC + YS * YS / SS) / YY\n",
      "/Users/brettnaul/miniconda3/envs/deep/lib/python3.5/site-packages/gatspy/periodic/lomb_scargle_fast.py:324: RuntimeWarning: invalid value encountered in true_divide\n",
      "  power = (YC * YC / CC + YS * YS / SS) / YY\n",
      "/Users/brettnaul/miniconda3/envs/deep/lib/python3.5/site-packages/gatspy/periodic/lomb_scargle_fast.py:324: RuntimeWarning: invalid value encountered in true_divide\n",
      "  power = (YC * YC / CC + YS * YS / SS) / YY\n",
      "/Users/brettnaul/miniconda3/envs/deep/lib/python3.5/site-packages/gatspy/periodic/lomb_scargle_fast.py:324: RuntimeWarning: invalid value encountered in true_divide\n",
      "  power = (YC * YC / CC + YS * YS / SS) / YY\n",
      "/Users/brettnaul/miniconda3/envs/deep/lib/python3.5/site-packages/gatspy/periodic/lomb_scargle_fast.py:324: RuntimeWarning: invalid value encountered in true_divide\n",
      "  power = (YC * YC / CC + YS * YS / SS) / YY\n",
      "/Users/brettnaul/miniconda3/envs/deep/lib/python3.5/site-packages/gatspy/periodic/lomb_scargle_fast.py:324: RuntimeWarning: invalid value encountered in true_divide\n",
      "  power = (YC * YC / CC + YS * YS / SS) / YY\n",
      "/Users/brettnaul/miniconda3/envs/deep/lib/python3.5/site-packages/gatspy/periodic/_least_squares_mixin.py:79: RuntimeWarning: invalid value encountered in true_divide\n",
      "  P = chi2_0_minus_chi2 / chi2_ref\n",
      "/Users/brettnaul/miniconda3/envs/deep/lib/python3.5/site-packages/gatspy/periodic/lomb_scargle_fast.py:324: RuntimeWarning: invalid value encountered in true_divide\n",
      "  power = (YC * YC / CC + YS * YS / SS) / YY\n",
      "/Users/brettnaul/miniconda3/envs/deep/lib/python3.5/site-packages/gatspy/periodic/lomb_scargle_fast.py:324: RuntimeWarning: invalid value encountered in true_divide\n",
      "  power = (YC * YC / CC + YS * YS / SS) / YY\n",
      "/Users/brettnaul/miniconda3/envs/deep/lib/python3.5/site-packages/gatspy/periodic/lomb_scargle_fast.py:324: RuntimeWarning: invalid value encountered in true_divide\n",
      "  power = (YC * YC / CC + YS * YS / SS) / YY\n",
      "/Users/brettnaul/miniconda3/envs/deep/lib/python3.5/site-packages/gatspy/periodic/lomb_scargle_fast.py:324: RuntimeWarning: invalid value encountered in true_divide\n",
      "  power = (YC * YC / CC + YS * YS / SS) / YY\n",
      "/Users/brettnaul/miniconda3/envs/deep/lib/python3.5/site-packages/gatspy/periodic/lomb_scargle_fast.py:324: RuntimeWarning: invalid value encountered in true_divide\n",
      "  power = (YC * YC / CC + YS * YS / SS) / YY\n",
      "/Users/brettnaul/miniconda3/envs/deep/lib/python3.5/site-packages/gatspy/periodic/lomb_scargle_fast.py:324: RuntimeWarning: invalid value encountered in true_divide\n",
      "  power = (YC * YC / CC + YS * YS / SS) / YY\n",
      "/Users/brettnaul/miniconda3/envs/deep/lib/python3.5/site-packages/gatspy/periodic/_least_squares_mixin.py:79: RuntimeWarning: invalid value encountered in true_divide\n",
      "  P = chi2_0_minus_chi2 / chi2_ref\n",
      "/Users/brettnaul/miniconda3/envs/deep/lib/python3.5/site-packages/gatspy/periodic/lomb_scargle_fast.py:324: RuntimeWarning: invalid value encountered in true_divide\n",
      "  power = (YC * YC / CC + YS * YS / SS) / YY\n",
      "/Users/brettnaul/miniconda3/envs/deep/lib/python3.5/site-packages/gatspy/periodic/lomb_scargle_fast.py:324: RuntimeWarning: invalid value encountered in true_divide\n",
      "  power = (YC * YC / CC + YS * YS / SS) / YY\n",
      "/Users/brettnaul/miniconda3/envs/deep/lib/python3.5/site-packages/gatspy/periodic/lomb_scargle_fast.py:324: RuntimeWarning: invalid value encountered in true_divide\n",
      "  power = (YC * YC / CC + YS * YS / SS) / YY\n",
      "/Users/brettnaul/miniconda3/envs/deep/lib/python3.5/site-packages/gatspy/periodic/lomb_scargle_fast.py:324: RuntimeWarning: invalid value encountered in true_divide\n",
      "  power = (YC * YC / CC + YS * YS / SS) / YY\n",
      "/Users/brettnaul/miniconda3/envs/deep/lib/python3.5/site-packages/gatspy/periodic/lomb_scargle_fast.py:324: RuntimeWarning: invalid value encountered in true_divide\n",
      "  power = (YC * YC / CC + YS * YS / SS) / YY\n",
      "/Users/brettnaul/miniconda3/envs/deep/lib/python3.5/site-packages/gatspy/periodic/lomb_scargle_fast.py:324: RuntimeWarning: invalid value encountered in true_divide\n",
      "  power = (YC * YC / CC + YS * YS / SS) / YY\n",
      "/Users/brettnaul/miniconda3/envs/deep/lib/python3.5/site-packages/gatspy/periodic/_least_squares_mixin.py:79: RuntimeWarning: invalid value encountered in true_divide\n",
      "  P = chi2_0_minus_chi2 / chi2_ref\n",
      "/Users/brettnaul/miniconda3/envs/deep/lib/python3.5/site-packages/gatspy/periodic/lomb_scargle_fast.py:324: RuntimeWarning: invalid value encountered in true_divide\n",
      "  power = (YC * YC / CC + YS * YS / SS) / YY\n",
      "/Users/brettnaul/miniconda3/envs/deep/lib/python3.5/site-packages/gatspy/periodic/lomb_scargle_fast.py:324: RuntimeWarning: invalid value encountered in true_divide\n",
      "  power = (YC * YC / CC + YS * YS / SS) / YY\n",
      "/Users/brettnaul/miniconda3/envs/deep/lib/python3.5/site-packages/gatspy/periodic/lomb_scargle_fast.py:324: RuntimeWarning: invalid value encountered in true_divide\n",
      "  power = (YC * YC / CC + YS * YS / SS) / YY\n",
      "/Users/brettnaul/miniconda3/envs/deep/lib/python3.5/site-packages/gatspy/periodic/lomb_scargle_fast.py:324: RuntimeWarning: invalid value encountered in true_divide\n",
      "  power = (YC * YC / CC + YS * YS / SS) / YY\n",
      "/Users/brettnaul/miniconda3/envs/deep/lib/python3.5/site-packages/gatspy/periodic/lomb_scargle_fast.py:324: RuntimeWarning: invalid value encountered in true_divide\n",
      "  power = (YC * YC / CC + YS * YS / SS) / YY\n",
      "/Users/brettnaul/miniconda3/envs/deep/lib/python3.5/site-packages/gatspy/periodic/lomb_scargle_fast.py:324: RuntimeWarning: invalid value encountered in true_divide\n",
      "  power = (YC * YC / CC + YS * YS / SS) / YY\n",
      "/Users/brettnaul/miniconda3/envs/deep/lib/python3.5/site-packages/gatspy/periodic/_least_squares_mixin.py:79: RuntimeWarning: invalid value encountered in true_divide\n",
      "  P = chi2_0_minus_chi2 / chi2_ref\n",
      "/Users/brettnaul/miniconda3/envs/deep/lib/python3.5/site-packages/gatspy/periodic/lomb_scargle_fast.py:324: RuntimeWarning: invalid value encountered in true_divide\n",
      "  power = (YC * YC / CC + YS * YS / SS) / YY\n",
      "/Users/brettnaul/miniconda3/envs/deep/lib/python3.5/site-packages/gatspy/periodic/lomb_scargle_fast.py:324: RuntimeWarning: invalid value encountered in true_divide\n",
      "  power = (YC * YC / CC + YS * YS / SS) / YY\n",
      "/Users/brettnaul/miniconda3/envs/deep/lib/python3.5/site-packages/gatspy/periodic/lomb_scargle_fast.py:324: RuntimeWarning: invalid value encountered in true_divide\n",
      "  power = (YC * YC / CC + YS * YS / SS) / YY\n",
      "/Users/brettnaul/miniconda3/envs/deep/lib/python3.5/site-packages/gatspy/periodic/lomb_scargle_fast.py:324: RuntimeWarning: invalid value encountered in true_divide\n",
      "  power = (YC * YC / CC + YS * YS / SS) / YY\n",
      "/Users/brettnaul/miniconda3/envs/deep/lib/python3.5/site-packages/gatspy/periodic/lomb_scargle_fast.py:324: RuntimeWarning: invalid value encountered in true_divide\n",
      "  power = (YC * YC / CC + YS * YS / SS) / YY\n",
      "/Users/brettnaul/miniconda3/envs/deep/lib/python3.5/site-packages/gatspy/periodic/lomb_scargle_fast.py:324: RuntimeWarning: invalid value encountered in true_divide\n",
      "  power = (YC * YC / CC + YS * YS / SS) / YY\n",
      "/Users/brettnaul/miniconda3/envs/deep/lib/python3.5/site-packages/gatspy/periodic/_least_squares_mixin.py:79: RuntimeWarning: invalid value encountered in true_divide\n",
      "  P = chi2_0_minus_chi2 / chi2_ref\n",
      "/Users/brettnaul/miniconda3/envs/deep/lib/python3.5/site-packages/gatspy/periodic/lomb_scargle_fast.py:324: RuntimeWarning: invalid value encountered in true_divide\n",
      "  power = (YC * YC / CC + YS * YS / SS) / YY\n",
      "/Users/brettnaul/miniconda3/envs/deep/lib/python3.5/site-packages/gatspy/periodic/lomb_scargle_fast.py:324: RuntimeWarning: invalid value encountered in true_divide\n",
      "  power = (YC * YC / CC + YS * YS / SS) / YY\n",
      "/Users/brettnaul/miniconda3/envs/deep/lib/python3.5/site-packages/gatspy/periodic/lomb_scargle_fast.py:324: RuntimeWarning: invalid value encountered in true_divide\n",
      "  power = (YC * YC / CC + YS * YS / SS) / YY\n",
      "/Users/brettnaul/miniconda3/envs/deep/lib/python3.5/site-packages/gatspy/periodic/lomb_scargle_fast.py:324: RuntimeWarning: invalid value encountered in true_divide\n",
      "  power = (YC * YC / CC + YS * YS / SS) / YY\n",
      "/Users/brettnaul/miniconda3/envs/deep/lib/python3.5/site-packages/gatspy/periodic/lomb_scargle_fast.py:324: RuntimeWarning: invalid value encountered in true_divide\n",
      "  power = (YC * YC / CC + YS * YS / SS) / YY\n",
      "/Users/brettnaul/miniconda3/envs/deep/lib/python3.5/site-packages/gatspy/periodic/lomb_scargle_fast.py:324: RuntimeWarning: invalid value encountered in true_divide\n",
      "  power = (YC * YC / CC + YS * YS / SS) / YY\n",
      "/Users/brettnaul/miniconda3/envs/deep/lib/python3.5/site-packages/gatspy/periodic/_least_squares_mixin.py:79: RuntimeWarning: invalid value encountered in true_divide\n",
      "  P = chi2_0_minus_chi2 / chi2_ref\n",
      "/Users/brettnaul/miniconda3/envs/deep/lib/python3.5/site-packages/gatspy/periodic/lomb_scargle_fast.py:324: RuntimeWarning: invalid value encountered in true_divide\n",
      "  power = (YC * YC / CC + YS * YS / SS) / YY\n",
      "/Users/brettnaul/miniconda3/envs/deep/lib/python3.5/site-packages/gatspy/periodic/lomb_scargle_fast.py:324: RuntimeWarning: invalid value encountered in true_divide\n",
      "  power = (YC * YC / CC + YS * YS / SS) / YY\n",
      "/Users/brettnaul/miniconda3/envs/deep/lib/python3.5/site-packages/gatspy/periodic/lomb_scargle_fast.py:324: RuntimeWarning: invalid value encountered in true_divide\n",
      "  power = (YC * YC / CC + YS * YS / SS) / YY\n",
      "/Users/brettnaul/miniconda3/envs/deep/lib/python3.5/site-packages/gatspy/periodic/lomb_scargle_fast.py:324: RuntimeWarning: invalid value encountered in true_divide\n",
      "  power = (YC * YC / CC + YS * YS / SS) / YY\n",
      "/Users/brettnaul/miniconda3/envs/deep/lib/python3.5/site-packages/gatspy/periodic/lomb_scargle_fast.py:324: RuntimeWarning: invalid value encountered in true_divide\n",
      "  power = (YC * YC / CC + YS * YS / SS) / YY\n",
      "/Users/brettnaul/miniconda3/envs/deep/lib/python3.5/site-packages/gatspy/periodic/lomb_scargle_fast.py:324: RuntimeWarning: invalid value encountered in true_divide\n",
      "  power = (YC * YC / CC + YS * YS / SS) / YY\n",
      "/Users/brettnaul/miniconda3/envs/deep/lib/python3.5/site-packages/gatspy/periodic/_least_squares_mixin.py:79: RuntimeWarning: invalid value encountered in true_divide\n",
      "  P = chi2_0_minus_chi2 / chi2_ref\n",
      "/Users/brettnaul/miniconda3/envs/deep/lib/python3.5/site-packages/gatspy/periodic/lomb_scargle_fast.py:324: RuntimeWarning: invalid value encountered in true_divide\n",
      "  power = (YC * YC / CC + YS * YS / SS) / YY\n",
      "/Users/brettnaul/miniconda3/envs/deep/lib/python3.5/site-packages/gatspy/periodic/lomb_scargle_fast.py:324: RuntimeWarning: invalid value encountered in true_divide\n",
      "  power = (YC * YC / CC + YS * YS / SS) / YY\n",
      "/Users/brettnaul/miniconda3/envs/deep/lib/python3.5/site-packages/gatspy/periodic/lomb_scargle_fast.py:324: RuntimeWarning: invalid value encountered in true_divide\n",
      "  power = (YC * YC / CC + YS * YS / SS) / YY\n",
      "/Users/brettnaul/miniconda3/envs/deep/lib/python3.5/site-packages/gatspy/periodic/lomb_scargle_fast.py:324: RuntimeWarning: invalid value encountered in true_divide\n",
      "  power = (YC * YC / CC + YS * YS / SS) / YY\n",
      "/Users/brettnaul/miniconda3/envs/deep/lib/python3.5/site-packages/gatspy/periodic/lomb_scargle_fast.py:324: RuntimeWarning: invalid value encountered in true_divide\n",
      "  power = (YC * YC / CC + YS * YS / SS) / YY\n",
      "/Users/brettnaul/miniconda3/envs/deep/lib/python3.5/site-packages/gatspy/periodic/lomb_scargle_fast.py:324: RuntimeWarning: invalid value encountered in true_divide\n",
      "  power = (YC * YC / CC + YS * YS / SS) / YY\n",
      "/Users/brettnaul/miniconda3/envs/deep/lib/python3.5/site-packages/gatspy/periodic/_least_squares_mixin.py:79: RuntimeWarning: invalid value encountered in true_divide\n",
      "  P = chi2_0_minus_chi2 / chi2_ref\n"
     ]
    },
    {
     "name": "stdout",
     "output_type": "stream",
     "text": [
      "CPU times: user 36min 11s, sys: 52.3 s, total: 37min 3s\n",
      "Wall time: 9min 28s\n"
     ]
    }
   ],
   "source": [
    "%%time\n",
    "from gatspy.periodic import LombScargleFast\n",
    "\n",
    "best_scores = np.zeros(len(X))\n",
    "for i in range(len(X)):\n",
    "    t = X[i, :, 0]\n",
    "    m = X[i, :, 1]\n",
    "    opt_args = {'period_range': (0.05 * (t.max() - t.min()), 0.95 * (t.max() - t.min())), 'quiet': True}\n",
    "    model_gat = LombScargleFast(fit_period=True, optimizer_kwds=opt_args,\n",
    "                                silence_warnings=True)\n",
    "    model_gat.fit(t, m)\n",
    "    best_scores[i] = model_gat.score(model_gat.best_period).item()"
   ]
  },
  {
   "cell_type": "code",
   "execution_count": 68,
   "metadata": {
    "collapsed": false
   },
   "outputs": [
    {
     "name": "stderr",
     "output_type": "stream",
     "text": [
      "/Users/brettnaul/miniconda3/envs/deep/lib/python3.5/site-packages/statsmodels/nonparametric/kdetools.py:20: VisibleDeprecationWarning: using a non-integer number instead of an integer will result in an error in the future\n",
      "  y = X[:m/2+1] + np.r_[0,X[m/2+1:],0]*1j\n"
     ]
    },
    {
     "data": {
      "text/plain": [
       "<matplotlib.axes._subplots.AxesSubplot at 0x1199434e0>"
      ]
     },
     "execution_count": 68,
     "metadata": {},
     "output_type": "execute_result"
    },
    {
     "data": {
      "image/png": "[encoded data removed]",
      "text/plain": [
       "<matplotlib.figure.Figure at 0x11e226a90>"
      ]
     },
     "metadata": {},
     "output_type": "display_data"
    }
   ],
   "source": [
    "sns.distplot(best_scores[~np.isnan(best_scores)])"
   ]
  },
  {
   "cell_type": "code",
   "execution_count": 92,
   "metadata": {
    "collapsed": false
   },
   "outputs": [
    {
     "name": "stderr",
     "output_type": "stream",
     "text": [
      "/Users/brettnaul/miniconda3/envs/deep/lib/python3.5/site-packages/statsmodels/nonparametric/kde.py:454: RuntimeWarning: invalid value encountered in greater\n",
      "  X = X[np.logical_and(X>clip[0], X<clip[1])] # won't work for two columns.\n",
      "/Users/brettnaul/miniconda3/envs/deep/lib/python3.5/site-packages/statsmodels/nonparametric/kde.py:454: RuntimeWarning: invalid value encountered in less\n",
      "  X = X[np.logical_and(X>clip[0], X<clip[1])] # won't work for two columns.\n",
      "/Users/brettnaul/miniconda3/envs/deep/lib/python3.5/site-packages/statsmodels/nonparametric/kdetools.py:20: VisibleDeprecationWarning: using a non-integer number instead of an integer will result in an error in the future\n",
      "  y = X[:m/2+1] + np.r_[0,X[m/2+1:],0]*1j\n",
      "/Users/brettnaul/miniconda3/envs/deep/lib/python3.5/site-packages/scipy/integrate/quadpack.py:356: IntegrationWarning: The occurrence of roundoff error is detected, which prevents \n",
      "  the requested tolerance from being achieved.  The error may be \n",
      "  underestimated.\n",
      "  warnings.warn(msg, IntegrationWarning)\n"
     ]
    },
    {
     "data": {
      "text/plain": [
       "<matplotlib.axes._subplots.AxesSubplot at 0x122e1cd68>"
      ]
     },
     "execution_count": 92,
     "metadata": {},
     "output_type": "execute_result"
    },
    {
     "data": {
      "image/png": "[encoded data removed]",
      "text/plain": [
       "<matplotlib.figure.Figure at 0x122d59358>"
      ]
     },
     "metadata": {},
     "output_type": "display_data"
    }
   ],
   "source": [
    "sns.kdeplot(best_scores, cumulative=True)"
   ]
  },
  {
   "cell_type": "code",
   "execution_count": 90,
   "metadata": {
    "collapsed": false
   },
   "outputs": [
    {
     "name": "stdout",
     "output_type": "stream",
     "text": [
      "0.05086905103578158\n"
     ]
    },
    {
     "data": {
      "image/png": "[encoded data removed]",
      "text/plain": [
       "<matplotlib.figure.Figure at 0x1181396a0>"
      ]
     },
     "metadata": {},
     "output_type": "display_data"
    }
   ],
   "source": [
    "#inds = ~np.isnan(X_raw[i, :, 0])\n",
    "inds = np.arange(args.n_min)\n",
    "#i += 1\n",
    "i = np.random.choice(inds)\n",
    "t = np.cumsum(X_raw[i, inds, 0])\n",
    "m = X[i, inds, 1]\n",
    "#m = np.random.normal(size=len(t))\n",
    "e = X_raw[i, inds, 2]\n",
    "pred_i = model.predict({'main_input': X[i:i+1], 'aux_input': X[i:i+1, :, [0,]]})[0, inds, 0]\n",
    "\n",
    "plt.errorbar(t, m, e, None, 'o');\n",
    "plt.plot(t, pred[i], 'o');\n",
    "\n",
    "from gatspy.periodic import LombScargleFast\n",
    "\n",
    "gat_resids = np.zeros(len(X))\n",
    "model_gat = LombScargleFast(fit_period=True, optimizer_kwds={'period_range': (0.05 * (t.max() - t.min()), 0.95 * (t.max() - t.min())), 'quiet': True}, silence_warnings=True)\n",
    "model_gat.fit(t, m)\n",
    "print(model_gat.score(model_gat.best_period).item())\n",
    "\n",
    "#w_r, A_r, phi_r, b_r = pred_gru[i]\n",
    "#x_r = A_r * np.sin(2 * np.pi * w_r * t + phi_r) + b_r\n",
    "#plt.plot(t, x_r, '--')\n",
    "\n",
    "plt.legend(['Original', 'Reconstructed'])\n",
    "plt.title(\"MSE: {}, Var: {}\".format((np.mean((m - np.squeeze(pred[i])) ** 2)), np.var(m)));"
   ]
  },
  {
   "cell_type": "markdown",
   "metadata": {},
   "source": [
    "# Visualizing training progress"
   ]
  },
  {
   "cell_type": "code",
   "execution_count": null,
   "metadata": {
    "collapsed": false
   },
   "outputs": [],
   "source": [
    "import glob\n",
    "import os\n",
    "\n",
    "log_files = glob.glob(os.path.join('keras_logs', 'autoencoder/uneven/noise0') + '/*.csv')\n",
    "logs = [pd.read_csv(f, usecols=['Wall time', 'Step', 'Value']) for f in log_files]\n",
    "for log, f in zip(logs, log_files):\n",
    "    label = f[(f.rfind('run_') + 4):f.rfind(',')] + ' ' + ('Validation' if 'val' in f else 'Training')\n",
    "    log.columns = [label if c == 'Value' else c for c in log.columns]\n",
    "    log['Wall time'] -= log['Wall time'].min()\n",
    "time_logs = pd.concat([l.set_index('Wall time').drop('Step', axis=1) for l in logs], axis=1)\n",
    "step_logs = pd.concat([l.set_index('Step').drop('Wall time', axis=1) for l in logs], axis=1)\n",
    "step_logs.head(10)"
   ]
  },
  {
   "cell_type": "code",
   "execution_count": null,
   "metadata": {
    "collapsed": true
   },
   "outputs": [],
   "source": [
    "step_logs.plot?"
   ]
  },
  {
   "cell_type": "code",
   "execution_count": null,
   "metadata": {
    "collapsed": false
   },
   "outputs": [],
   "source": [
    "fig, ax = plt.subplots(1, 2, figsize=(12, 5))\n",
    "\n",
    "colors = sns.color_palette(n_colors=int(len(step_logs.columns) / 2))\n",
    "for i, c in enumerate(step_logs.columns):\n",
    "    step_logs[c].dropna().plot(ax=ax[0], color=colors[int(i / 2)], legend=True, linestyle='-' if 'Training' in c else '--')\n",
    "    time_logs[c].dropna().plot(ax=ax[1], color=colors[int(i / 2)], legend=True, linestyle='-' if 'Training' in c else '--')\n",
    "ax[0].set_ylabel('Loss');\n",
    "ax[1].set_ylabel('Loss');\n",
    "ax[1].set_xlabel('Wall time (s)');"
   ]
  },
  {
   "cell_type": "markdown",
   "metadata": {},
   "source": [
    "# Visualizing embeddings"
   ]
  },
  {
   "cell_type": "code",
   "execution_count": null,
   "metadata": {
    "collapsed": false
   },
   "outputs": [],
   "source": [
    "%%time\n",
    "inds = np.arange(args.N_train, args.N_train + args.N_test)\n",
    "encode_layer = [l for l in model.layers if l.name == 'encoding'][0]\n",
    "if args.even:\n",
    "    encode = K.function([model.layers[0].input], [encode_layer.output])\n",
    "    encoding, = encode([X[inds]])\n",
    "else:\n",
    "    inputs = [l for l in model.layers if 'Input' in str(l)]\n",
    "    encode = K.function([inputs[0].input, inputs[1].input], [encode_layer.output])\n",
    "    encoding, = encode([X[inds], X[inds, :, 0:1]])"
   ]
  },
  {
   "cell_type": "code",
   "execution_count": null,
   "metadata": {
    "collapsed": false
   },
   "outputs": [],
   "source": [
    "np.mean((m - pred_i) ** 2)"
   ]
  },
  {
   "cell_type": "code",
   "execution_count": null,
   "metadata": {
    "collapsed": false
   },
   "outputs": [],
   "source": [
    "S = np.corrcoef(encoding, Y[:encoding.shape[0]], rowvar=0)[:8, 8:]\n",
    "print(pd.DataFrame(S))\n",
    "plt.imshow(S, cmap='viridis', interpolation='none')\n",
    "plt.colorbar()"
   ]
  },
  {
   "cell_type": "code",
   "execution_count": null,
   "metadata": {
    "collapsed": false
   },
   "outputs": [],
   "source": [
    "sns.jointplot(encoding[:, 5], Y[:encoding.shape[0], 0], kind='hex')"
   ]
  },
  {
   "cell_type": "code",
   "execution_count": null,
   "metadata": {
    "collapsed": false
   },
   "outputs": [],
   "source": [
    "sns.jointplot(encoding[:, 1], Y[:encoding.shape[0], 1], kind='hex')"
   ]
  },
  {
   "cell_type": "code",
   "execution_count": null,
   "metadata": {
    "collapsed": false
   },
   "outputs": [],
   "source": [
    "sns.jointplot(encoding[:, 5], Y[:encoding.shape[0], 2], kind='hex')"
   ]
  },
  {
   "cell_type": "code",
   "execution_count": null,
   "metadata": {
    "collapsed": false
   },
   "outputs": [],
   "source": [
    "sns.jointplot(encoding[:, 3], Y[:encoding.shape[0], 3], kind='hex')"
   ]
  },
  {
   "cell_type": "code",
   "execution_count": null,
   "metadata": {
    "collapsed": false
   },
   "outputs": [],
   "source": [
    "from sklearn.ensemble import RandomForestRegressor\n",
    "from sklearn.linear_model import ElasticNet\n",
    "from sklearn.svm import SVR\n",
    "\n",
    "model = RandomForestRegressor(n_estimators=128)\n",
    "#model = ElasticNet()\n",
    "#model = SVR(kernel='rbf')\n",
    "\n",
    "model.fit(encoding, Y[:encoding.shape[0], 0])"
   ]
  },
  {
   "cell_type": "code",
   "execution_count": null,
   "metadata": {
    "collapsed": true
   },
   "outputs": [],
   "source": [
    "encoding_test = encode([X[test]])[0]\n",
    "Y_pred = model.predict(encoding_test)"
   ]
  },
  {
   "cell_type": "code",
   "execution_count": null,
   "metadata": {
    "collapsed": false
   },
   "outputs": [],
   "source": [
    "#sns.jointplot(Y[test, 0], Y_pred[:, 0])\n",
    "sns.jointplot(Y[test, 0], Y_pred)"
   ]
  }
 ],
 "metadata": {
  "anaconda-cloud": {},
  "kernelspec": {
   "display_name": "Python 3",
   "language": "python",
   "name": "python3"
  },
  "language_info": {
   "codemirror_mode": {
    "name": "ipython",
    "version": 3
   },
   "file_extension": ".py",
   "mimetype": "text/x-python",
   "name": "python",
   "nbconvert_exporter": "python",
   "pygments_lexer": "ipython3",
   "version": "3.5.2"
  }
 },
 "nbformat": 4,
 "nbformat_minor": 1
}
