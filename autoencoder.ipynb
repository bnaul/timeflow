{
 "cells": [
  {
   "cell_type": "code",
   "execution_count": 1,
   "metadata": {
    "collapsed": false
   },
   "outputs": [
    {
     "name": "stdout",
     "output_type": "stream",
     "text": [
      "The autoreload extension is already loaded. To reload it, use:\n",
      "  %reload_ext autoreload\n"
     ]
    },
    {
     "name": "stderr",
     "output_type": "stream",
     "text": [
      "/Users/brettnaul/miniconda3/envs/deep/lib/python3.5/site-packages/IPython/html.py:14: ShimWarning: The `IPython.html` package has been deprecated. You should import from `notebook` instead. `IPython.html.widgets` has moved to `ipywidgets`.\n",
      "  \"`IPython.html.widgets` has moved to `ipywidgets`.\", ShimWarning)\n"
     ]
    }
   ],
   "source": [
    "import numpy as np\n",
    "import pandas as pd\n",
    "import matplotlib.pyplot as plt\n",
    "import seaborn as sns\n",
    "%matplotlib inline\n",
    "plt.rcParams['figure.figsize'] = 9, 6\n",
    "%load_ext autoreload\n",
    "%autoreload 2"
   ]
  },
  {
   "cell_type": "raw",
   "metadata": {
    "collapsed": false
   },
   "source": [
    "from keras import backend as K\n",
    "import sample_datae\n",
    "%run autoencoder.py 64 4 0.25 --no_train --uneven --model_type conv --sigma 0.5 --lr 5e-4 --sim_type autoencoder/uneven/noise0.5 --filter_length 7 --nb_epoch 10 --batch_norm\n",
    "Y = sample_data.phase_to_sin_cos(Y)\n",
    "train = np.arange(args.N_train)\n",
    "test = args.N_train + np.arange(args.N_test)"
   ]
  },
  {
   "cell_type": "code",
   "execution_count": 5,
   "metadata": {
    "collapsed": false
   },
   "outputs": [
    {
     "name": "stderr",
     "output_type": "stream",
     "text": [
      "/Users/brettnaul/Dropbox/Documents/timeflow/asas_full.py:66: FutureWarning: sort(columns=....) is deprecated, use sort_values(by=.....)\n",
      "  for f in filenames]\n",
      "/Users/brettnaul/miniconda3/envs/deep/lib/python3.5/site-packages/numpy/core/_methods.py:59: RuntimeWarning: Mean of empty slice.\n",
      "  warnings.warn(\"Mean of empty slice.\", RuntimeWarning)\n",
      "/Users/brettnaul/miniconda3/envs/deep/lib/python3.5/site-packages/numpy/core/_methods.py:70: RuntimeWarning: invalid value encountered in true_divide\n",
      "  ret = ret.dtype.type(ret / rcount)\n"
     ]
    },
    {
     "name": "stdout",
     "output_type": "stream",
     "text": [
      "[]\n",
      "/Users/brettnaul/Dropbox/Documents/timeflow/keras_logs/asas_full/n200/conv_096_x2_5m04_drop25_bn_f7_emb32\n",
      "Loading /Users/brettnaul/Dropbox/Documents/timeflow/keras_logs/asas_full/n200/conv_096_x2_5m04_drop25_bn_f7_emb32/weights.h5...\n"
     ]
    }
   ],
   "source": [
    "from keras import backend as K\n",
    "K.set_learning_phase(0)\n",
    "%run asas_full.py 96 2 0.25 --no_train --model_type conv --lr 5e-4 --sim_type asas_full/n200 --nb_epoch 1 --n_min 200 --n_max 200 --m_max 32 --embedding 32 --filter_length 7 --batch_norm"
   ]
  },
  {
   "cell_type": "markdown",
   "metadata": {},
   "source": [
    "# Visualizing predictions"
   ]
  },
  {
   "cell_type": "raw",
   "metadata": {
    "collapsed": false
   },
   "source": [
    "%%time\n",
    "pred = model.predict({'main_input': X, 'aux_input': X[:, :, [0,]]}, batch_size=500)"
   ]
  },
  {
   "cell_type": "raw",
   "metadata": {
    "collapsed": false
   },
   "source": [
    "inds = np.arange(1000)\n",
    "model.evaluate({'main_input': X[inds], 'aux_input': np.delete(X[inds], 1, axis=2)}, X_raw[inds, :, 1:2], batch_size=500)"
   ]
  },
  {
   "cell_type": "raw",
   "metadata": {
    "collapsed": false
   },
   "source": [
    "train = np.arange(args.N_train); test = args.N_train + np.arange(args.N_test)\n",
    "i = train[0] - 1"
   ]
  },
  {
   "cell_type": "raw",
   "metadata": {
    "collapsed": false
   },
   "source": [
    "i += 1\n",
    "if args.even:\n",
    "    t = np.linspace(0, 2 * np.pi, X.shape[1])\n",
    "    m = X[i, :, 0]\n",
    "    pred_i = model.predict(X[[i]])[0, :, 0]\n",
    "else:\n",
    "    inds = (X[i, :, 0] >= 0.)\n",
    "    t = X_raw[i, inds, 0]\n",
    "    m_raw = X_raw[i, inds, 1]\n",
    "    m = X[i, inds, 1]\n",
    "    pred_i = model.predict({'main_input': X[i:i+1], 'aux_input': X[i:i+1, :, [0,]]})[0, inds, 0]\n",
    "\n",
    "T = np.linspace(0, t.max(), 501)\n",
    "def sinusoid(p, A1, A2, b):\n",
    "    return lambda t: A1 * np.cos(2 * np.pi / p * t) + A2 * np.sin(2 * np.pi / p * t) + b\n",
    "\n",
    "plt.plot(T, sinusoid(*Y[i])(T))\n",
    "plt.plot(t, m, 'o')\n",
    "plt.plot(t, pred_i, 'o')\n",
    "\n",
    "#w_r, A_r, phi_r, b_r = pred_gru[i]\n",
    "#x_r = A_r * np.sin(2 * np.pi * w_r * t + phi_r) + b_r\n",
    "#plt.plot(t, x_r, '--')\n",
    "#plt.legend(['Noisy', 'Original'])\n",
    "plt.title(\"MSE: {}\".format(np.mean((m_raw - pred_i) ** 2)));"
   ]
  },
  {
   "cell_type": "code",
   "execution_count": 3,
   "metadata": {
    "collapsed": false
   },
   "outputs": [
    {
     "ename": "NameError",
     "evalue": "name 'model' is not defined",
     "output_type": "error",
     "traceback": [
      "\u001b[0;31m---------------------------------------------------------------------------\u001b[0m",
      "\u001b[0;31mNameError\u001b[0m                                 Traceback (most recent call last)",
      "\u001b[0;32m<ipython-input-3-edda0483d749>\u001b[0m in \u001b[0;36m<module>\u001b[0;34m()\u001b[0m\n\u001b[0;32m----> 1\u001b[0;31m \u001b[0mget_ipython\u001b[0m\u001b[0;34m(\u001b[0m\u001b[0;34m)\u001b[0m\u001b[0;34m.\u001b[0m\u001b[0mrun_cell_magic\u001b[0m\u001b[0;34m(\u001b[0m\u001b[0;34m'time'\u001b[0m\u001b[0;34m,\u001b[0m \u001b[0;34m''\u001b[0m\u001b[0;34m,\u001b[0m \u001b[0;34m\"pred = model.predict({'main_input': X, 'aux_input': np.delete(X, 1, axis=2)}, batch_size=500)\"\u001b[0m\u001b[0;34m)\u001b[0m\u001b[0;34m\u001b[0m\u001b[0m\n\u001b[0m",
      "\u001b[0;32m/Users/brettnaul/miniconda3/envs/deep/lib/python3.5/site-packages/IPython/core/interactiveshell.py\u001b[0m in \u001b[0;36mrun_cell_magic\u001b[0;34m(self, magic_name, line, cell)\u001b[0m\n\u001b[1;32m   2113\u001b[0m             \u001b[0mmagic_arg_s\u001b[0m \u001b[0;34m=\u001b[0m \u001b[0mself\u001b[0m\u001b[0;34m.\u001b[0m\u001b[0mvar_expand\u001b[0m\u001b[0;34m(\u001b[0m\u001b[0mline\u001b[0m\u001b[0;34m,\u001b[0m \u001b[0mstack_depth\u001b[0m\u001b[0;34m)\u001b[0m\u001b[0;34m\u001b[0m\u001b[0m\n\u001b[1;32m   2114\u001b[0m             \u001b[0;32mwith\u001b[0m \u001b[0mself\u001b[0m\u001b[0;34m.\u001b[0m\u001b[0mbuiltin_trap\u001b[0m\u001b[0;34m:\u001b[0m\u001b[0;34m\u001b[0m\u001b[0m\n\u001b[0;32m-> 2115\u001b[0;31m                 \u001b[0mresult\u001b[0m \u001b[0;34m=\u001b[0m \u001b[0mfn\u001b[0m\u001b[0;34m(\u001b[0m\u001b[0mmagic_arg_s\u001b[0m\u001b[0;34m,\u001b[0m \u001b[0mcell\u001b[0m\u001b[0;34m)\u001b[0m\u001b[0;34m\u001b[0m\u001b[0m\n\u001b[0m\u001b[1;32m   2116\u001b[0m             \u001b[0;32mreturn\u001b[0m \u001b[0mresult\u001b[0m\u001b[0;34m\u001b[0m\u001b[0m\n\u001b[1;32m   2117\u001b[0m \u001b[0;34m\u001b[0m\u001b[0m\n",
      "\u001b[0;32m<decorator-gen-59>\u001b[0m in \u001b[0;36mtime\u001b[0;34m(self, line, cell, local_ns)\u001b[0m\n",
      "\u001b[0;32m/Users/brettnaul/miniconda3/envs/deep/lib/python3.5/site-packages/IPython/core/magic.py\u001b[0m in \u001b[0;36m<lambda>\u001b[0;34m(f, *a, **k)\u001b[0m\n\u001b[1;32m    186\u001b[0m     \u001b[0;31m# but it's overkill for just that one bit of state.\u001b[0m\u001b[0;34m\u001b[0m\u001b[0;34m\u001b[0m\u001b[0m\n\u001b[1;32m    187\u001b[0m     \u001b[0;32mdef\u001b[0m \u001b[0mmagic_deco\u001b[0m\u001b[0;34m(\u001b[0m\u001b[0marg\u001b[0m\u001b[0;34m)\u001b[0m\u001b[0;34m:\u001b[0m\u001b[0;34m\u001b[0m\u001b[0m\n\u001b[0;32m--> 188\u001b[0;31m         \u001b[0mcall\u001b[0m \u001b[0;34m=\u001b[0m \u001b[0;32mlambda\u001b[0m \u001b[0mf\u001b[0m\u001b[0;34m,\u001b[0m \u001b[0;34m*\u001b[0m\u001b[0ma\u001b[0m\u001b[0;34m,\u001b[0m \u001b[0;34m**\u001b[0m\u001b[0mk\u001b[0m\u001b[0;34m:\u001b[0m \u001b[0mf\u001b[0m\u001b[0;34m(\u001b[0m\u001b[0;34m*\u001b[0m\u001b[0ma\u001b[0m\u001b[0;34m,\u001b[0m \u001b[0;34m**\u001b[0m\u001b[0mk\u001b[0m\u001b[0;34m)\u001b[0m\u001b[0;34m\u001b[0m\u001b[0m\n\u001b[0m\u001b[1;32m    189\u001b[0m \u001b[0;34m\u001b[0m\u001b[0m\n\u001b[1;32m    190\u001b[0m         \u001b[0;32mif\u001b[0m \u001b[0mcallable\u001b[0m\u001b[0;34m(\u001b[0m\u001b[0marg\u001b[0m\u001b[0;34m)\u001b[0m\u001b[0;34m:\u001b[0m\u001b[0;34m\u001b[0m\u001b[0m\n",
      "\u001b[0;32m/Users/brettnaul/miniconda3/envs/deep/lib/python3.5/site-packages/IPython/core/magics/execution.py\u001b[0m in \u001b[0;36mtime\u001b[0;34m(self, line, cell, local_ns)\u001b[0m\n\u001b[1;32m   1178\u001b[0m         \u001b[0;32melse\u001b[0m\u001b[0;34m:\u001b[0m\u001b[0;34m\u001b[0m\u001b[0m\n\u001b[1;32m   1179\u001b[0m             \u001b[0mst\u001b[0m \u001b[0;34m=\u001b[0m \u001b[0mclock2\u001b[0m\u001b[0;34m(\u001b[0m\u001b[0;34m)\u001b[0m\u001b[0;34m\u001b[0m\u001b[0m\n\u001b[0;32m-> 1180\u001b[0;31m             \u001b[0mexec\u001b[0m\u001b[0;34m(\u001b[0m\u001b[0mcode\u001b[0m\u001b[0;34m,\u001b[0m \u001b[0mglob\u001b[0m\u001b[0;34m,\u001b[0m \u001b[0mlocal_ns\u001b[0m\u001b[0;34m)\u001b[0m\u001b[0;34m\u001b[0m\u001b[0m\n\u001b[0m\u001b[1;32m   1181\u001b[0m             \u001b[0mend\u001b[0m \u001b[0;34m=\u001b[0m \u001b[0mclock2\u001b[0m\u001b[0;34m(\u001b[0m\u001b[0;34m)\u001b[0m\u001b[0;34m\u001b[0m\u001b[0m\n\u001b[1;32m   1182\u001b[0m             \u001b[0mout\u001b[0m \u001b[0;34m=\u001b[0m \u001b[0;32mNone\u001b[0m\u001b[0;34m\u001b[0m\u001b[0m\n",
      "\u001b[0;32m<timed exec>\u001b[0m in \u001b[0;36m<module>\u001b[0;34m()\u001b[0m\n",
      "\u001b[0;31mNameError\u001b[0m: name 'model' is not defined"
     ]
    }
   ],
   "source": [
    "%%time\n",
    "pred = model.predict({'main_input': X, 'aux_input': np.delete(X, 1, axis=2)}, batch_size=500)"
   ]
  },
  {
   "cell_type": "raw",
   "metadata": {
    "collapsed": false
   },
   "source": [
    "model.evaluate({'main_input': X, 'aux_input': np.delete(X, 1, axis=2)}, X[:, :, 1:2], batch_size=32)"
   ]
  },
  {
   "cell_type": "code",
   "execution_count": null,
   "metadata": {
    "collapsed": true
   },
   "outputs": [],
   "source": [
    "i = -1"
   ]
  },
  {
   "cell_type": "code",
   "execution_count": null,
   "metadata": {
    "collapsed": false
   },
   "outputs": [],
   "source": [
    "#inds = ~np.isnan(X_raw[i, :, 0])\n",
    "inds = np.arange(args.n_min)\n",
    "i += 1\n",
    "#i = np.random.choice(inds)\n",
    "t = np.cumsum(X_raw[i, inds, 0])\n",
    "m = X[i, inds, 1]\n",
    "#m = np.random.normal(size=len(t))\n",
    "e = X_raw[i, inds, 2]\n",
    "\n",
    "plt.errorbar(t, m, e, None, 'o');\n",
    "#plt.plot(t, pred[i], 'o');\n",
    "plt.errorbar(t, pred[i], None, None, 'o');\n",
    "\n",
    "#from gatspy.periodic import LombScargleFast\n",
    "#gat_resids = np.zeros(len(X))\n",
    "#model_gat = LombScargleFast(fit_period=True, optimizer_kwds={'period_range': (0.05 * (t.max() - t.min()), 0.95 * (t.max() - t.min())), 'quiet': True}, silence_warnings=True)\n",
    "#model_gat.fit(t, m)\n",
    "#print(model_gat.score(model_gat.best_period).item())\n",
    "\n",
    "#w_r, A_r, phi_r, b_r = pred_gru[i]\n",
    "#x_r = A_r * np.sin(2 * np.pi * w_r * t + phi_r) + b_r\n",
    "#plt.plot(t, x_r, '--')\n",
    "\n",
    "plt.legend(['Original', 'Reconstructed'])\n",
    "plt.title(\"MSE: {}, Var: {}\".format((np.mean((m - np.squeeze(pred[i])) ** 2)), np.var(m)));"
   ]
  },
  {
   "cell_type": "markdown",
   "metadata": {},
   "source": [
    "# Visualizing training progress"
   ]
  },
  {
   "cell_type": "raw",
   "metadata": {
    "collapsed": false
   },
   "source": [
    "import glob\n",
    "import os\n",
    "\n",
    "log_files = glob.glob(os.path.join('keras_logs', 'autoencoder/uneven/noise0') + '/*.csv')\n",
    "logs = [pd.read_csv(f, usecols=['Wall time', 'Step', 'Value']) for f in log_files]\n",
    "for log, f in zip(logs, log_files):\n",
    "    label = f[(f.rfind('run_') + 4):f.rfind(',')] + ' ' + ('Validation' if 'val' in f else 'Training')\n",
    "    log.columns = [label if c == 'Value' else c for c in log.columns]\n",
    "    log['Wall time'] -= log['Wall time'].min()\n",
    "time_logs = pd.concat([l.set_index('Wall time').drop('Step', axis=1) for l in logs], axis=1)\n",
    "step_logs = pd.concat([l.set_index('Step').drop('Wall time', axis=1) for l in logs], axis=1)\n",
    "step_logs.head(10)"
   ]
  },
  {
   "cell_type": "raw",
   "metadata": {
    "collapsed": true
   },
   "source": [
    "step_logs.plot?"
   ]
  },
  {
   "cell_type": "raw",
   "metadata": {
    "collapsed": false
   },
   "source": [
    "fig, ax = plt.subplots(1, 2, figsize=(12, 5))\n",
    "\n",
    "colors = sns.color_palette(n_colors=int(len(step_logs.columns) / 2))\n",
    "for i, c in enumerate(step_logs.columns):\n",
    "    step_logs[c].dropna().plot(ax=ax[0], color=colors[int(i / 2)], legend=True, linestyle='-' if 'Training' in c else '--')\n",
    "    time_logs[c].dropna().plot(ax=ax[1], color=colors[int(i / 2)], legend=True, linestyle='-' if 'Training' in c else '--')\n",
    "ax[0].set_ylabel('Loss');\n",
    "ax[1].set_ylabel('Loss');\n",
    "ax[1].set_xlabel('Wall time (s)');"
   ]
  },
  {
   "cell_type": "raw",
   "metadata": {},
   "source": [
    "# Visualizing embeddings"
   ]
  },
  {
   "cell_type": "raw",
   "metadata": {
    "collapsed": false
   },
   "source": [
    "#%%time\n",
    "inds = np.arange(args.N_train, args.N_train + args.N_test)\n",
    "encode_layer = [l for l in model.layers if l.name == 'encoding'][0]\n",
    "if args.even:\n",
    "    encode = K.function([model.layers[0].input], [encode_layer.output])\n",
    "    encoding, = encode([X[inds]])\n",
    "else:\n",
    "    inputs = [l for l in model.layers if 'Input' in str(l)]\n",
    "    encode = K.function([inputs[0].input, inputs[1].input], [encode_layer.output])\n",
    "    encoding, = encode([X[inds], X[inds, :, 0:1]])"
   ]
  },
  {
   "cell_type": "raw",
   "metadata": {
    "collapsed": false
   },
   "source": [
    "np.mean((m - pred_i) ** 2)"
   ]
  },
  {
   "cell_type": "raw",
   "metadata": {
    "collapsed": false
   },
   "source": [
    "S = np.corrcoef(encoding, Y[:encoding.shape[0]], rowvar=0)[:8, 8:]\n",
    "print(pd.DataFrame(S))\n",
    "plt.imshow(S, cmap='viridis', interpolation='none')\n",
    "plt.colorbar()"
   ]
  },
  {
   "cell_type": "raw",
   "metadata": {
    "collapsed": false
   },
   "source": [
    "sns.jointplot(encoding[:, 5], Y[:encoding.shape[0], 0], kind='hex')"
   ]
  },
  {
   "cell_type": "raw",
   "metadata": {
    "collapsed": false
   },
   "source": [
    "sns.jointplot(encoding[:, 1], Y[:encoding.shape[0], 1], kind='hex')"
   ]
  },
  {
   "cell_type": "raw",
   "metadata": {
    "collapsed": false
   },
   "source": [
    "sns.jointplot(encoding[:, 5], Y[:encoding.shape[0], 2], kind='hex')"
   ]
  },
  {
   "cell_type": "raw",
   "metadata": {
    "collapsed": false
   },
   "source": [
    "sns.jointplot(encoding[:, 3], Y[:encoding.shape[0], 3], kind='hex')"
   ]
  },
  {
   "cell_type": "raw",
   "metadata": {
    "collapsed": false
   },
   "source": [
    "from sklearn.ensemble import RandomForestRegressor\n",
    "from sklearn.linear_model import ElasticNet\n",
    "from sklearn.svm import SVR\n",
    "\n",
    "model = RandomForestRegressor(n_estimators=128)\n",
    "#model = ElasticNet()\n",
    "#model = SVR(kernel='rbf')\n",
    "\n",
    "model.fit(encoding, Y[:encoding.shape[0], 0])"
   ]
  },
  {
   "cell_type": "raw",
   "metadata": {
    "collapsed": true
   },
   "source": [
    "encoding_test = encode([X[test]])[0]\n",
    "Y_pred = model.predict(encoding_test)"
   ]
  },
  {
   "cell_type": "raw",
   "metadata": {
    "collapsed": false
   },
   "source": [
    "#sns.jointplot(Y[test, 0], Y_pred[:, 0])\n",
    "sns.jointplot(Y[test, 0], Y_pred)"
   ]
  },
  {
   "cell_type": "markdown",
   "metadata": {},
   "source": [
    "# New data"
   ]
  },
  {
   "cell_type": "code",
   "execution_count": 15,
   "metadata": {
    "collapsed": false
   },
   "outputs": [
    {
     "data": {
      "text/plain": [
       "5.3689999999999998"
      ]
     },
     "execution_count": 15,
     "metadata": {},
     "output_type": "execute_result"
    }
   ],
   "source": [
    "X_raw[:, :, 1].min()"
   ]
  },
  {
   "cell_type": "code",
   "execution_count": 6,
   "metadata": {
    "collapsed": false
   },
   "outputs": [
    {
     "name": "stderr",
     "output_type": "stream",
     "text": [
      "Loaded data from cached archive.\n"
     ]
    }
   ],
   "source": [
    "import cesium.datasets\n",
    "from keras.utils.np_utils import to_categorical\n",
    "\n",
    "# Discard samples from classes w/ insufficient examples\n",
    "top_classes = ['Classical_Cepheid', 'Semireg_PV', 'Mira', 'RR_Lyrae_FM', 'W_Ursae_Maj', 'LSP', 'RSG']\n",
    "\n",
    "data = cesium.datasets.fetch_asas_training()\n",
    "top_class_inds = np.in1d(data['classes'], top_classes)\n",
    "X_list = [np.c_[t, m, e] for t, m, e in zip(data['times'], data['measurements'], data['errors'])]\n",
    "X_list = [X_list[i] for i in np.where(top_class_inds)[0]]\n",
    "sub_array_list = [np.array_split(x, np.arange(args.n_max, len(x), step=args.n_max)) for x in X_list]\n",
    "sub_array_list = [[el for el in x if len(el) >= args.n_min] for x in sub_array_list]\n",
    "X_list = [el for x in sub_array_list for el in x]\n",
    "\n",
    "classnames, indices = np.unique(data['classes'][top_class_inds], return_inverse=True)\n",
    "y = np.repeat(indices, [len(x) for x in sub_array_list])\n",
    "top_classes = [5, 25, 10, 16, 26,  9, 18]\n",
    "top_class_inds = np.in1d(y, top_classes)\n",
    "Y = to_categorical(y, len(top_classes))\n",
    "\n",
    "X_raw = pad_sequences(X_list, value=np.nan, dtype='float', padding='post')\n",
    "X, scale_params = preprocess(X_raw, args.m_max)\n",
    "\n",
    "# Remove errors\n",
    "X = X[:, :, :2]"
   ]
  },
  {
   "cell_type": "code",
   "execution_count": 7,
   "metadata": {
    "collapsed": false
   },
   "outputs": [],
   "source": [
    "encode_layer = [l for l in model.layers if l.name == 'encoding'][0]\n",
    "inputs = [l for l in model.layers if 'Input' in str(l)]\n",
    "encode = K.function([inputs[0].input, inputs[1].input], [encode_layer.output])\n",
    "encoding, = encode([X, X[:, :, 0:1]])"
   ]
  },
  {
   "cell_type": "code",
   "execution_count": 8,
   "metadata": {
    "collapsed": false
   },
   "outputs": [
    {
     "data": {
      "text/plain": [
       "GridSearchCV(cv=None, error_score='raise',\n",
       "       estimator=RandomForestClassifier(bootstrap=True, class_weight=None, criterion='gini',\n",
       "            max_depth=None, max_features='auto', max_leaf_nodes=None,\n",
       "            min_impurity_split=1e-07, min_samples_leaf=1,\n",
       "            min_samples_split=2, min_weight_fraction_leaf=0.0,\n",
       "            n_estimators=10, n_jobs=1, oob_score=False, random_state=None,\n",
       "            verbose=0, warm_start=False),\n",
       "       fit_params={}, iid=True, n_jobs=1,\n",
       "       param_grid={'criterion': ['gini', 'entropy'], 'n_estimators': [100, 250], 'max_features': [0.1, 0.2, 0.3]},\n",
       "       pre_dispatch='2*n_jobs', refit=True, return_train_score=True,\n",
       "       scoring=None, verbose=0)"
      ]
     },
     "execution_count": 8,
     "metadata": {},
     "output_type": "execute_result"
    }
   ],
   "source": [
    "from sklearn.svm import SVC\n",
    "from sklearn.ensemble import RandomForestClassifier\n",
    "from sklearn.model_selection import train_test_split, GridSearchCV\n",
    "\n",
    "enc_train, enc_test, y_train, y_test = train_test_split(encoding, y, test_size=0.25, random_state=42)\n",
    "\n",
    "#asas_model = RandomForestClassifier(n_estimators=128)\n",
    "asas_model = GridSearchCV(RandomForestClassifier(), {'n_estimators': [100, 250], 'criterion': ['gini', 'entropy'], 'max_features': [0.1, 0.2, 0.3]})\n",
    "#asas_model = SVC()\n",
    "asas_model.fit(enc_train, y_train)"
   ]
  },
  {
   "cell_type": "code",
   "execution_count": 9,
   "metadata": {
    "collapsed": false
   },
   "outputs": [
    {
     "name": "stdout",
     "output_type": "stream",
     "text": [
      "Training score: 100.0%\n",
      "Test score: 56.69781931464174%\n"
     ]
    }
   ],
   "source": [
    "print(\"Training score: {}%\".format(100 * asas_model.score(enc_train, y_train)))\n",
    "print(\"Test score: {}%\".format(100 * asas_model.score(enc_test, y_test)))"
   ]
  }
 ],
 "metadata": {
  "anaconda-cloud": {},
  "kernelspec": {
   "display_name": "Python 3",
   "language": "python",
   "name": "python3"
  },
  "language_info": {
   "codemirror_mode": {
    "name": "ipython",
    "version": 3
   },
   "file_extension": ".py",
   "mimetype": "text/x-python",
   "name": "python",
   "nbconvert_exporter": "python",
   "pygments_lexer": "ipython3",
   "version": "3.5.2"
  }
 },
 "nbformat": 4,
 "nbformat_minor": 1
}
