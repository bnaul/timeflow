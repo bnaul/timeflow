{
 "cells": [
  {
   "cell_type": "code",
   "execution_count": 1,
   "metadata": {
    "collapsed": false
   },
   "outputs": [],
   "source": [
    "import numpy as np\n",
    "import matplotlib.pyplot as plt\n",
    "import seaborn as sns\n",
    "%matplotlib inline\n",
    "plt.rcParams['figure.figsize'] = 9, 6\n",
    "%load_ext autoreload\n",
    "%autoreload 2\n",
    "import sample_data\n",
    "\n",
    "np.random.seed(0)\n",
    "N_train = 5000; N_test = 1000\n",
    "N = N_train + N_test\n",
    "train = np.arange(N_train); test = np.arange(N_test) + N_train\n",
    "n_min = 60; n_max = 60\n",
    "#t_max = 50.\n",
    "\n",
    "X, y = sample_data.synthetic_control(N, n_min, n_max, even=True, sigma=0.0)"
   ]
  },
  {
   "cell_type": "code",
   "execution_count": 2,
   "metadata": {
    "collapsed": false
   },
   "outputs": [
    {
     "data": {
      "image/png": "[encoded data removed]",
      "text/plain": [
       "<matplotlib.figure.Figure at 0x7f3528663048>"
      ]
     },
     "metadata": {},
     "output_type": "display_data"
    }
   ],
   "source": [
    "fig, ax = plt.subplots(2, 3, sharey=True)\n",
    "for j in range(6):\n",
    "    i = np.where(y == j)[0][0]\n",
    "    ax.ravel()[j].plot(np.linspace(0, n_max, n_max), X[i], 'o')\n",
    "#    ax.ravel()[j].plot(X[i][:, 0], X[i][:, 1], 'o')\n",
    "    ax.ravel()[j].set(xlabel=\"t\", ylabel=\"y\")"
   ]
  },
  {
   "cell_type": "code",
   "execution_count": 3,
   "metadata": {
    "collapsed": false
   },
   "outputs": [
    {
     "name": "stderr",
     "output_type": "stream",
     "text": [
      "Using TensorFlow backend.\n"
     ]
    }
   ],
   "source": [
    "from keras.models import Sequential\n",
    "from keras.layers import Dense, TimeDistributed, Activation, LSTM, Dropout\n",
    "from keras.optimizers import Adam\n",
    "from keras.callbacks import ProgbarLogger, TensorBoard\n",
    "\n",
    "lstm_size = 128\n",
    "lr = 1e-2\n",
    "\n",
    "model = Sequential([\n",
    "        LSTM(lstm_size, input_dim=1, input_length=n_max, return_sequences=True),\n",
    "#        Dropout(0.25),\n",
    "#        LSTM(128, return_sequences=True),\n",
    "#        Dropout(0.5),\n",
    "        TimeDistributed(Dense(1)),\n",
    "        Activation('linear'),\n",
    "])\n",
    "adam = Adam(lr=lr)\n",
    "model.compile(optimizer=adam, loss='mse', metrics=[])#'accuracy'])"
   ]
  },
  {
   "cell_type": "code",
   "execution_count": 4,
   "metadata": {
    "collapsed": false
   },
   "outputs": [],
   "source": [
    "#!rm -rf /tmp/keras_logs/*"
   ]
  },
  {
   "cell_type": "code",
   "execution_count": 5,
   "metadata": {
    "collapsed": false
   },
   "outputs": [
    {
     "name": "stdout",
     "output_type": "stream",
     "text": [
      "auto_even_128_1m02_nodrop\n",
      "Train on 5000 samples, validate on 1000 samples\n",
      "Epoch 1/50\n",
      "Epoch 1/50\n",
      "5000/5000 [==============================] - 5s - loss: 404.7634 - val_loss: 95.0024\n",
      "5000/5000 [==============================] - 5s - loss: 404.7634 - val_loss: 95.0024\n",
      "Epoch 2/50\n",
      "Epoch 2/50\n",
      "5000/5000 [==============================] - 2s - loss: 42.7379 - val_loss: 15.9970\n",
      "5000/5000 [==============================] - 2s - loss: 42.7379 - val_loss: 15.9970\n",
      "Epoch 3/50\n",
      "Epoch 3/50\n",
      "5000/5000 [==============================] - 2s - loss: 9.9797 - val_loss: 5.9436\n",
      "5000/5000 [==============================] - 2s - loss: 9.9797 - val_loss: 5.9436\n",
      "Epoch 4/50\n",
      "Epoch 4/50\n",
      "5000/5000 [==============================] - 2s - loss: 4.2532 - val_loss: 3.0625\n",
      "5000/5000 [==============================] - 2s - loss: 4.2532 - val_loss: 3.0625\n",
      "Epoch 5/50\n",
      "Epoch 5/50\n",
      "5000/5000 [==============================] - 2s - loss: 2.4290 - val_loss: 1.9034\n",
      "5000/5000 [==============================] - 2s - loss: 2.4290 - val_loss: 1.9034\n",
      "Epoch 6/50\n",
      "Epoch 6/50\n",
      "5000/5000 [==============================] - 2s - loss: 1.6117 - val_loss: 1.3549\n",
      "5000/5000 [==============================] - 2s - loss: 1.6117 - val_loss: 1.3549\n",
      "Epoch 7/50\n",
      "Epoch 7/50\n",
      "5000/5000 [==============================] - 2s - loss: 1.1827 - val_loss: 1.0280\n",
      "5000/5000 [==============================] - 2s - loss: 1.1827 - val_loss: 1.0280\n",
      "Epoch 8/50\n",
      "Epoch 8/50\n",
      "5000/5000 [==============================] - 3s - loss: 0.9439 - val_loss: 0.8314\n",
      "5000/5000 [==============================] - 3s - loss: 0.9439 - val_loss: 0.8314\n",
      "Epoch 9/50\n",
      "Epoch 9/50\n",
      "5000/5000 [==============================] - 3s - loss: 0.7311 - val_loss: 0.6554\n",
      "5000/5000 [==============================] - 3s - loss: 0.7311 - val_loss: 0.6554\n",
      "Epoch 10/50\n",
      "Epoch 10/50\n",
      "5000/5000 [==============================] - 2s - loss: 0.5859 - val_loss: 0.5350\n",
      "5000/5000 [==============================] - 2s - loss: 0.5859 - val_loss: 0.5350\n",
      "Epoch 11/50\n",
      "Epoch 11/50\n",
      "5000/5000 [==============================] - 2s - loss: 0.4820 - val_loss: 0.4463\n",
      "5000/5000 [==============================] - 2s - loss: 0.4820 - val_loss: 0.4463\n",
      "Epoch 12/50\n",
      "Epoch 12/50\n",
      "5000/5000 [==============================] - 3s - loss: 0.4030 - val_loss: 0.3808\n",
      "5000/5000 [==============================] - 3s - loss: 0.4030 - val_loss: 0.3808\n",
      "Epoch 13/50\n",
      "Epoch 13/50\n",
      "5000/5000 [==============================] - 2s - loss: 0.3614 - val_loss: 0.3250\n",
      "5000/5000 [==============================] - 2s - loss: 0.3614 - val_loss: 0.3250\n",
      "Epoch 14/50\n",
      "Epoch 14/50\n",
      "5000/5000 [==============================] - 2s - loss: 0.2968 - val_loss: 0.2896\n",
      "5000/5000 [==============================] - 2s - loss: 0.2968 - val_loss: 0.2896\n",
      "Epoch 15/50\n",
      "Epoch 15/50\n",
      "5000/5000 [==============================] - 2s - loss: 0.2716 - val_loss: 0.2449\n",
      "5000/5000 [==============================] - 2s - loss: 0.2716 - val_loss: 0.2449\n",
      "Epoch 16/50\n",
      "Epoch 16/50\n",
      "5000/5000 [==============================] - 3s - loss: 0.2391 - val_loss: 0.2204\n",
      "5000/5000 [==============================] - 3s - loss: 0.2391 - val_loss: 0.2204\n",
      "Epoch 17/50\n",
      "Epoch 17/50\n",
      "5000/5000 [==============================] - 3s - loss: 0.2135 - val_loss: 0.1919\n",
      "5000/5000 [==============================] - 3s - loss: 0.2135 - val_loss: 0.1919\n",
      "Epoch 18/50\n",
      "Epoch 18/50\n",
      "5000/5000 [==============================] - 3s - loss: 0.1832 - val_loss: 0.1675\n",
      "5000/5000 [==============================] - 3s - loss: 0.1832 - val_loss: 0.1675\n",
      "Epoch 19/50\n",
      "Epoch 19/50\n",
      "5000/5000 [==============================] - 2s - loss: 0.6486 - val_loss: 0.6830\n",
      "5000/5000 [==============================] - 2s - loss: 0.6486 - val_loss: 0.6830\n",
      "Epoch 20/50\n",
      "Epoch 20/50\n",
      "5000/5000 [==============================] - 3s - loss: 0.3821 - val_loss: 0.2666\n",
      "5000/5000 [==============================] - 3s - loss: 0.3821 - val_loss: 0.2666\n",
      "Epoch 21/50\n",
      "Epoch 21/50\n",
      "5000/5000 [==============================] - 2s - loss: 0.2227 - val_loss: 0.2004\n",
      "5000/5000 [==============================] - 2s - loss: 0.2227 - val_loss: 0.2004\n",
      "Epoch 22/50\n",
      "Epoch 22/50\n",
      "5000/5000 [==============================] - 3s - loss: 0.1786 - val_loss: 0.1688\n",
      "5000/5000 [==============================] - 3s - loss: 0.1786 - val_loss: 0.1688\n",
      "Epoch 23/50\n",
      "Epoch 23/50\n",
      "5000/5000 [==============================] - 3s - loss: 0.1527 - val_loss: 0.1448\n",
      "5000/5000 [==============================] - 3s - loss: 0.1527 - val_loss: 0.1448\n",
      "Epoch 24/50\n",
      "Epoch 24/50\n",
      "5000/5000 [==============================] - 3s - loss: 0.1318 - val_loss: 0.1263\n",
      "5000/5000 [==============================] - 3s - loss: 0.1318 - val_loss: 0.1263\n",
      "Epoch 25/50\n",
      "Epoch 25/50\n",
      "5000/5000 [==============================] - 2s - loss: 0.1150 - val_loss: 0.1107\n",
      "5000/5000 [==============================] - 2s - loss: 0.1150 - val_loss: 0.1107\n",
      "Epoch 26/50\n",
      "Epoch 26/50\n",
      "5000/5000 [==============================] - 2s - loss: 0.1013 - val_loss: 0.0972\n",
      "5000/5000 [==============================] - 2s - loss: 0.1013 - val_loss: 0.0972\n",
      "Epoch 27/50\n",
      "Epoch 27/50\n",
      "5000/5000 [==============================] - 2s - loss: 0.0892 - val_loss: 0.0863\n",
      "5000/5000 [==============================] - 2s - loss: 0.0892 - val_loss: 0.0863\n",
      "Epoch 28/50\n",
      "Epoch 28/50\n",
      "5000/5000 [==============================] - 2s - loss: 0.0791 - val_loss: 0.0771\n",
      "5000/5000 [==============================] - 2s - loss: 0.0791 - val_loss: 0.0771\n",
      "Epoch 29/50\n",
      "Epoch 29/50\n",
      "5000/5000 [==============================] - 2s - loss: 0.0706 - val_loss: 0.0687\n",
      "5000/5000 [==============================] - 2s - loss: 0.0706 - val_loss: 0.0687\n",
      "Epoch 30/50\n",
      "Epoch 30/50\n",
      "5000/5000 [==============================] - 2s - loss: 0.0631 - val_loss: 0.0625\n",
      "5000/5000 [==============================] - 2s - loss: 0.0631 - val_loss: 0.0625\n",
      "Epoch 31/50\n",
      "Epoch 31/50\n",
      "5000/5000 [==============================] - 2s - loss: 0.0588 - val_loss: 0.0572\n",
      "5000/5000 [==============================] - 2s - loss: 0.0588 - val_loss: 0.0572\n",
      "Epoch 32/50\n",
      "Epoch 32/50\n",
      "5000/5000 [==============================] - 2s - loss: 0.0514 - val_loss: 0.0500\n",
      "5000/5000 [==============================] - 2s - loss: 0.0514 - val_loss: 0.0500\n",
      "Epoch 33/50\n",
      "Epoch 33/50\n",
      "5000/5000 [==============================] - 2s - loss: 0.0466 - val_loss: 0.0456\n",
      "5000/5000 [==============================] - 2s - loss: 0.0466 - val_loss: 0.0456\n",
      "Epoch 34/50\n",
      "Epoch 34/50\n",
      "5000/5000 [==============================] - 2s - loss: 0.0440 - val_loss: 0.0437\n",
      "5000/5000 [==============================] - 2s - loss: 0.0440 - val_loss: 0.0437\n",
      "Epoch 35/50\n",
      "Epoch 35/50\n",
      "5000/5000 [==============================] - 2s - loss: 0.0388 - val_loss: 0.0417\n",
      "5000/5000 [==============================] - 2s - loss: 0.0388 - val_loss: 0.0417\n",
      "Epoch 36/50\n",
      "Epoch 36/50\n",
      "5000/5000 [==============================] - 2s - loss: 0.0476 - val_loss: 0.0398\n",
      "5000/5000 [==============================] - 2s - loss: 0.0476 - val_loss: 0.0398\n",
      "Epoch 37/50\n",
      "Epoch 37/50\n",
      "5000/5000 [==============================] - 2s - loss: 0.0329 - val_loss: 0.0316\n",
      "5000/5000 [==============================] - 2s - loss: 0.0329 - val_loss: 0.0316\n",
      "Epoch 38/50\n",
      "Epoch 38/50\n",
      "5000/5000 [==============================] - 2s - loss: 0.0292 - val_loss: 0.0286\n",
      "5000/5000 [==============================] - 2s - loss: 0.0292 - val_loss: 0.0286\n",
      "Epoch 39/50\n",
      "Epoch 39/50\n",
      "5000/5000 [==============================] - 3s - loss: 0.0267 - val_loss: 0.0263\n",
      "5000/5000 [==============================] - 3s - loss: 0.0267 - val_loss: 0.0263\n",
      "Epoch 40/50\n",
      "Epoch 40/50\n",
      "5000/5000 [==============================] - 2s - loss: 0.0385 - val_loss: 0.0299\n",
      "5000/5000 [==============================] - 2s - loss: 0.0385 - val_loss: 0.0299\n",
      "Epoch 41/50\n",
      "Epoch 41/50\n",
      "5000/5000 [==============================] - 2s - loss: 0.0270 - val_loss: 0.0231\n",
      "5000/5000 [==============================] - 2s - loss: 0.0270 - val_loss: 0.0231\n",
      "Epoch 42/50\n",
      "Epoch 42/50\n",
      "5000/5000 [==============================] - 3s - loss: 0.0215 - val_loss: 0.0210\n",
      "5000/5000 [==============================] - 3s - loss: 0.0215 - val_loss: 0.0210\n",
      "Epoch 43/50\n",
      "Epoch 43/50\n",
      "5000/5000 [==============================] - 3s - loss: 0.0195 - val_loss: 0.0194\n",
      "5000/5000 [==============================] - 3s - loss: 0.0195 - val_loss: 0.0194\n",
      "Epoch 44/50\n",
      "Epoch 44/50\n",
      "5000/5000 [==============================] - 3s - loss: 0.0236 - val_loss: 0.0447\n",
      "5000/5000 [==============================] - 3s - loss: 0.0236 - val_loss: 0.0447\n",
      "Epoch 45/50\n",
      "Epoch 45/50\n",
      "5000/5000 [==============================] - 2s - loss: 0.0252 - val_loss: 0.0171\n",
      "5000/5000 [==============================] - 2s - loss: 0.0252 - val_loss: 0.0171\n",
      "Epoch 46/50\n",
      "Epoch 46/50\n",
      "5000/5000 [==============================] - 2s - loss: 0.0178 - val_loss: 0.0207\n",
      "5000/5000 [==============================] - 2s - loss: 0.0178 - val_loss: 0.0207\n",
      "Epoch 47/50\n",
      "Epoch 47/50\n",
      "5000/5000 [==============================] - 2s - loss: 0.0161 - val_loss: 0.0147\n",
      "5000/5000 [==============================] - 2s - loss: 0.0161 - val_loss: 0.0147\n",
      "Epoch 48/50\n",
      "Epoch 48/50\n",
      "5000/5000 [==============================] - 2s - loss: 0.0137 - val_loss: 0.0142\n",
      "5000/5000 [==============================] - 2s - loss: 0.0137 - val_loss: 0.0142\n",
      "Epoch 49/50\n",
      "Epoch 49/50\n",
      "5000/5000 [==============================] - 2s - loss: 0.0291 - val_loss: 0.0304\n",
      "5000/5000 [==============================] - 2s - loss: 0.0291 - val_loss: 0.0304\n",
      "Epoch 50/50\n",
      "Epoch 50/50\n",
      "5000/5000 [==============================] - 2s - loss: 0.0175 - val_loss: 0.0137\n",
      "5000/5000 [==============================] - 2s - loss: 0.0175 - val_loss: 0.0137\n"
     ]
    }
   ],
   "source": [
    "import os\n",
    "\n",
    "run = \"auto_even_{}_{:1.0e}_nodrop\".format(lstm_size, lr).replace('e-', 'm')\n",
    "print(run)\n",
    "log_dir = '/tmp/keras_logs/{}'.format(run)\n",
    "!rm -rf $log_dir\n",
    "#if os.path.exists(log_dir):\n",
    "#    raise Exception(\"Log directory already exists, not overwriting\")\n",
    "hist = model.fit(X[train], X[train], nb_epoch=50, batch_size=200,\n",
    "                 validation_split=0.2,\n",
    "                 callbacks=[ProgbarLogger(), TensorBoard(log_dir=log_dir)])"
   ]
  },
  {
   "cell_type": "code",
   "execution_count": 6,
   "metadata": {
    "collapsed": false
   },
   "outputs": [
    {
     "name": "stdout",
     "output_type": "stream",
     "text": [
      "CPU times: user 1.67 s, sys: 270 ms, total: 1.94 s\n",
      "Wall time: 1.27 s\n"
     ]
    }
   ],
   "source": [
    "%%time\n",
    "pred = model.predict(X[test])"
   ]
  },
  {
   "cell_type": "code",
   "execution_count": 7,
   "metadata": {
    "collapsed": false
   },
   "outputs": [
    {
     "data": {
      "text/plain": [
       "[<matplotlib.lines.Line2D at 0x7f35285e9550>]"
      ]
     },
     "execution_count": 7,
     "metadata": {},
     "output_type": "execute_result"
    },
    {
     "data": {
      "image/png": "[encoded data removed]",
      "text/plain": [
       "<matplotlib.figure.Figure at 0x7f35285e9780>"
      ]
     },
     "metadata": {},
     "output_type": "display_data"
    }
   ],
   "source": [
    "plt.plot(np.arange(n_max), X[test[0]])\n",
    "plt.plot(np.arange(n_max), pred[0])"
   ]
  }
 ],
 "metadata": {
  "kernelspec": {
   "display_name": "Python 3",
   "language": "python",
   "name": "python3"
  },
  "language_info": {
   "codemirror_mode": {
    "name": "ipython",
    "version": 3
   },
   "file_extension": ".py",
   "mimetype": "text/x-python",
   "name": "python",
   "nbconvert_exporter": "python",
   "pygments_lexer": "ipython3",
   "version": "3.5.1"
  }
 },
 "nbformat": 4,
 "nbformat_minor": 0
}
