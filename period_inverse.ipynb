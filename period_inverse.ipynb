{
 "cells": [
  {
   "cell_type": "code",
   "execution_count": 1,
   "metadata": {
    "collapsed": false
   },
   "outputs": [
    {
     "name": "stderr",
     "output_type": "stream",
     "text": [
      "Using TensorFlow backend.\n"
     ]
    },
    {
     "name": "stdout",
     "output_type": "stream",
     "text": [
      "(55000, 250, 1) (55000, 4)\n"
     ]
    }
   ],
   "source": [
    "import numpy as np\n",
    "import matplotlib.pyplot as plt\n",
    "import seaborn as sns\n",
    "%matplotlib inline\n",
    "plt.rcParams['figure.figsize'] = 9, 6\n",
    "%load_ext autoreload\n",
    "%autoreload 2\n",
    "import sample_data\n",
    "\n",
    "np.random.seed(0)\n",
    "N_train = 50000; N_test = 5000\n",
    "N = N_train + N_test\n",
    "train = np.arange(N_train); test = np.arange(N_test) + N_train\n",
    "n_min = 250; n_max = 250\n",
    "\n",
    "X, Y = sample_data.periodic(N, n_min, n_max, t_max=2*np.pi, even=True,\n",
    "                            A_shape=5., noise_sigma=2e-9, w_min=0.1,\n",
    "                            w_max=1.)\n",
    "X = X[:, :, 1:2]\n",
    "print(X.shape, Y.shape)"
   ]
  },
  {
   "cell_type": "code",
   "execution_count": 4,
   "metadata": {
    "collapsed": false
   },
   "outputs": [
    {
     "name": "stdout",
     "output_type": "stream",
     "text": [
      "[[ 0.59393215  1.52030607  4.94587978  1.31535658]\n",
      " [ 0.74367043  0.64430948  4.01291697  0.25835982]\n",
      " [ 0.64248704  1.30677354  0.15818252  0.45979868]\n",
      " [ 0.59039486  1.33445051  4.16907245  1.0294514 ]\n",
      " [ 0.48128932  0.73593862  1.57674363 -0.88478997]\n",
      " [ 0.6813047   0.7070844   3.5807295   0.61928019]]\n"
     ]
    },
    {
     "data": {
      "image/png": "[encoded data removed]",
      "text/plain": [
       "<matplotlib.figure.Figure at 0x7fed8d8cf160>"
      ]
     },
     "metadata": {},
     "output_type": "display_data"
    }
   ],
   "source": [
    "fig, ax = plt.subplots(2, 3, sharey=True)\n",
    "for j in range(6):\n",
    "#    i = np.where(y == j)[0][0]\n",
    "    i = j\n",
    "    ax.ravel()[j].plot(np.linspace(0, n_max, n_max), X[i], 'o')\n",
    "#    ax.ravel()[j].plot(X[i][:, 0], X[i][:, 1], 'o')\n",
    "    ax.ravel()[j].set(xlabel=\"t\", ylabel=\"y\")\n",
    "print(Y[0:6, :])"
   ]
  },
  {
   "cell_type": "code",
   "execution_count": 3,
   "metadata": {
    "collapsed": true
   },
   "outputs": [],
   "source": [
    "from keras.callbacks import Callback\n",
    "from IPython.core.display import clear_output\n",
    "\n",
    "class ClearOutput(Callback):\n",
    "    def on_epoch_end(self, epoch, logs={}):\n",
    "        clear_output(wait=True)"
   ]
  },
  {
   "cell_type": "code",
   "execution_count": null,
   "metadata": {
    "collapsed": false
   },
   "outputs": [],
   "source": [
    "import os\n",
    "import tensorflow as tf\n",
    "from keras import backend as K\n",
    "from keras.layers import (Input, Dense, TimeDistributed, Activation, LSTM,\n",
    "                          Dropout, merge, Reshape, Flatten, RepeatVector)\n",
    "from keras.models import Model, Sequential\n",
    "from keras.optimizers import Adam\n",
    "from keras.callbacks import ProgbarLogger, TensorBoard\n",
    "from keras.utils.visualize_util import model_to_dot\n",
    "from IPython.display import clear_output, SVG, display\n",
    "\n",
    "def even_lstm_sine_wave(lstm_size, num_layers, drop_frac, lr):\n",
    "    gpu_opts = tf.ConfigProto(gpu_options=tf.GPUOptions(\n",
    "            per_process_gpu_memory_fraction=gpu_frac))\n",
    "    sess = tf.Session(config=gpu_opts)\n",
    "#    os.environ['CUDA_VISIBLE_DEVICES'] = ''\n",
    "#    sess = tf.Session()\n",
    "\n",
    "    K.set_session(sess)\n",
    "    run = \"lstm_{:03d}_x{}_{:1.0e}_drop{}\".format(lstm_size, num_layers, lr, drop_frac).replace('e-', 'm').replace('.', '')\n",
    "    print(run)\n",
    "    model = Sequential()\n",
    "    model.add(LSTM(lstm_size, input_shape=(n_max, X.shape[-1]),\n",
    "                   return_sequences=(num_layers > 1)))\n",
    "    for i in range(1, num_layers):\n",
    "        model.add(Dropout(drop_frac))\n",
    "        model.add(LSTM(lstm_size, return_sequences=True))\n",
    "    adam = Adam(lr=lr)\n",
    "    model.compile(optimizer=adam, loss='mse', metrics=[])\n",
    "\n",
    "#    model_dot = model_to_dot(model).create(prog='dot', format='svg')\n",
    "#    print('{} MB'.format(model.count_params() * np.dtype('float32').itemsize / 1e6))\n",
    "#    print(model.summary())\n",
    "#    display(SVG(model_dot))\n",
    "\n",
    "    log_dir = os.path.expanduser('~/Dropbox/Documents/timeflow/keras_logs/period/{}'.format(run))\n",
    "    !rm -rf $log_dir\n",
    "    history = model.fit(Y[train], X[train], \n",
    "                         nb_epoch=nb_epoch, batch_size=batch_size, validation_split=0.2,\n",
    "                         callbacks=[ProgbarLogger(), TensorBoard(log_dir=log_dir, write_graph=False)])\n",
    "    model.save_weights(os.path.join(log_dir, 'weights.h5'), overwrite=True)\n",
    "    return (run, history, model)"
   ]
  },
  {
   "cell_type": "code",
   "execution_count": null,
   "metadata": {
    "collapsed": false
   },
   "outputs": [],
   "source": [
    "from itertools import product\n",
    "from joblib import Parallel, delayed\n",
    "\n",
    "batch_size = 500\n",
    "nb_epoch = 50\n",
    "gpu_frac = 1.0\n",
    "            \n",
    "#Parallel(n_jobs=12)(delayed(even_lstm_period_estimator)(128, num_layers, drop_frac, 2e-3)\n",
    "#                   for num_layers, drop_frac in product([1, 2, 3], [0.0, 0.25, 0.5]))\n",
    "for num_layers in [1, 2, 3]:\n",
    "    for drop_frac in [0.0, 0.25, 0.5]:\n",
    "        run, history, model = even_lstm_period_estimator(128, num_layers, \n",
    "                                                         drop_frac, 2e-3)\n",
    "        clear_output()"
   ]
  },
  {
   "cell_type": "code",
   "execution_count": null,
   "metadata": {
    "collapsed": false
   },
   "outputs": [],
   "source": [
    "%%time\n",
    "pred_keras = model.predict(X[test]).ravel()"
   ]
  },
  {
   "cell_type": "code",
   "execution_count": null,
   "metadata": {
    "collapsed": false
   },
   "outputs": [],
   "source": [
    "%%time\n",
    "from gatspy.periodic import LombScargle, LombScargleFast\n",
    "\n",
    "pred_gatspy = np.zeros(N_test)\n",
    "for i in range(N_test):\n",
    "    opt_args = {'period_range': (0.1, 0.9 * (X[test[i]][-1, 0] - X[test[i]][0, 0])), 'quiet': True}\n",
    "    model_gatspy = LombScargle(fit_period=True, optimizer_kwds=opt_args)#, silence_warnings=True)\n",
    "    pred_gatspy[i] = 1. / model_gatspy.fit(X[test[i]][:, 0], X[test[i]][:, 1]).best_period"
   ]
  },
  {
   "cell_type": "code",
   "execution_count": null,
   "metadata": {
    "collapsed": false
   },
   "outputs": [],
   "source": [
    "model_gatspy._best_params(2 * np.pi / model_gatspy.best_period)"
   ]
  },
  {
   "cell_type": "code",
   "execution_count": null,
   "metadata": {
    "collapsed": false
   },
   "outputs": [],
   "source": [
    "model_gatspy._"
   ]
  },
  {
   "cell_type": "code",
   "execution_count": null,
   "metadata": {
    "collapsed": false
   },
   "outputs": [],
   "source": [
    "sns.jointplot(pred_keras - testY, pred_gatspy - testY)"
   ]
  },
  {
   "cell_type": "code",
   "execution_count": null,
   "metadata": {
    "collapsed": false
   },
   "outputs": [],
   "source": [
    "print(np.median((pred_keras - testY) ** 2))\n",
    "print(np.median((pred_gatspy - testY) ** 2))"
   ]
  }
 ],
 "metadata": {
  "kernelspec": {
   "display_name": "Python 3",
   "language": "python",
   "name": "python3"
  },
  "language_info": {
   "codemirror_mode": {
    "name": "ipython",
    "version": 3
   },
   "file_extension": ".py",
   "mimetype": "text/x-python",
   "name": "python",
   "nbconvert_exporter": "python",
   "pygments_lexer": "ipython3",
   "version": "3.5.1"
  }
 },
 "nbformat": 4,
 "nbformat_minor": 1
}
