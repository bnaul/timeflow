{
 "cells": [
  {
   "cell_type": "code",
   "execution_count": 1,
   "metadata": {
    "collapsed": false
   },
   "outputs": [
    {
     "name": "stderr",
     "output_type": "stream",
     "text": [
      "Using TensorFlow backend.\n"
     ]
    }
   ],
   "source": [
    "import numpy as np\n",
    "import matplotlib.pyplot as plt\n",
    "import seaborn as sns\n",
    "%matplotlib inline\n",
    "plt.rcParams['figure.figsize'] = 9, 6\n",
    "%load_ext autoreload\n",
    "%autoreload 2\n",
    "\n",
    "from keras.preprocessing.sequence import pad_sequences\n",
    "from DeepHeart.deepheart.parser import PCG\n",
    "\n",
    "np.random.seed(0)\n",
    "pcg_raw = PCG('data/deepheart/', doFFT=False)\n",
    "pcg_raw.initialize_wav_data()\n",
    "X = pcg_raw.X\n",
    "Y = pcg_raw.y\n",
    "y = (Y[:, 0] == 1).astype('int')\n",
    "n_min = min(len(x) for x in X)\n",
    "n_max = max(len(x) for x in X)\n",
    "X = pad_sequences(X, maxlen=n_max, value=-1.)"
   ]
  },
  {
   "cell_type": "code",
   "execution_count": null,
   "metadata": {
    "collapsed": false
   },
   "outputs": [
    {
     "data": {
      "image/png": "[encoded data removed]",
      "text/plain": [
       "<matplotlib.figure.Figure at 0x7ff1306bd9e8>"
      ]
     },
     "metadata": {},
     "output_type": "display_data"
    }
   ],
   "source": [
    "fig, ax = plt.subplots(2, 3, sharey=True)\n",
    "for j in range(3):\n",
    "    i = np.where(y == 1)[0][0]\n",
    "    ax[0][j].plot(X[i], '-')\n",
    "    ax[0][j].set(xlabel=\"t\", ylabel=\"y\")\n",
    "    i = np.where(y == 0)[0][0]\n",
    "    ax[1][j].plot(X[i], '-')\n",
    "    ax[1][j].set(xlabel=\"t\", ylabel=\"y\")"
   ]
  },
  {
   "cell_type": "code",
   "execution_count": null,
   "metadata": {
    "collapsed": false
   },
   "outputs": [],
   "source": [
    "from keras import backend as K\n",
    "from keras.utils.np_utils import to_categorical\n",
    "\n",
    "import keras_util as ku\n",
    "from classification import even_gru_classifier as gru\n",
    "\n",
    "K.set_session(ku.limited_memory_session(0.75, 0))\n",
    "model_type = 'deepheart'\n",
    "size = 64\n",
    "num_layers = 3\n",
    "drop_frac = 0.25\n",
    "lr = 2e-3\n",
    "model = gru(output_len=Y.shape[1], n_step=n_max, size=size, num_layers=num_layers, drop_frac=drop_frac)\n",
    "run = \"{}_{:03d}_x{}_{:1.0e}_drop{}\".format(model_type, size, num_layers, lr, int(100 * drop_frac)).replace('e-', 'm')\n",
    "history = ku.train_and_log(X[train], Y[train], run, model)"
   ]
  }
 ],
 "metadata": {
  "kernelspec": {
   "display_name": "Python 3",
   "language": "python",
   "name": "python3"
  },
  "language_info": {
   "codemirror_mode": {
    "name": "ipython",
    "version": 3
   },
   "file_extension": ".py",
   "mimetype": "text/x-python",
   "name": "python",
   "nbconvert_exporter": "python",
   "pygments_lexer": "ipython3",
   "version": "3.5.1"
  }
 },
 "nbformat": 4,
 "nbformat_minor": 1
}
